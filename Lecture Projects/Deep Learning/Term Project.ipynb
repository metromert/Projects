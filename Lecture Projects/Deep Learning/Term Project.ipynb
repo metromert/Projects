{
 "cells": [
  {
   "cell_type": "markdown",
   "id": "c4acbd38",
   "metadata": {},
   "source": [
    "<h1 style=\"margin-bottom:0\"><center>DI 504 - Foundations of Deep Learning</center></h1>\n",
    "<h2 style=\"margin-top:0\"><center>Term Project</center></h2>\n",
    "<h3 style=\"margin-top:0\"><center>Mert Mecit/ 2149219</center></h3>\n",
    "<br>"
   ]
  },
  {
   "cell_type": "markdown",
   "id": "79a646f3",
   "metadata": {},
   "source": [
    "First, I will import the libraries that will be used throughout the project."
   ]
  },
  {
   "cell_type": "code",
   "execution_count": 1,
   "id": "c91a83b4",
   "metadata": {
    "scrolled": false
   },
   "outputs": [],
   "source": [
    "import numpy as np\n",
    "import pandas as pd\n",
    "import matplotlib.pyplot as plt\n",
    "import seaborn as sns"
   ]
  },
  {
   "cell_type": "markdown",
   "id": "440c5b6a",
   "metadata": {},
   "source": [
    "In this part, I will explain the dataset I am using. This dataset is called AG News. This dataset is mainly used for classifying news based on its title and content. It classifies data into 4 categories:\n",
    "1.\tWorld\n",
    "2.\tSports\n",
    "3.\tBusiness\n",
    "4.\tSci/Tech.\n",
    "\t\n",
    "It has three columns, class, title, and description (content). This dataset originally consists of more than 1 million news from more than 2000 resources and took 1 year to complete.\n",
    "\n",
    "Before exploring it, I should mention that, for my analysis, I have combined title and description into one variable to save time and called it “Description”"
   ]
  },
  {
   "cell_type": "code",
   "execution_count": 2,
   "id": "ea2d3d15",
   "metadata": {},
   "outputs": [
    {
     "data": {
      "text/html": [
       "<div>\n",
       "<style scoped>\n",
       "    .dataframe tbody tr th:only-of-type {\n",
       "        vertical-align: middle;\n",
       "    }\n",
       "\n",
       "    .dataframe tbody tr th {\n",
       "        vertical-align: top;\n",
       "    }\n",
       "\n",
       "    .dataframe thead th {\n",
       "        text-align: right;\n",
       "    }\n",
       "</style>\n",
       "<table border=\"1\" class=\"dataframe\">\n",
       "  <thead>\n",
       "    <tr style=\"text-align: right;\">\n",
       "      <th></th>\n",
       "      <th>Index</th>\n",
       "      <th>Description</th>\n",
       "    </tr>\n",
       "  </thead>\n",
       "  <tbody>\n",
       "    <tr>\n",
       "      <th>0</th>\n",
       "      <td>3</td>\n",
       "      <td>Wall St. Bears Claw Back Into the Black (Reute...</td>\n",
       "    </tr>\n",
       "    <tr>\n",
       "      <th>1</th>\n",
       "      <td>3</td>\n",
       "      <td>Carlyle Looks Toward Commercial Aerospace (Reu...</td>\n",
       "    </tr>\n",
       "    <tr>\n",
       "      <th>2</th>\n",
       "      <td>3</td>\n",
       "      <td>Oil and Economy Cloud Stocks' Outlook (Reuters...</td>\n",
       "    </tr>\n",
       "    <tr>\n",
       "      <th>3</th>\n",
       "      <td>3</td>\n",
       "      <td>Iraq Halts Oil Exports from Main Southern Pipe...</td>\n",
       "    </tr>\n",
       "    <tr>\n",
       "      <th>4</th>\n",
       "      <td>3</td>\n",
       "      <td>Oil prices soar to all-time record, posing new...</td>\n",
       "    </tr>\n",
       "  </tbody>\n",
       "</table>\n",
       "</div>"
      ],
      "text/plain": [
       "   Index                                        Description\n",
       "0      3  Wall St. Bears Claw Back Into the Black (Reute...\n",
       "1      3  Carlyle Looks Toward Commercial Aerospace (Reu...\n",
       "2      3  Oil and Economy Cloud Stocks' Outlook (Reuters...\n",
       "3      3  Iraq Halts Oil Exports from Main Southern Pipe...\n",
       "4      3  Oil prices soar to all-time record, posing new..."
      ]
     },
     "execution_count": 2,
     "metadata": {},
     "output_type": "execute_result"
    }
   ],
   "source": [
    "df = pd.read_csv(\"train.csv\")\n",
    "df['Description'] = df['Title'] + \" \" + df['Description']\n",
    "df = df.drop(['Title'], axis=1)\n",
    "df = df.rename({'Class Index': 'Index', 'Description': 'Description'}, axis=1)\n",
    "df.head(5)"
   ]
  },
  {
   "cell_type": "markdown",
   "id": "720d6c39",
   "metadata": {},
   "source": [
    "As you can see, it is a pretty simple dataset. It has index number and a description. Description consists of both title and content."
   ]
  },
  {
   "cell_type": "markdown",
   "id": "ae4cb4a3",
   "metadata": {},
   "source": [
    "When we check the descriptive statistics of the variable index and value counts of the “description” value:"
   ]
  },
  {
   "cell_type": "code",
   "execution_count": 3,
   "id": "2eac35b5",
   "metadata": {},
   "outputs": [
    {
     "data": {
      "text/plain": [
       "Counter({3: 30000, 4: 30000, 2: 30000, 1: 30000})"
      ]
     },
     "execution_count": 3,
     "metadata": {},
     "output_type": "execute_result"
    }
   ],
   "source": [
    "from collections import Counter\n",
    "z = df.Index\n",
    "Counter(z)"
   ]
  },
  {
   "cell_type": "code",
   "execution_count": 4,
   "id": "ba25a57a",
   "metadata": {},
   "outputs": [
    {
     "data": {
      "text/html": [
       "<div>\n",
       "<style scoped>\n",
       "    .dataframe tbody tr th:only-of-type {\n",
       "        vertical-align: middle;\n",
       "    }\n",
       "\n",
       "    .dataframe tbody tr th {\n",
       "        vertical-align: top;\n",
       "    }\n",
       "\n",
       "    .dataframe thead th {\n",
       "        text-align: right;\n",
       "    }\n",
       "</style>\n",
       "<table border=\"1\" class=\"dataframe\">\n",
       "  <thead>\n",
       "    <tr style=\"text-align: right;\">\n",
       "      <th></th>\n",
       "      <th>Index</th>\n",
       "      <th>Words</th>\n",
       "    </tr>\n",
       "  </thead>\n",
       "  <tbody>\n",
       "    <tr>\n",
       "      <th>count</th>\n",
       "      <td>120000.000000</td>\n",
       "      <td>120000.000000</td>\n",
       "    </tr>\n",
       "    <tr>\n",
       "      <th>mean</th>\n",
       "      <td>2.500000</td>\n",
       "      <td>37.844617</td>\n",
       "    </tr>\n",
       "    <tr>\n",
       "      <th>std</th>\n",
       "      <td>1.118039</td>\n",
       "      <td>10.088702</td>\n",
       "    </tr>\n",
       "    <tr>\n",
       "      <th>min</th>\n",
       "      <td>1.000000</td>\n",
       "      <td>4.000000</td>\n",
       "    </tr>\n",
       "    <tr>\n",
       "      <th>25%</th>\n",
       "      <td>1.750000</td>\n",
       "      <td>32.000000</td>\n",
       "    </tr>\n",
       "    <tr>\n",
       "      <th>50%</th>\n",
       "      <td>2.500000</td>\n",
       "      <td>37.000000</td>\n",
       "    </tr>\n",
       "    <tr>\n",
       "      <th>75%</th>\n",
       "      <td>3.250000</td>\n",
       "      <td>43.000000</td>\n",
       "    </tr>\n",
       "    <tr>\n",
       "      <th>max</th>\n",
       "      <td>4.000000</td>\n",
       "      <td>177.000000</td>\n",
       "    </tr>\n",
       "  </tbody>\n",
       "</table>\n",
       "</div>"
      ],
      "text/plain": [
       "               Index          Words\n",
       "count  120000.000000  120000.000000\n",
       "mean        2.500000      37.844617\n",
       "std         1.118039      10.088702\n",
       "min         1.000000       4.000000\n",
       "25%         1.750000      32.000000\n",
       "50%         2.500000      37.000000\n",
       "75%         3.250000      43.000000\n",
       "max         4.000000     177.000000"
      ]
     },
     "execution_count": 4,
     "metadata": {},
     "output_type": "execute_result"
    }
   ],
   "source": [
    "df['Words'] = df['Description'].str.split().str.len()\n",
    "df.describe()"
   ]
  },
  {
   "cell_type": "markdown",
   "id": "d0bf900b",
   "metadata": {},
   "source": [
    "Descriptive statistics here tells us important things here. First of all, these are the descriptive statistics for our train dataset. It consists of 120000 rows, which is good because, in deep learning models, we generally want to use a high amount of data. <br>\n",
    "\n",
    "One important insight we can get from the table below is, all of our indexes have the same amount of data. This is crucial as if there were to be a significant imbalance, I needed to apply different methods that work well with imbalanced data or somehow (for example via augmentation) I would need to balance my data to proceed. <br>\n",
    "    \n",
    "The last thing I want to mention about the descriptive statistics is in the description part. We can see here, on average, I have 37 words in the description part. This can affect our runtimes significantly and compared to other datasets, we can say this is fairly low.\n"
   ]
  },
  {
   "cell_type": "markdown",
   "id": "c83deb89",
   "metadata": {},
   "source": [
    "Now, we can proceed to build model.\n",
    "\n",
    "First, I will import wandb."
   ]
  },
  {
   "cell_type": "code",
   "execution_count": 5,
   "id": "5d816433",
   "metadata": {},
   "outputs": [
    {
     "name": "stderr",
     "output_type": "stream",
     "text": [
      "wandb: Currently logged in as: metromert (use `wandb login --relogin` to force relogin)\n"
     ]
    },
    {
     "data": {
      "text/plain": [
       "True"
      ]
     },
     "execution_count": 5,
     "metadata": {},
     "output_type": "execute_result"
    }
   ],
   "source": [
    "import wandb\n",
    "from wandb.keras import WandbCallback\n",
    "\n",
    "wandb.login()"
   ]
  },
  {
   "cell_type": "markdown",
   "id": "75a5036e",
   "metadata": {},
   "source": [
    "Now, we can create our data. "
   ]
  },
  {
   "cell_type": "code",
   "execution_count": 6,
   "id": "362f456e",
   "metadata": {},
   "outputs": [],
   "source": [
    "train_data = pd.read_csv(\"train.csv\")\n",
    "test_data = pd.read_csv(\"test.csv\")\n",
    "\n",
    "train_data.columns = ['Index', 'Title', 'Text']\n",
    "test_data.columns = ['Index', 'Title', 'Text']\n",
    "\n",
    "X_train = train_data['Title'] + \" \" + train_data['Text'] \n",
    "y_train = train_data['Index'].apply(lambda x: x-1).values \n",
    "\n",
    "x_test = test_data['Title'] + \" \" + test_data['Text']\n",
    "y_test = test_data['Index'].apply(lambda x: x-1).values "
   ]
  },
  {
   "cell_type": "markdown",
   "id": "cafc5679",
   "metadata": {},
   "source": [
    "Also, I will create a max_len variable that keeps maximum length for padding later."
   ]
  },
  {
   "cell_type": "code",
   "execution_count": 7,
   "id": "a389c00a",
   "metadata": {},
   "outputs": [],
   "source": [
    "max_len = X_train.map(lambda x: len(x.split())).max()"
   ]
  },
  {
   "cell_type": "markdown",
   "id": "314e05ce",
   "metadata": {},
   "source": [
    "Now, we can proceed with preprocessing part. We will apply tokenization and padding here.\n",
    "\n",
    "Tokenization is the process of breaking a whole text into smaller parts. It can be done in several ways. One can turn a paragraph into sentences, sentences into words, or words into letters. In our case, it is sentences into words. Also, punctuations are removed from the sentence.\n",
    "\n",
    "To work properly, in a deep learning model, every input has to be in a similar shape and similar size. Padding is crucial in this case as it provided this. You can be sure that your inputs have a similar size. I padded them into their max values."
   ]
  },
  {
   "cell_type": "code",
   "execution_count": 8,
   "id": "d7087836",
   "metadata": {},
   "outputs": [],
   "source": [
    "from tensorflow.keras.preprocessing.text import Tokenizer\n",
    "from tensorflow.keras.preprocessing.sequence import pad_sequences\n",
    "\n",
    "tok = Tokenizer(num_words=10000)\n",
    "tok.fit_on_texts(X_train.values)\n",
    "\n",
    "X_train = tok.texts_to_sequences(X_train)\n",
    "x_test = tok.texts_to_sequences(x_test)\n",
    "\n",
    "X_train = pad_sequences(X_train, maxlen=max_len)\n",
    "x_test = pad_sequences(x_test, maxlen=max_len)"
   ]
  },
  {
   "cell_type": "markdown",
   "id": "876aab35",
   "metadata": {},
   "source": [
    "Start our wandb run."
   ]
  },
  {
   "cell_type": "code",
   "execution_count": 9,
   "id": "093aa431",
   "metadata": {},
   "outputs": [
    {
     "data": {
      "text/html": [
       "\n",
       "                    Syncing run <strong><a href=\"https://wandb.ai/metromert/ag-news/runs/vo4vi9bo\" target=\"_blank\">stoic-shadow-27</a></strong> to <a href=\"https://wandb.ai/metromert/ag-news\" target=\"_blank\">Weights & Biases</a> (<a href=\"https://docs.wandb.com/integrations/jupyter.html\" target=\"_blank\">docs</a>).<br/>\n",
       "\n",
       "                "
      ],
      "text/plain": [
       "<IPython.core.display.HTML object>"
      ]
     },
     "metadata": {},
     "output_type": "display_data"
    }
   ],
   "source": [
    "WANDB_CONFIG = {\n",
    "     'competition': 'AG News Classification Dataset', \n",
    "              '_wandb_kernel': 'neuracort'\n",
    "    }\n",
    "\n",
    "run = wandb.init(project='ag-news', config= WANDB_CONFIG)"
   ]
  },
  {
   "cell_type": "markdown",
   "id": "d9ac8efa",
   "metadata": {},
   "source": [
    "Now, we create our model. Why the specific layers are chosen is written on the project report in a great detail."
   ]
  },
  {
   "cell_type": "code",
   "execution_count": 10,
   "id": "5df1ca97",
   "metadata": {
    "scrolled": true
   },
   "outputs": [],
   "source": [
    "from tensorflow.keras.layers import Embedding, Bidirectional, LSTM, GlobalMaxPooling1D, Dense, Dropout\n",
    "from tensorflow.keras.models import Model, Sequential\n",
    "\n",
    "model = Sequential([\n",
    "        Embedding(10000, 32, input_length = max_len),\n",
    "        Bidirectional(LSTM(128, return_sequences = True)),\n",
    "        Bidirectional(LSTM(64, return_sequences = True)),\n",
    "        GlobalMaxPooling1D(),\n",
    "        Dense(1024),\n",
    "        Dropout(0.5),\n",
    "        Dense(512),\n",
    "        Dropout(0.5),\n",
    "        Dense(256),\n",
    "        Dropout(0.5),\n",
    "        Dense(128),\n",
    "        Dropout(0.5),\n",
    "        Dense(64),\n",
    "        Dropout(0.5),\n",
    "        Dense(32),\n",
    "        Dropout(0.5),\n",
    "        Dense(16),\n",
    "        Dropout(0.5),\n",
    "        Dense(4, activation='softmax')\n",
    "    ])"
   ]
  },
  {
   "cell_type": "markdown",
   "id": "111e6b37",
   "metadata": {},
   "source": [
    "I also added an early stopping mechanism. This will stop the training process whenever it does not see a significant improvement in validation error."
   ]
  },
  {
   "cell_type": "code",
   "execution_count": 11,
   "id": "a73d89ae",
   "metadata": {},
   "outputs": [],
   "source": [
    "from tensorflow.keras.callbacks import EarlyStopping\n",
    "\n",
    "callbacks = [\n",
    "    EarlyStopping(\n",
    "        monitor='val_accuracy',\n",
    "        min_delta=1e-3\n",
    "    ),\n",
    "    WandbCallback()\n",
    "]"
   ]
  },
  {
   "cell_type": "markdown",
   "id": "582e0562",
   "metadata": {},
   "source": [
    "Now, I start the training process."
   ]
  },
  {
   "cell_type": "code",
   "execution_count": 12,
   "id": "a08a0b27",
   "metadata": {},
   "outputs": [
    {
     "name": "stdout",
     "output_type": "stream",
     "text": [
      "Epoch 1/10\n",
      "118/118 [==============================] - 1683s 14s/step - loss: 1.0296 - accuracy: 0.5167 - val_loss: 0.3429 - val_accuracy: 0.8951\n",
      "Epoch 2/10\n",
      "118/118 [==============================] - 2171s 18s/step - loss: 0.4482 - accuracy: 0.8600 - val_loss: 0.3033 - val_accuracy: 0.9079\n"
     ]
    },
    {
     "data": {
      "text/html": [
       "<br/>Waiting for W&B process to finish, PID 16836... <strong style=\"color:green\">(success).</strong>"
      ],
      "text/plain": [
       "<IPython.core.display.HTML object>"
      ]
     },
     "metadata": {},
     "output_type": "display_data"
    },
    {
     "data": {
      "application/vnd.jupyter.widget-view+json": {
       "model_id": "",
       "version_major": 2,
       "version_minor": 0
      },
      "text/plain": [
       "VBox(children=(Label(value=' 17.08MB of 17.08MB uploaded (0.00MB deduped)\\r'), FloatProgress(value=1.0, max=1.…"
      ]
     },
     "metadata": {},
     "output_type": "display_data"
    },
    {
     "data": {
      "text/html": [
       "<style>\n",
       "    table.wandb td:nth-child(1) { padding: 0 10px; text-align: right }\n",
       "    .wandb-row { display: flex; flex-direction: row; flex-wrap: wrap; width: 100% }\n",
       "    .wandb-col { display: flex; flex-direction: column; flex-basis: 100%; flex: 1; padding: 10px; }\n",
       "    </style>\n",
       "<div class=\"wandb-row\"><div class=\"wandb-col\">\n",
       "<h3>Run history:</h3><br/><table class=\"wandb\"><tr><td>accuracy</td><td>▁█</td></tr><tr><td>epoch</td><td>▁█</td></tr><tr><td>loss</td><td>█▁</td></tr><tr><td>val_accuracy</td><td>▁█</td></tr><tr><td>val_loss</td><td>█▁</td></tr></table><br/></div><div class=\"wandb-col\">\n",
       "<h3>Run summary:</h3><br/><table class=\"wandb\"><tr><td>accuracy</td><td>0.85998</td></tr><tr><td>best_epoch</td><td>1</td></tr><tr><td>best_val_loss</td><td>0.30331</td></tr><tr><td>epoch</td><td>1</td></tr><tr><td>loss</td><td>0.44824</td></tr><tr><td>val_accuracy</td><td>0.90789</td></tr><tr><td>val_loss</td><td>0.30331</td></tr></table>\n",
       "</div></div>\n",
       "Synced 6 W&B file(s), 1 media file(s), 0 artifact file(s) and 1 other file(s)\n",
       "<br/>Synced <strong style=\"color:#cdcd00\">stoic-shadow-27</strong>: <a href=\"https://wandb.ai/metromert/ag-news/runs/vo4vi9bo\" target=\"_blank\">https://wandb.ai/metromert/ag-news/runs/vo4vi9bo</a><br/>\n",
       "Find logs at: <code>.\\wandb\\run-20220131_103134-vo4vi9bo\\logs</code><br/>\n"
      ],
      "text/plain": [
       "<IPython.core.display.HTML object>"
      ]
     },
     "metadata": {},
     "output_type": "display_data"
    }
   ],
   "source": [
    "from tensorflow.keras.optimizers import Adam\n",
    "\n",
    "model.compile(loss='sparse_categorical_crossentropy',\n",
    "              optimizer='adam', \n",
    "              metrics=['accuracy']) \n",
    "\n",
    "history = model.fit(X_train, \n",
    "          y_train, \n",
    "          batch_size=1024, \n",
    "          validation_data=(x_test, y_test), \n",
    "          epochs=10, \n",
    "          callbacks=callbacks)\n",
    "\n",
    "wandb.finish()"
   ]
  },
  {
   "cell_type": "markdown",
   "id": "cba930c6",
   "metadata": {},
   "source": [
    "Now, I will upload the model with the best weights (thanks to wandb!)."
   ]
  },
  {
   "cell_type": "code",
   "execution_count": 14,
   "id": "b1e411f3",
   "metadata": {},
   "outputs": [],
   "source": [
    "model.load_weights('model-best.h5')\n",
    "model.save('model.hdf5')"
   ]
  },
  {
   "cell_type": "markdown",
   "id": "30767734",
   "metadata": {},
   "source": [
    "First, I draw my accuracy and loss graphs. Note that it is not much informative because our model ended in just 2 epochs based on our early stopping mechanism."
   ]
  },
  {
   "cell_type": "code",
   "execution_count": 25,
   "id": "8c48532f",
   "metadata": {},
   "outputs": [
    {
     "data": {
      "image/png": "[encoded data removed]",
      "text/plain": [
       "<Figure size 432x288 with 1 Axes>"
      ]
     },
     "metadata": {
      "needs_background": "light"
     },
     "output_type": "display_data"
    }
   ],
   "source": [
    "from matplotlib import pyplot as plt\n",
    "\n",
    "plt.plot(history.history['accuracy'])\n",
    "plt.plot(history.history['val_accuracy'])\n",
    "plt.title('model accuracy')\n",
    "plt.ylabel('accuracy')\n",
    "plt.xlabel('epoch')\n",
    "plt.legend(['train', 'val'], loc='upper left')\n",
    "plt.show()"
   ]
  },
  {
   "cell_type": "code",
   "execution_count": 26,
   "id": "334fe2a7",
   "metadata": {},
   "outputs": [
    {
     "data": {
      "image/png": "[encoded data removed]",
      "text/plain": [
       "<Figure size 432x288 with 1 Axes>"
      ]
     },
     "metadata": {
      "needs_background": "light"
     },
     "output_type": "display_data"
    }
   ],
   "source": [
    "plt.plot(history.history['loss'])\n",
    "plt.plot(history.history['val_loss'])\n",
    "plt.title('model loss')\n",
    "plt.ylabel('loss')\n",
    "plt.xlabel('epoch')\n",
    "plt.legend(['train', 'val'], loc='upper left')\n",
    "plt.show()"
   ]
  },
  {
   "cell_type": "markdown",
   "id": "4da0e0ec",
   "metadata": {},
   "source": [
    "As we can see, even with 2 epochs, we improved our accuracy and decreased the losses significantly."
   ]
  },
  {
   "cell_type": "markdown",
   "id": "404157e2",
   "metadata": {},
   "source": [
    "Lets draw a confusion matrix."
   ]
  },
  {
   "cell_type": "code",
   "execution_count": 15,
   "id": "3223431a",
   "metadata": {
    "scrolled": false
   },
   "outputs": [
    {
     "data": {
      "text/plain": [
       "<Figure size 432x288 with 0 Axes>"
      ]
     },
     "metadata": {},
     "output_type": "display_data"
    },
    {
     "data": {
      "image/png": "[encoded data removed]",
      "text/plain": [
       "<Figure size 1152x864 with 1 Axes>"
      ]
     },
     "metadata": {},
     "output_type": "display_data"
    }
   ],
   "source": [
    "from sklearn.metrics import confusion_matrix\n",
    "from mlxtend.plotting import plot_confusion_matrix\n",
    "\n",
    "preds = [np.argmax(i) for i in model.predict(x_test)]\n",
    "cm  = confusion_matrix(y_test, preds)\n",
    "plt.figure()\n",
    "plot_confusion_matrix(cm, figsize=(16,12), hide_ticks=True, cmap=plt.cm.Reds)\n",
    "plt.show()"
   ]
  },
  {
   "cell_type": "markdown",
   "id": "2a26169b",
   "metadata": {},
   "source": [
    "In world and sports news, the model performs better. Especially in sci/tech news, it performs with an 80% accuracy. However, this can be expected as to whether a sci/tech news is related to business or world is generally cannot be understood easily. Also, sports news are the ones that are barely falsely predicted and this is logical as we generally tend to not confuse sports news with business or sci/tech."
   ]
  },
  {
   "cell_type": "markdown",
   "id": "7d3cf80f",
   "metadata": {},
   "source": [
    "Finally, we can look at some numbers to understand our accuracies."
   ]
  },
  {
   "cell_type": "code",
   "execution_count": 16,
   "id": "58c2f0ec",
   "metadata": {},
   "outputs": [
    {
     "name": "stdout",
     "output_type": "stream",
     "text": [
      "Recall of the model is 0.91\n",
      "Precision of the model is 0.91\n",
      "Accuracy of the model is 0.91\n"
     ]
    }
   ],
   "source": [
    "from sklearn.metrics import confusion_matrix, precision_score, recall_score, accuracy_score\n",
    "\n",
    "print(\"Recall of the model is {:.2f}\".format(recall_score(y_test, preds, average='micro')))\n",
    "print(\"Precision of the model is {:.2f}\".format(precision_score(y_test, preds, average='micro')))\n",
    "print(\"Accuracy of the model is {:.2f}\".format(accuracy_score(y_test, preds)))"
   ]
  },
  {
   "cell_type": "markdown",
   "id": "32d447e3",
   "metadata": {},
   "source": [
    "Recall or correctly predicted positive observations to all observations in the class, precision or positive observations on total positive predictions and accuracy, a weighted average of recall and precision all come out to be 0.91."
   ]
  },
  {
   "cell_type": "markdown",
   "id": "da54c045",
   "metadata": {},
   "source": [
    "Now, I will create a function that I may use for predicting text I create or find online."
   ]
  },
  {
   "cell_type": "code",
   "execution_count": 17,
   "id": "d49efa46",
   "metadata": {},
   "outputs": [],
   "source": [
    "def exampler(text):\n",
    "\n",
    "    categories = ['World', 'Sports', 'Business', 'Sci-Tech']\n",
    "    \n",
    "    test_seq = pad_sequences(tok.texts_to_sequences(text), maxlen=max_len)\n",
    "\n",
    "    test_preds = [categories[np.argmax(i)] for i in model.predict(test_seq)]\n",
    "\n",
    "    for news, label in zip(text, test_preds):\n",
    "        print('{}'.format(label))"
   ]
  },
  {
   "cell_type": "code",
   "execution_count": 18,
   "id": "aa3392b9",
   "metadata": {},
   "outputs": [
    {
     "name": "stdout",
     "output_type": "stream",
     "text": [
      "World\n"
     ]
    }
   ],
   "source": [
    "exampler(['Eminem Terrified As Daughter Begins Dating Man Raised On His Music'])"
   ]
  },
  {
   "cell_type": "code",
   "execution_count": 19,
   "id": "fc384285",
   "metadata": {},
   "outputs": [
    {
     "name": "stdout",
     "output_type": "stream",
     "text": [
      "Business\n"
     ]
    }
   ],
   "source": [
    "exampler(['7 Ways to Make Money While Waiting for Disability Benefits'])"
   ]
  },
  {
   "cell_type": "code",
   "execution_count": 20,
   "id": "42c5ccf7",
   "metadata": {},
   "outputs": [
    {
     "name": "stdout",
     "output_type": "stream",
     "text": [
      "World\n"
     ]
    }
   ],
   "source": [
    "exampler(['10 Signs That You Will NOT Make It As A Successful Photographer'])"
   ]
  },
  {
   "cell_type": "code",
   "execution_count": 21,
   "id": "be823ccf",
   "metadata": {},
   "outputs": [
    {
     "name": "stdout",
     "output_type": "stream",
     "text": [
      "Sci-Tech\n"
     ]
    }
   ],
   "source": [
    "exampler(['Winter Olympics quiz: Test your knowledge of the Games'])"
   ]
  },
  {
   "cell_type": "markdown",
   "id": "f2a37d0f",
   "metadata": {},
   "source": [
    "Although the difference between some categories is not crystal clear, I think the first, second, and last ones are definitely correctly labeled. However, the third one is ambiguous. It can be world, business, or even sci/tech to some extent."
   ]
  }
 ],
 "metadata": {
  "kernelspec": {
   "display_name": "Python 3",
   "language": "python",
   "name": "python3"
  },
  "language_info": {
   "codemirror_mode": {
    "name": "ipython",
    "version": 3
   },
   "file_extension": ".py",
   "mimetype": "text/x-python",
   "name": "python",
   "nbconvert_exporter": "python",
   "pygments_lexer": "ipython3",
   "version": "3.8.8"
  }
 },
 "nbformat": 4,
 "nbformat_minor": 5
}
