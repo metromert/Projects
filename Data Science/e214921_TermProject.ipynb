{
 "cells": [
  {
   "cell_type": "markdown",
   "metadata": {},
   "source": [
    "<h3>Middle East Technical University</h3>\n",
    "<h1><center>IS 509</center></h1>\n",
    "<h3><center>Introduction to Data Science</center></h3>\n",
    "<h4><center>Term Project - Phase 2</center></h4>\n",
    "<h5><center>Prepared By: Mert Mecit/2149219</center></h5>"
   ]
  },
  {
   "cell_type": "markdown",
   "metadata": {},
   "source": [
    "This report is prepared for IS 509 - Introduction to Data Science course's term project. For each question, first I explain the methodology and reasoning I will be using. Then, I will present my codes. And finally, I will make comments where necessary."
   ]
  },
  {
   "cell_type": "markdown",
   "metadata": {},
   "source": [
    "<h3>Question 1</h3>"
   ]
  },
  {
   "cell_type": "markdown",
   "metadata": {},
   "source": [
    "First, I will present all the libraries I will be using throughout this project."
   ]
  },
  {
   "cell_type": "code",
   "execution_count": 1,
   "metadata": {},
   "outputs": [],
   "source": [
    "import pandas as pd\n",
    "import scipy.stats as ss\n",
    "import numpy as np\n",
    "from IPython.display import HTML\n",
    "import statsmodels.api as sm\n",
    "from sklearn.model_selection import train_test_split\n",
    "import statsmodels.imputation.mice as mice\n",
    "from sklearn import metrics\n",
    "import plotly.express as px\n",
    "import plotly.figure_factory as ff\n",
    "from sklearn.cluster import KMeans, DBSCAN, AgglomerativeClustering\n",
    "from scipy.cluster.hierarchy import dendrogram, linkage\n",
    "from sklearn import svm\n",
    "from sklearn.preprocessing import StandardScaler\n",
    "from sklearn.metrics import classification_report\n",
    "from sklearn.metrics import silhouette_score, silhouette_samples\n",
    "from sklearn.decomposition import PCA\n",
    "import matplotlib.pyplot as plt\n",
    "import random\n",
    "from sklearn.linear_model import LinearRegression\n",
    "from sklearn.linear_model import LogisticRegression\n",
    "import os\n",
    "os.environ[\"MKL_NUM_THREADS\"] = \"1\" \n",
    "os.environ[\"NUMEXPR_NUM_THREADS\"] = \"1\" \n",
    "os.environ[\"OMP_NUM_THREADS\"] = \"1\"\n",
    "\n",
    "pd.options.mode.chained_assignment = None "
   ]
  },
  {
   "cell_type": "markdown",
   "metadata": {},
   "source": [
    "Then, I upload data as a pandas object and show first 5 lines of our data."
   ]
  },
  {
   "cell_type": "code",
   "execution_count": 2,
   "metadata": {},
   "outputs": [
    {
     "data": {
      "text/html": [
       "<div>\n",
       "<style scoped>\n",
       "    .dataframe tbody tr th:only-of-type {\n",
       "        vertical-align: middle;\n",
       "    }\n",
       "\n",
       "    .dataframe tbody tr th {\n",
       "        vertical-align: top;\n",
       "    }\n",
       "\n",
       "    .dataframe thead th {\n",
       "        text-align: right;\n",
       "    }\n",
       "</style>\n",
       "<table border=\"1\" class=\"dataframe\">\n",
       "  <thead>\n",
       "    <tr style=\"text-align: right;\">\n",
       "      <th></th>\n",
       "      <th>x1</th>\n",
       "      <th>x2</th>\n",
       "      <th>x3</th>\n",
       "      <th>x4</th>\n",
       "      <th>x5</th>\n",
       "      <th>y</th>\n",
       "    </tr>\n",
       "  </thead>\n",
       "  <tbody>\n",
       "    <tr>\n",
       "      <th>0</th>\n",
       "      <td>3</td>\n",
       "      <td>medium</td>\n",
       "      <td>B</td>\n",
       "      <td>71.873539</td>\n",
       "      <td>77.279942</td>\n",
       "      <td>0</td>\n",
       "    </tr>\n",
       "    <tr>\n",
       "      <th>1</th>\n",
       "      <td>2</td>\n",
       "      <td>medium</td>\n",
       "      <td>C</td>\n",
       "      <td>76.329693</td>\n",
       "      <td>123.509762</td>\n",
       "      <td>3</td>\n",
       "    </tr>\n",
       "    <tr>\n",
       "      <th>2</th>\n",
       "      <td>2</td>\n",
       "      <td>medium</td>\n",
       "      <td>B</td>\n",
       "      <td>84.726817</td>\n",
       "      <td>94.113034</td>\n",
       "      <td>0</td>\n",
       "    </tr>\n",
       "    <tr>\n",
       "      <th>3</th>\n",
       "      <td>1</td>\n",
       "      <td>low</td>\n",
       "      <td>D</td>\n",
       "      <td>90.894953</td>\n",
       "      <td>131.080126</td>\n",
       "      <td>0</td>\n",
       "    </tr>\n",
       "    <tr>\n",
       "      <th>4</th>\n",
       "      <td>1</td>\n",
       "      <td>medium</td>\n",
       "      <td>B</td>\n",
       "      <td>91.377552</td>\n",
       "      <td>78.421426</td>\n",
       "      <td>1</td>\n",
       "    </tr>\n",
       "  </tbody>\n",
       "</table>\n",
       "</div>"
      ],
      "text/plain": [
       "   x1      x2 x3         x4          x5  y\n",
       "0   3  medium  B  71.873539   77.279942  0\n",
       "1   2  medium  C  76.329693  123.509762  3\n",
       "2   2  medium  B  84.726817   94.113034  0\n",
       "3   1     low  D  90.894953  131.080126  0\n",
       "4   1  medium  B  91.377552   78.421426  1"
      ]
     },
     "execution_count": 2,
     "metadata": {},
     "output_type": "execute_result"
    }
   ],
   "source": [
    "data = pd.read_csv(r\"C:\\Users\\Lenovo\\Desktop\\data.csv\")\n",
    "\n",
    "data.head(5)"
   ]
  },
  {
   "cell_type": "markdown",
   "metadata": {},
   "source": [
    "We can also check shape of our dataframe."
   ]
  },
  {
   "cell_type": "code",
   "execution_count": 3,
   "metadata": {},
   "outputs": [
    {
     "data": {
      "text/plain": [
       "(210, 6)"
      ]
     },
     "execution_count": 3,
     "metadata": {},
     "output_type": "execute_result"
    }
   ],
   "source": [
    "data.shape"
   ]
  },
  {
   "cell_type": "markdown",
   "metadata": {},
   "source": [
    "As we can see, x2 and x3 variables has string or character values. In my opinion, dealing with numerical values is much more easier, so I convert them to numerical values."
   ]
  },
  {
   "cell_type": "code",
   "execution_count": 4,
   "metadata": {},
   "outputs": [
    {
     "data": {
      "text/html": [
       "<div>\n",
       "<style scoped>\n",
       "    .dataframe tbody tr th:only-of-type {\n",
       "        vertical-align: middle;\n",
       "    }\n",
       "\n",
       "    .dataframe tbody tr th {\n",
       "        vertical-align: top;\n",
       "    }\n",
       "\n",
       "    .dataframe thead th {\n",
       "        text-align: right;\n",
       "    }\n",
       "</style>\n",
       "<table border=\"1\" class=\"dataframe\">\n",
       "  <thead>\n",
       "    <tr style=\"text-align: right;\">\n",
       "      <th></th>\n",
       "      <th>x1</th>\n",
       "      <th>x2</th>\n",
       "      <th>x3</th>\n",
       "      <th>x4</th>\n",
       "      <th>x5</th>\n",
       "      <th>y</th>\n",
       "    </tr>\n",
       "  </thead>\n",
       "  <tbody>\n",
       "    <tr>\n",
       "      <th>0</th>\n",
       "      <td>3</td>\n",
       "      <td>2</td>\n",
       "      <td>2</td>\n",
       "      <td>71.873539</td>\n",
       "      <td>77.279942</td>\n",
       "      <td>0</td>\n",
       "    </tr>\n",
       "    <tr>\n",
       "      <th>1</th>\n",
       "      <td>2</td>\n",
       "      <td>2</td>\n",
       "      <td>3</td>\n",
       "      <td>76.329693</td>\n",
       "      <td>123.509762</td>\n",
       "      <td>3</td>\n",
       "    </tr>\n",
       "    <tr>\n",
       "      <th>2</th>\n",
       "      <td>2</td>\n",
       "      <td>2</td>\n",
       "      <td>2</td>\n",
       "      <td>84.726817</td>\n",
       "      <td>94.113034</td>\n",
       "      <td>0</td>\n",
       "    </tr>\n",
       "    <tr>\n",
       "      <th>3</th>\n",
       "      <td>1</td>\n",
       "      <td>1</td>\n",
       "      <td>4</td>\n",
       "      <td>90.894953</td>\n",
       "      <td>131.080126</td>\n",
       "      <td>0</td>\n",
       "    </tr>\n",
       "    <tr>\n",
       "      <th>4</th>\n",
       "      <td>1</td>\n",
       "      <td>2</td>\n",
       "      <td>2</td>\n",
       "      <td>91.377552</td>\n",
       "      <td>78.421426</td>\n",
       "      <td>1</td>\n",
       "    </tr>\n",
       "  </tbody>\n",
       "</table>\n",
       "</div>"
      ],
      "text/plain": [
       "   x1  x2  x3         x4          x5  y\n",
       "0   3   2   2  71.873539   77.279942  0\n",
       "1   2   2   3  76.329693  123.509762  3\n",
       "2   2   2   2  84.726817   94.113034  0\n",
       "3   1   1   4  90.894953  131.080126  0\n",
       "4   1   2   2  91.377552   78.421426  1"
      ]
     },
     "execution_count": 4,
     "metadata": {},
     "output_type": "execute_result"
    }
   ],
   "source": [
    "data['x2'] = data['x2'].replace(['low'],1)\n",
    "data['x2'] = data['x2'].replace(['medium'],2)\n",
    "data['x2'] = data['x2'].replace(['high'],3)\n",
    "data['x3'] = data['x3'].replace(['A'],1)\n",
    "data['x3'] = data['x3'].replace(['B'],2)\n",
    "data['x3'] = data['x3'].replace(['C'],3)\n",
    "data['x3'] = data['x3'].replace(['D'],4)\n",
    "\n",
    "data.head(5)"
   ]
  },
  {
   "cell_type": "markdown",
   "metadata": {},
   "source": [
    "Now, we can check descriptive statistics for our variables."
   ]
  },
  {
   "cell_type": "code",
   "execution_count": 5,
   "metadata": {},
   "outputs": [
    {
     "data": {
      "text/html": [
       "<div>\n",
       "<style scoped>\n",
       "    .dataframe tbody tr th:only-of-type {\n",
       "        vertical-align: middle;\n",
       "    }\n",
       "\n",
       "    .dataframe tbody tr th {\n",
       "        vertical-align: top;\n",
       "    }\n",
       "\n",
       "    .dataframe thead th {\n",
       "        text-align: right;\n",
       "    }\n",
       "</style>\n",
       "<table border=\"1\" class=\"dataframe\">\n",
       "  <thead>\n",
       "    <tr style=\"text-align: right;\">\n",
       "      <th></th>\n",
       "      <th>x1</th>\n",
       "      <th>x2</th>\n",
       "      <th>x3</th>\n",
       "      <th>x4</th>\n",
       "      <th>x5</th>\n",
       "      <th>y</th>\n",
       "    </tr>\n",
       "  </thead>\n",
       "  <tbody>\n",
       "    <tr>\n",
       "      <th>count</th>\n",
       "      <td>210.000000</td>\n",
       "      <td>210.000000</td>\n",
       "      <td>210.000000</td>\n",
       "      <td>210.000000</td>\n",
       "      <td>210.000000</td>\n",
       "      <td>210.000000</td>\n",
       "    </tr>\n",
       "    <tr>\n",
       "      <th>mean</th>\n",
       "      <td>2.019048</td>\n",
       "      <td>1.971429</td>\n",
       "      <td>3.004762</td>\n",
       "      <td>79.905313</td>\n",
       "      <td>98.285305</td>\n",
       "      <td>1.352381</td>\n",
       "    </tr>\n",
       "    <tr>\n",
       "      <th>std</th>\n",
       "      <td>0.788445</td>\n",
       "      <td>0.535034</td>\n",
       "      <td>0.925439</td>\n",
       "      <td>11.009680</td>\n",
       "      <td>22.439716</td>\n",
       "      <td>1.123741</td>\n",
       "    </tr>\n",
       "    <tr>\n",
       "      <th>min</th>\n",
       "      <td>0.000000</td>\n",
       "      <td>1.000000</td>\n",
       "      <td>1.000000</td>\n",
       "      <td>58.399838</td>\n",
       "      <td>33.796804</td>\n",
       "      <td>0.000000</td>\n",
       "    </tr>\n",
       "    <tr>\n",
       "      <th>25%</th>\n",
       "      <td>1.250000</td>\n",
       "      <td>2.000000</td>\n",
       "      <td>2.000000</td>\n",
       "      <td>70.818654</td>\n",
       "      <td>81.332897</td>\n",
       "      <td>0.000000</td>\n",
       "    </tr>\n",
       "    <tr>\n",
       "      <th>50%</th>\n",
       "      <td>2.000000</td>\n",
       "      <td>2.000000</td>\n",
       "      <td>3.000000</td>\n",
       "      <td>78.280164</td>\n",
       "      <td>98.482971</td>\n",
       "      <td>1.000000</td>\n",
       "    </tr>\n",
       "    <tr>\n",
       "      <th>75%</th>\n",
       "      <td>3.000000</td>\n",
       "      <td>2.000000</td>\n",
       "      <td>4.000000</td>\n",
       "      <td>89.267688</td>\n",
       "      <td>115.910668</td>\n",
       "      <td>2.000000</td>\n",
       "    </tr>\n",
       "    <tr>\n",
       "      <th>max</th>\n",
       "      <td>4.000000</td>\n",
       "      <td>3.000000</td>\n",
       "      <td>4.000000</td>\n",
       "      <td>113.872106</td>\n",
       "      <td>141.824291</td>\n",
       "      <td>3.000000</td>\n",
       "    </tr>\n",
       "  </tbody>\n",
       "</table>\n",
       "</div>"
      ],
      "text/plain": [
       "               x1          x2          x3          x4          x5           y\n",
       "count  210.000000  210.000000  210.000000  210.000000  210.000000  210.000000\n",
       "mean     2.019048    1.971429    3.004762   79.905313   98.285305    1.352381\n",
       "std      0.788445    0.535034    0.925439   11.009680   22.439716    1.123741\n",
       "min      0.000000    1.000000    1.000000   58.399838   33.796804    0.000000\n",
       "25%      1.250000    2.000000    2.000000   70.818654   81.332897    0.000000\n",
       "50%      2.000000    2.000000    3.000000   78.280164   98.482971    1.000000\n",
       "75%      3.000000    2.000000    4.000000   89.267688  115.910668    2.000000\n",
       "max      4.000000    3.000000    4.000000  113.872106  141.824291    3.000000"
      ]
     },
     "execution_count": 5,
     "metadata": {},
     "output_type": "execute_result"
    }
   ],
   "source": [
    "data.describe()"
   ]
  },
  {
   "cell_type": "markdown",
   "metadata": {},
   "source": [
    "Descriptive statistics give insight about possible distributions. However, I believe visualization is a better technique to understand general information about variables, so I will visualize each variable with proper visualization methods. (Bins are selected to provide best visualization, they do not have any other purposes.)"
   ]
  },
  {
   "cell_type": "code",
   "execution_count": 6,
   "metadata": {
    "scrolled": true
   },
   "outputs": [
    {
     "data": {
      "text/plain": [
       "<AxesSubplot:>"
      ]
     },
     "execution_count": 6,
     "metadata": {},
     "output_type": "execute_result"
    },
    {
     "data": {
      "image/png": "[encoded data removed]",
      "text/plain": [
       "<Figure size 432x288 with 1 Axes>"
      ]
     },
     "metadata": {
      "needs_background": "light"
     },
     "output_type": "display_data"
    }
   ],
   "source": [
    "data[\"x1\"].hist(bins=9)"
   ]
  },
  {
   "cell_type": "markdown",
   "metadata": {},
   "source": [
    "x1 -> This variable takes integer values between 0 and 4. By looking at mean and percentiles, we can say that this variable is almost normally distributed. Most of the values are 2 (in the middle), considerable amount of 1 and 3 are here and very low amount of observations are on the edge values, 0 and 4."
   ]
  },
  {
   "cell_type": "code",
   "execution_count": 7,
   "metadata": {
    "scrolled": false
   },
   "outputs": [
    {
     "data": {
      "text/plain": [
       "<AxesSubplot:>"
      ]
     },
     "execution_count": 7,
     "metadata": {},
     "output_type": "execute_result"
    },
    {
     "data": {
      "image/png": "[encoded data removed]",
      "text/plain": [
       "<Figure size 432x288 with 1 Axes>"
      ]
     },
     "metadata": {
      "needs_background": "light"
     },
     "output_type": "display_data"
    }
   ],
   "source": [
    "data[\"x2\"].hist(bins=5)"
   ]
  },
  {
   "cell_type": "code",
   "execution_count": 8,
   "metadata": {
    "scrolled": true
   },
   "outputs": [
    {
     "data": {
      "text/plain": [
       "2    0.714286\n",
       "1    0.157143\n",
       "3    0.128571\n",
       "Name: x2, dtype: float64"
      ]
     },
     "execution_count": 8,
     "metadata": {},
     "output_type": "execute_result"
    }
   ],
   "source": [
    "data['x2'].value_counts(normalize=True)"
   ]
  },
  {
   "cell_type": "markdown",
   "metadata": {},
   "source": [
    "x2 -> This variable is ordinal. 1 is for low, 2 is for medium, 3 is for high. We can clearly see that most of our data consist of entries with medium x2 value."
   ]
  },
  {
   "cell_type": "code",
   "execution_count": 9,
   "metadata": {},
   "outputs": [
    {
     "data": {
      "text/plain": [
       "<AxesSubplot:>"
      ]
     },
     "execution_count": 9,
     "metadata": {},
     "output_type": "execute_result"
    },
    {
     "data": {
      "image/png": "[encoded data removed]",
      "text/plain": [
       "<Figure size 432x288 with 1 Axes>"
      ]
     },
     "metadata": {
      "needs_background": "light"
     },
     "output_type": "display_data"
    }
   ],
   "source": [
    "data[\"x3\"].hist(bins=10)"
   ]
  },
  {
   "cell_type": "code",
   "execution_count": 10,
   "metadata": {},
   "outputs": [
    {
     "data": {
      "text/plain": [
       "4    0.380952\n",
       "3    0.290476\n",
       "2    0.280952\n",
       "1    0.047619\n",
       "Name: x3, dtype: float64"
      ]
     },
     "execution_count": 10,
     "metadata": {},
     "output_type": "execute_result"
    }
   ],
   "source": [
    "data['x3'].value_counts(normalize=True)"
   ]
  },
  {
   "cell_type": "markdown",
   "metadata": {},
   "source": [
    "x3 -> This variable is nominal, not ordinal. 1 is for 'A', 2 is for 'B', 3 is for 'C' and 4 is for 'D'. We can see that most of the entries have D for x2 and A is the least common one, 'B' and 'C' are quite common as well."
   ]
  },
  {
   "cell_type": "code",
   "execution_count": 11,
   "metadata": {
    "scrolled": true
   },
   "outputs": [
    {
     "data": {
      "image/png": "[encoded data removed]",
      "text/plain": [
       "<Figure size 432x288 with 1 Axes>"
      ]
     },
     "metadata": {
      "needs_background": "light"
     },
     "output_type": "display_data"
    }
   ],
   "source": [
    "plt.boxplot(data[\"x4\"])\n",
    "plt.show()"
   ]
  },
  {
   "cell_type": "code",
   "execution_count": 12,
   "metadata": {},
   "outputs": [
    {
     "data": {
      "text/plain": [
       "<AxesSubplot:>"
      ]
     },
     "execution_count": 12,
     "metadata": {},
     "output_type": "execute_result"
    },
    {
     "data": {
      "image/png": "[encoded data removed]",
      "text/plain": [
       "<Figure size 432x288 with 1 Axes>"
      ]
     },
     "metadata": {
      "needs_background": "light"
     },
     "output_type": "display_data"
    }
   ],
   "source": [
    "data[\"x4\"].hist(bins=20)"
   ]
  },
  {
   "cell_type": "markdown",
   "metadata": {},
   "source": [
    "x4 -> This variables takes continuous values between ~58 and ~114. Median is about 79 (from box plot). It has a mean of ~80 (from descriptive table) and a standard deviation of ~11. This variable is relatively right-skewed towards mean (from histogram) but still we have a lot of observartions around 90."
   ]
  },
  {
   "cell_type": "code",
   "execution_count": 13,
   "metadata": {},
   "outputs": [
    {
     "data": {
      "image/png": "[encoded data removed]",
      "text/plain": [
       "<Figure size 432x288 with 1 Axes>"
      ]
     },
     "metadata": {
      "needs_background": "light"
     },
     "output_type": "display_data"
    }
   ],
   "source": [
    "plt.boxplot(data[\"x5\"])\n",
    "plt.show()"
   ]
  },
  {
   "cell_type": "code",
   "execution_count": 14,
   "metadata": {},
   "outputs": [
    {
     "data": {
      "text/plain": [
       "<AxesSubplot:>"
      ]
     },
     "execution_count": 14,
     "metadata": {},
     "output_type": "execute_result"
    },
    {
     "data": {
      "image/png": "[encoded data removed]",
      "text/plain": [
       "<Figure size 432x288 with 1 Axes>"
      ]
     },
     "metadata": {
      "needs_background": "light"
     },
     "output_type": "display_data"
    }
   ],
   "source": [
    "data[\"x5\"].hist(bins=20)"
   ]
  },
  {
   "cell_type": "markdown",
   "metadata": {},
   "source": [
    "x5 -> This variables takes continuous values between ~34 and ~142. Median is about 100 (from box plot). It has a mean of ~99 (from descriptive table) and a standard deviation of ~22. This variable is not highly skewed (from histogram) as we have a lot of observations lower and higher than mean."
   ]
  },
  {
   "cell_type": "code",
   "execution_count": 15,
   "metadata": {},
   "outputs": [
    {
     "data": {
      "text/plain": [
       "<AxesSubplot:>"
      ]
     },
     "execution_count": 15,
     "metadata": {},
     "output_type": "execute_result"
    },
    {
     "data": {
      "image/png": "[encoded data removed]",
      "text/plain": [
       "<Figure size 432x288 with 1 Axes>"
      ]
     },
     "metadata": {
      "needs_background": "light"
     },
     "output_type": "display_data"
    }
   ],
   "source": [
    "data[\"y\"].hist(bins=7)"
   ]
  },
  {
   "cell_type": "code",
   "execution_count": 16,
   "metadata": {
    "scrolled": true
   },
   "outputs": [
    {
     "data": {
      "text/plain": [
       "0    0.295238\n",
       "1    0.276190\n",
       "3    0.219048\n",
       "2    0.209524\n",
       "Name: y, dtype: float64"
      ]
     },
     "execution_count": 16,
     "metadata": {},
     "output_type": "execute_result"
    }
   ],
   "source": [
    "data['y'].value_counts(normalize=True)"
   ]
  },
  {
   "cell_type": "markdown",
   "metadata": {},
   "source": [
    "y -> This is our target class and it is nominal. It takes integer values between 0-3. We can see from the distribution it takes 0 as the most value then comes 1, 3 and 2 but frequencies are very close to each other."
   ]
  },
  {
   "cell_type": "markdown",
   "metadata": {},
   "source": [
    "<h3>Question 2</h3>"
   ]
  },
  {
   "cell_type": "markdown",
   "metadata": {},
   "source": [
    "Here, I will try to determine which attribute is more informative about our target class, Y. First, I will try to look at correlation matrix. Correlation can be a good estimation for our purpose as it looks for statistical relationship between two variables."
   ]
  },
  {
   "cell_type": "code",
   "execution_count": 17,
   "metadata": {
    "scrolled": true
   },
   "outputs": [
    {
     "data": {
      "text/html": [
       "<div>\n",
       "<style scoped>\n",
       "    .dataframe tbody tr th:only-of-type {\n",
       "        vertical-align: middle;\n",
       "    }\n",
       "\n",
       "    .dataframe tbody tr th {\n",
       "        vertical-align: top;\n",
       "    }\n",
       "\n",
       "    .dataframe thead th {\n",
       "        text-align: right;\n",
       "    }\n",
       "</style>\n",
       "<table border=\"1\" class=\"dataframe\">\n",
       "  <thead>\n",
       "    <tr style=\"text-align: right;\">\n",
       "      <th></th>\n",
       "      <th>x1</th>\n",
       "      <th>x2</th>\n",
       "      <th>x3</th>\n",
       "      <th>x4</th>\n",
       "      <th>x5</th>\n",
       "      <th>y</th>\n",
       "    </tr>\n",
       "  </thead>\n",
       "  <tbody>\n",
       "    <tr>\n",
       "      <th>x1</th>\n",
       "      <td>1.000000</td>\n",
       "      <td>0.114719</td>\n",
       "      <td>0.026105</td>\n",
       "      <td>-0.886957</td>\n",
       "      <td>-0.353609</td>\n",
       "      <td>0.613420</td>\n",
       "    </tr>\n",
       "    <tr>\n",
       "      <th>x2</th>\n",
       "      <td>0.114719</td>\n",
       "      <td>1.000000</td>\n",
       "      <td>0.019603</td>\n",
       "      <td>0.054856</td>\n",
       "      <td>-0.606791</td>\n",
       "      <td>0.231693</td>\n",
       "    </tr>\n",
       "    <tr>\n",
       "      <th>x3</th>\n",
       "      <td>0.026105</td>\n",
       "      <td>0.019603</td>\n",
       "      <td>1.000000</td>\n",
       "      <td>-0.041766</td>\n",
       "      <td>0.330263</td>\n",
       "      <td>0.002980</td>\n",
       "    </tr>\n",
       "    <tr>\n",
       "      <th>x4</th>\n",
       "      <td>-0.886957</td>\n",
       "      <td>0.054856</td>\n",
       "      <td>-0.041766</td>\n",
       "      <td>1.000000</td>\n",
       "      <td>0.236410</td>\n",
       "      <td>-0.595002</td>\n",
       "    </tr>\n",
       "    <tr>\n",
       "      <th>x5</th>\n",
       "      <td>-0.353609</td>\n",
       "      <td>-0.606791</td>\n",
       "      <td>0.330263</td>\n",
       "      <td>0.236410</td>\n",
       "      <td>1.000000</td>\n",
       "      <td>-0.368028</td>\n",
       "    </tr>\n",
       "    <tr>\n",
       "      <th>y</th>\n",
       "      <td>0.613420</td>\n",
       "      <td>0.231693</td>\n",
       "      <td>0.002980</td>\n",
       "      <td>-0.595002</td>\n",
       "      <td>-0.368028</td>\n",
       "      <td>1.000000</td>\n",
       "    </tr>\n",
       "  </tbody>\n",
       "</table>\n",
       "</div>"
      ],
      "text/plain": [
       "          x1        x2        x3        x4        x5         y\n",
       "x1  1.000000  0.114719  0.026105 -0.886957 -0.353609  0.613420\n",
       "x2  0.114719  1.000000  0.019603  0.054856 -0.606791  0.231693\n",
       "x3  0.026105  0.019603  1.000000 -0.041766  0.330263  0.002980\n",
       "x4 -0.886957  0.054856 -0.041766  1.000000  0.236410 -0.595002\n",
       "x5 -0.353609 -0.606791  0.330263  0.236410  1.000000 -0.368028\n",
       "y   0.613420  0.231693  0.002980 -0.595002 -0.368028  1.000000"
      ]
     },
     "execution_count": 17,
     "metadata": {},
     "output_type": "execute_result"
    }
   ],
   "source": [
    "data.corr()"
   ]
  },
  {
   "cell_type": "markdown",
   "metadata": {},
   "source": [
    "Here, we can see y has highest correlation with x1 variable. This result is okay, but I guess correlation has several drawback such as:\n",
    "1) It is heavily based on mean of the variables and mean is not meaningful at all for some of our variables such as x2 and x3\n",
    "2) We are searching for a variable that is informative about y. However, correlation has no direction.\n",
    "\n",
    "So, although correlation is a powerful tool, I will use adjusted R squared as it explains to what extent the variance of one variable explains the variance of the second variable (y). I will do a simple linear regression between each variable and y and find corresponding R squared."
   ]
  },
  {
   "cell_type": "code",
   "execution_count": 18,
   "metadata": {},
   "outputs": [
    {
     "name": "stdout",
     "output_type": "stream",
     "text": [
      "Adjusted R-squared between our target variable and x3 is 0.5402142327950825\n",
      "Adjusted R-squared between our target variable and x1 is 0.7374385738456413\n",
      "Adjusted R-squared between our target variable and x4 is 0.5031492508868354\n",
      "Adjusted R-squared between our target variable and x2 is 0.6092946508261337\n",
      "Adjusted R-squared between our target variable and x5 is 0.48543954258149924\n"
     ]
    }
   ],
   "source": [
    "for i in {'x1','x2','x3','x4','x5'}:    \n",
    "    model = sm.OLS(data['y'], data[i]).fit()\n",
    "    x = model.rsquared_adj\n",
    "    print('Adjusted R-squared between our target variable and {} is {}'.format(i,x))"
   ]
  },
  {
   "cell_type": "markdown",
   "metadata": {},
   "source": [
    "As we can see, x1 also has highest R square alone. We can say that x1's explanatory power on y is the greatest among 5 variables. So, for our next steps, I have chosen x1."
   ]
  },
  {
   "cell_type": "markdown",
   "metadata": {},
   "source": [
    "<h3>Question 3</h3>"
   ]
  },
  {
   "cell_type": "markdown",
   "metadata": {},
   "source": [
    "<h4>Part a</h4>"
   ]
  },
  {
   "cell_type": "markdown",
   "metadata": {},
   "source": [
    "To be MCAR, we need a complete randomness on missing data. To achieve so, I have formulated a function that creates completely random unique numbers between 0 and our row length. Then for each chosen number, corresponding row's x1 value is converted to null. Notice, a seed is used to gather consistent results."
   ]
  },
  {
   "cell_type": "code",
   "execution_count": 19,
   "metadata": {},
   "outputs": [],
   "source": [
    "def createRandomSortedList(num, start = 0, end = data.shape[0]-1):\n",
    "    \n",
    "    random.seed(101)\n",
    "    \n",
    "    arr = []\n",
    "    tmp = random.randint(start, end)\n",
    "      \n",
    "    for x in range(num):\n",
    "          \n",
    "        while tmp in arr:\n",
    "            tmp = random.randint(start, end)\n",
    "              \n",
    "        arr.append(tmp)\n",
    "          \n",
    "    arr.sort()\n",
    "      \n",
    "    return arr"
   ]
  },
  {
   "cell_type": "markdown",
   "metadata": {},
   "source": [
    "I create my new pandas object, mcar20"
   ]
  },
  {
   "cell_type": "code",
   "execution_count": 20,
   "metadata": {},
   "outputs": [],
   "source": [
    "mcar20 = data.copy()"
   ]
  },
  {
   "cell_type": "markdown",
   "metadata": {},
   "source": [
    "I use my function above and apply it to my mcar20 dataframe."
   ]
  },
  {
   "cell_type": "code",
   "execution_count": 21,
   "metadata": {},
   "outputs": [],
   "source": [
    "x = createRandomSortedList(int(data.shape[0]*0.2))\n",
    "\n",
    "for i in x:\n",
    "    mcar20['x1'][i] = np.nan"
   ]
  },
  {
   "cell_type": "markdown",
   "metadata": {},
   "source": [
    "Now, check whether our mcar20 dataframe is similar to our original data."
   ]
  },
  {
   "cell_type": "code",
   "execution_count": 22,
   "metadata": {
    "scrolled": true
   },
   "outputs": [
    {
     "data": {
      "text/html": [
       "<div>\n",
       "<style scoped>\n",
       "    .dataframe tbody tr th:only-of-type {\n",
       "        vertical-align: middle;\n",
       "    }\n",
       "\n",
       "    .dataframe tbody tr th {\n",
       "        vertical-align: top;\n",
       "    }\n",
       "\n",
       "    .dataframe thead th {\n",
       "        text-align: right;\n",
       "    }\n",
       "</style>\n",
       "<table border=\"1\" class=\"dataframe\">\n",
       "  <thead>\n",
       "    <tr style=\"text-align: right;\">\n",
       "      <th></th>\n",
       "      <th>x1</th>\n",
       "      <th>x2</th>\n",
       "      <th>x3</th>\n",
       "      <th>x4</th>\n",
       "      <th>x5</th>\n",
       "      <th>y</th>\n",
       "    </tr>\n",
       "  </thead>\n",
       "  <tbody>\n",
       "    <tr>\n",
       "      <th>0</th>\n",
       "      <td>3.0</td>\n",
       "      <td>2</td>\n",
       "      <td>2</td>\n",
       "      <td>71.873539</td>\n",
       "      <td>77.279942</td>\n",
       "      <td>0</td>\n",
       "    </tr>\n",
       "    <tr>\n",
       "      <th>1</th>\n",
       "      <td>2.0</td>\n",
       "      <td>2</td>\n",
       "      <td>3</td>\n",
       "      <td>76.329693</td>\n",
       "      <td>123.509762</td>\n",
       "      <td>3</td>\n",
       "    </tr>\n",
       "    <tr>\n",
       "      <th>2</th>\n",
       "      <td>2.0</td>\n",
       "      <td>2</td>\n",
       "      <td>2</td>\n",
       "      <td>84.726817</td>\n",
       "      <td>94.113034</td>\n",
       "      <td>0</td>\n",
       "    </tr>\n",
       "    <tr>\n",
       "      <th>3</th>\n",
       "      <td>1.0</td>\n",
       "      <td>1</td>\n",
       "      <td>4</td>\n",
       "      <td>90.894953</td>\n",
       "      <td>131.080126</td>\n",
       "      <td>0</td>\n",
       "    </tr>\n",
       "    <tr>\n",
       "      <th>4</th>\n",
       "      <td>1.0</td>\n",
       "      <td>2</td>\n",
       "      <td>2</td>\n",
       "      <td>91.377552</td>\n",
       "      <td>78.421426</td>\n",
       "      <td>1</td>\n",
       "    </tr>\n",
       "    <tr>\n",
       "      <th>5</th>\n",
       "      <td>2.0</td>\n",
       "      <td>1</td>\n",
       "      <td>4</td>\n",
       "      <td>82.418660</td>\n",
       "      <td>128.847297</td>\n",
       "      <td>0</td>\n",
       "    </tr>\n",
       "    <tr>\n",
       "      <th>6</th>\n",
       "      <td>2.0</td>\n",
       "      <td>3</td>\n",
       "      <td>4</td>\n",
       "      <td>87.124463</td>\n",
       "      <td>82.339298</td>\n",
       "      <td>1</td>\n",
       "    </tr>\n",
       "    <tr>\n",
       "      <th>7</th>\n",
       "      <td>2.0</td>\n",
       "      <td>2</td>\n",
       "      <td>4</td>\n",
       "      <td>77.472105</td>\n",
       "      <td>87.934054</td>\n",
       "      <td>3</td>\n",
       "    </tr>\n",
       "    <tr>\n",
       "      <th>8</th>\n",
       "      <td>2.0</td>\n",
       "      <td>2</td>\n",
       "      <td>4</td>\n",
       "      <td>74.768722</td>\n",
       "      <td>95.439607</td>\n",
       "      <td>3</td>\n",
       "    </tr>\n",
       "    <tr>\n",
       "      <th>9</th>\n",
       "      <td>2.0</td>\n",
       "      <td>2</td>\n",
       "      <td>2</td>\n",
       "      <td>71.275161</td>\n",
       "      <td>91.463072</td>\n",
       "      <td>2</td>\n",
       "    </tr>\n",
       "  </tbody>\n",
       "</table>\n",
       "</div>"
      ],
      "text/plain": [
       "    x1  x2  x3         x4          x5  y\n",
       "0  3.0   2   2  71.873539   77.279942  0\n",
       "1  2.0   2   3  76.329693  123.509762  3\n",
       "2  2.0   2   2  84.726817   94.113034  0\n",
       "3  1.0   1   4  90.894953  131.080126  0\n",
       "4  1.0   2   2  91.377552   78.421426  1\n",
       "5  2.0   1   4  82.418660  128.847297  0\n",
       "6  2.0   3   4  87.124463   82.339298  1\n",
       "7  2.0   2   4  77.472105   87.934054  3\n",
       "8  2.0   2   4  74.768722   95.439607  3\n",
       "9  2.0   2   2  71.275161   91.463072  2"
      ]
     },
     "execution_count": 22,
     "metadata": {},
     "output_type": "execute_result"
    }
   ],
   "source": [
    "mcar20.head(10)"
   ]
  },
  {
   "cell_type": "markdown",
   "metadata": {},
   "source": [
    "As it is similar, now we can check how many missing values are there in x1 variable of mcar20."
   ]
  },
  {
   "cell_type": "code",
   "execution_count": 23,
   "metadata": {},
   "outputs": [
    {
     "data": {
      "text/plain": [
       "42"
      ]
     },
     "execution_count": 23,
     "metadata": {},
     "output_type": "execute_result"
    }
   ],
   "source": [
    "mcar20['x1'].isna().sum()"
   ]
  },
  {
   "cell_type": "markdown",
   "metadata": {},
   "source": [
    "We have 42 missing values (210 * 0.2 = 42) and we did this in a completely random manner. However, MCAR have two assumptions we have to test them. 1) Missingness cannot depend on value of other variables, or \n",
    "2) Value of itself."
   ]
  },
  {
   "cell_type": "markdown",
   "metadata": {},
   "source": [
    "To check first assumption I will use function below to create missingness table."
   ]
  },
  {
   "cell_type": "code",
   "execution_count": 24,
   "metadata": {},
   "outputs": [],
   "source": [
    "def create_missingness_map(mis_data):\n",
    "    columns=mis_data.columns\n",
    "    mis_map=pd.DataFrame(data=np.zeros(mis_data.shape), columns=mis_data.columns, dtype=int)\n",
    "    for col in columns:\n",
    "        col_mis_index=mis_data[mis_data[col].isnull()].index\n",
    "        mis_map.loc[col_mis_index,col]=1    \n",
    "    return mis_map"
   ]
  },
  {
   "cell_type": "code",
   "execution_count": 25,
   "metadata": {},
   "outputs": [
    {
     "data": {
      "text/html": [
       "<div>\n",
       "<style scoped>\n",
       "    .dataframe tbody tr th:only-of-type {\n",
       "        vertical-align: middle;\n",
       "    }\n",
       "\n",
       "    .dataframe tbody tr th {\n",
       "        vertical-align: top;\n",
       "    }\n",
       "\n",
       "    .dataframe thead th {\n",
       "        text-align: right;\n",
       "    }\n",
       "</style>\n",
       "<table border=\"1\" class=\"dataframe\">\n",
       "  <thead>\n",
       "    <tr style=\"text-align: right;\">\n",
       "      <th></th>\n",
       "      <th>x1</th>\n",
       "      <th>x2</th>\n",
       "      <th>x3</th>\n",
       "      <th>x4</th>\n",
       "      <th>x5</th>\n",
       "      <th>y</th>\n",
       "    </tr>\n",
       "  </thead>\n",
       "  <tbody>\n",
       "    <tr>\n",
       "      <th>0</th>\n",
       "      <td>0</td>\n",
       "      <td>0</td>\n",
       "      <td>0</td>\n",
       "      <td>0</td>\n",
       "      <td>0</td>\n",
       "      <td>0</td>\n",
       "    </tr>\n",
       "    <tr>\n",
       "      <th>1</th>\n",
       "      <td>0</td>\n",
       "      <td>0</td>\n",
       "      <td>0</td>\n",
       "      <td>0</td>\n",
       "      <td>0</td>\n",
       "      <td>0</td>\n",
       "    </tr>\n",
       "    <tr>\n",
       "      <th>2</th>\n",
       "      <td>0</td>\n",
       "      <td>0</td>\n",
       "      <td>0</td>\n",
       "      <td>0</td>\n",
       "      <td>0</td>\n",
       "      <td>0</td>\n",
       "    </tr>\n",
       "    <tr>\n",
       "      <th>3</th>\n",
       "      <td>0</td>\n",
       "      <td>0</td>\n",
       "      <td>0</td>\n",
       "      <td>0</td>\n",
       "      <td>0</td>\n",
       "      <td>0</td>\n",
       "    </tr>\n",
       "    <tr>\n",
       "      <th>4</th>\n",
       "      <td>0</td>\n",
       "      <td>0</td>\n",
       "      <td>0</td>\n",
       "      <td>0</td>\n",
       "      <td>0</td>\n",
       "      <td>0</td>\n",
       "    </tr>\n",
       "    <tr>\n",
       "      <th>5</th>\n",
       "      <td>0</td>\n",
       "      <td>0</td>\n",
       "      <td>0</td>\n",
       "      <td>0</td>\n",
       "      <td>0</td>\n",
       "      <td>0</td>\n",
       "    </tr>\n",
       "    <tr>\n",
       "      <th>6</th>\n",
       "      <td>0</td>\n",
       "      <td>0</td>\n",
       "      <td>0</td>\n",
       "      <td>0</td>\n",
       "      <td>0</td>\n",
       "      <td>0</td>\n",
       "    </tr>\n",
       "    <tr>\n",
       "      <th>7</th>\n",
       "      <td>0</td>\n",
       "      <td>0</td>\n",
       "      <td>0</td>\n",
       "      <td>0</td>\n",
       "      <td>0</td>\n",
       "      <td>0</td>\n",
       "    </tr>\n",
       "    <tr>\n",
       "      <th>8</th>\n",
       "      <td>0</td>\n",
       "      <td>0</td>\n",
       "      <td>0</td>\n",
       "      <td>0</td>\n",
       "      <td>0</td>\n",
       "      <td>0</td>\n",
       "    </tr>\n",
       "    <tr>\n",
       "      <th>9</th>\n",
       "      <td>0</td>\n",
       "      <td>0</td>\n",
       "      <td>0</td>\n",
       "      <td>0</td>\n",
       "      <td>0</td>\n",
       "      <td>0</td>\n",
       "    </tr>\n",
       "    <tr>\n",
       "      <th>10</th>\n",
       "      <td>0</td>\n",
       "      <td>0</td>\n",
       "      <td>0</td>\n",
       "      <td>0</td>\n",
       "      <td>0</td>\n",
       "      <td>0</td>\n",
       "    </tr>\n",
       "    <tr>\n",
       "      <th>11</th>\n",
       "      <td>0</td>\n",
       "      <td>0</td>\n",
       "      <td>0</td>\n",
       "      <td>0</td>\n",
       "      <td>0</td>\n",
       "      <td>0</td>\n",
       "    </tr>\n",
       "    <tr>\n",
       "      <th>12</th>\n",
       "      <td>1</td>\n",
       "      <td>0</td>\n",
       "      <td>0</td>\n",
       "      <td>0</td>\n",
       "      <td>0</td>\n",
       "      <td>0</td>\n",
       "    </tr>\n",
       "    <tr>\n",
       "      <th>13</th>\n",
       "      <td>0</td>\n",
       "      <td>0</td>\n",
       "      <td>0</td>\n",
       "      <td>0</td>\n",
       "      <td>0</td>\n",
       "      <td>0</td>\n",
       "    </tr>\n",
       "  </tbody>\n",
       "</table>\n",
       "</div>"
      ],
      "text/plain": [
       "    x1  x2  x3  x4  x5  y\n",
       "0    0   0   0   0   0  0\n",
       "1    0   0   0   0   0  0\n",
       "2    0   0   0   0   0  0\n",
       "3    0   0   0   0   0  0\n",
       "4    0   0   0   0   0  0\n",
       "5    0   0   0   0   0  0\n",
       "6    0   0   0   0   0  0\n",
       "7    0   0   0   0   0  0\n",
       "8    0   0   0   0   0  0\n",
       "9    0   0   0   0   0  0\n",
       "10   0   0   0   0   0  0\n",
       "11   0   0   0   0   0  0\n",
       "12   1   0   0   0   0  0\n",
       "13   0   0   0   0   0  0"
      ]
     },
     "execution_count": 25,
     "metadata": {},
     "output_type": "execute_result"
    }
   ],
   "source": [
    "mis_map=create_missingness_map(mcar20)\n",
    "mis_map.head(14)"
   ]
  },
  {
   "cell_type": "markdown",
   "metadata": {},
   "source": [
    "I crate a new dataframe by changing mcar20's x1 with missingness data. So, I can calculate correlation between dataframe."
   ]
  },
  {
   "cell_type": "code",
   "execution_count": 26,
   "metadata": {},
   "outputs": [
    {
     "data": {
      "text/html": [
       "<div>\n",
       "<style scoped>\n",
       "    .dataframe tbody tr th:only-of-type {\n",
       "        vertical-align: middle;\n",
       "    }\n",
       "\n",
       "    .dataframe tbody tr th {\n",
       "        vertical-align: top;\n",
       "    }\n",
       "\n",
       "    .dataframe thead th {\n",
       "        text-align: right;\n",
       "    }\n",
       "</style>\n",
       "<table border=\"1\" class=\"dataframe\">\n",
       "  <thead>\n",
       "    <tr style=\"text-align: right;\">\n",
       "      <th></th>\n",
       "      <th>x2</th>\n",
       "      <th>x3</th>\n",
       "      <th>x4</th>\n",
       "      <th>x5</th>\n",
       "      <th>y</th>\n",
       "      <th>x1</th>\n",
       "    </tr>\n",
       "  </thead>\n",
       "  <tbody>\n",
       "    <tr>\n",
       "      <th>0</th>\n",
       "      <td>2</td>\n",
       "      <td>2</td>\n",
       "      <td>71.873539</td>\n",
       "      <td>77.279942</td>\n",
       "      <td>0</td>\n",
       "      <td>0</td>\n",
       "    </tr>\n",
       "    <tr>\n",
       "      <th>1</th>\n",
       "      <td>2</td>\n",
       "      <td>3</td>\n",
       "      <td>76.329693</td>\n",
       "      <td>123.509762</td>\n",
       "      <td>3</td>\n",
       "      <td>0</td>\n",
       "    </tr>\n",
       "    <tr>\n",
       "      <th>2</th>\n",
       "      <td>2</td>\n",
       "      <td>2</td>\n",
       "      <td>84.726817</td>\n",
       "      <td>94.113034</td>\n",
       "      <td>0</td>\n",
       "      <td>0</td>\n",
       "    </tr>\n",
       "    <tr>\n",
       "      <th>3</th>\n",
       "      <td>1</td>\n",
       "      <td>4</td>\n",
       "      <td>90.894953</td>\n",
       "      <td>131.080126</td>\n",
       "      <td>0</td>\n",
       "      <td>0</td>\n",
       "    </tr>\n",
       "    <tr>\n",
       "      <th>4</th>\n",
       "      <td>2</td>\n",
       "      <td>2</td>\n",
       "      <td>91.377552</td>\n",
       "      <td>78.421426</td>\n",
       "      <td>1</td>\n",
       "      <td>0</td>\n",
       "    </tr>\n",
       "    <tr>\n",
       "      <th>5</th>\n",
       "      <td>1</td>\n",
       "      <td>4</td>\n",
       "      <td>82.418660</td>\n",
       "      <td>128.847297</td>\n",
       "      <td>0</td>\n",
       "      <td>0</td>\n",
       "    </tr>\n",
       "    <tr>\n",
       "      <th>6</th>\n",
       "      <td>3</td>\n",
       "      <td>4</td>\n",
       "      <td>87.124463</td>\n",
       "      <td>82.339298</td>\n",
       "      <td>1</td>\n",
       "      <td>0</td>\n",
       "    </tr>\n",
       "    <tr>\n",
       "      <th>7</th>\n",
       "      <td>2</td>\n",
       "      <td>4</td>\n",
       "      <td>77.472105</td>\n",
       "      <td>87.934054</td>\n",
       "      <td>3</td>\n",
       "      <td>0</td>\n",
       "    </tr>\n",
       "    <tr>\n",
       "      <th>8</th>\n",
       "      <td>2</td>\n",
       "      <td>4</td>\n",
       "      <td>74.768722</td>\n",
       "      <td>95.439607</td>\n",
       "      <td>3</td>\n",
       "      <td>0</td>\n",
       "    </tr>\n",
       "    <tr>\n",
       "      <th>9</th>\n",
       "      <td>2</td>\n",
       "      <td>2</td>\n",
       "      <td>71.275161</td>\n",
       "      <td>91.463072</td>\n",
       "      <td>2</td>\n",
       "      <td>0</td>\n",
       "    </tr>\n",
       "    <tr>\n",
       "      <th>10</th>\n",
       "      <td>2</td>\n",
       "      <td>4</td>\n",
       "      <td>77.365685</td>\n",
       "      <td>103.567460</td>\n",
       "      <td>2</td>\n",
       "      <td>0</td>\n",
       "    </tr>\n",
       "    <tr>\n",
       "      <th>11</th>\n",
       "      <td>1</td>\n",
       "      <td>3</td>\n",
       "      <td>83.534081</td>\n",
       "      <td>138.405058</td>\n",
       "      <td>0</td>\n",
       "      <td>0</td>\n",
       "    </tr>\n",
       "    <tr>\n",
       "      <th>12</th>\n",
       "      <td>1</td>\n",
       "      <td>2</td>\n",
       "      <td>84.062379</td>\n",
       "      <td>109.179599</td>\n",
       "      <td>0</td>\n",
       "      <td>1</td>\n",
       "    </tr>\n",
       "    <tr>\n",
       "      <th>13</th>\n",
       "      <td>2</td>\n",
       "      <td>4</td>\n",
       "      <td>75.389258</td>\n",
       "      <td>90.567082</td>\n",
       "      <td>2</td>\n",
       "      <td>0</td>\n",
       "    </tr>\n",
       "    <tr>\n",
       "      <th>14</th>\n",
       "      <td>3</td>\n",
       "      <td>4</td>\n",
       "      <td>83.104569</td>\n",
       "      <td>75.420790</td>\n",
       "      <td>1</td>\n",
       "      <td>0</td>\n",
       "    </tr>\n",
       "    <tr>\n",
       "      <th>15</th>\n",
       "      <td>3</td>\n",
       "      <td>2</td>\n",
       "      <td>64.123239</td>\n",
       "      <td>42.260621</td>\n",
       "      <td>3</td>\n",
       "      <td>0</td>\n",
       "    </tr>\n",
       "    <tr>\n",
       "      <th>16</th>\n",
       "      <td>2</td>\n",
       "      <td>4</td>\n",
       "      <td>72.685396</td>\n",
       "      <td>87.190220</td>\n",
       "      <td>2</td>\n",
       "      <td>1</td>\n",
       "    </tr>\n",
       "    <tr>\n",
       "      <th>17</th>\n",
       "      <td>2</td>\n",
       "      <td>3</td>\n",
       "      <td>98.968350</td>\n",
       "      <td>139.212810</td>\n",
       "      <td>1</td>\n",
       "      <td>0</td>\n",
       "    </tr>\n",
       "    <tr>\n",
       "      <th>18</th>\n",
       "      <td>2</td>\n",
       "      <td>2</td>\n",
       "      <td>73.522328</td>\n",
       "      <td>63.820414</td>\n",
       "      <td>3</td>\n",
       "      <td>1</td>\n",
       "    </tr>\n",
       "    <tr>\n",
       "      <th>19</th>\n",
       "      <td>2</td>\n",
       "      <td>3</td>\n",
       "      <td>69.322566</td>\n",
       "      <td>117.096653</td>\n",
       "      <td>2</td>\n",
       "      <td>0</td>\n",
       "    </tr>\n",
       "  </tbody>\n",
       "</table>\n",
       "</div>"
      ],
      "text/plain": [
       "    x2  x3         x4          x5  y  x1\n",
       "0    2   2  71.873539   77.279942  0   0\n",
       "1    2   3  76.329693  123.509762  3   0\n",
       "2    2   2  84.726817   94.113034  0   0\n",
       "3    1   4  90.894953  131.080126  0   0\n",
       "4    2   2  91.377552   78.421426  1   0\n",
       "5    1   4  82.418660  128.847297  0   0\n",
       "6    3   4  87.124463   82.339298  1   0\n",
       "7    2   4  77.472105   87.934054  3   0\n",
       "8    2   4  74.768722   95.439607  3   0\n",
       "9    2   2  71.275161   91.463072  2   0\n",
       "10   2   4  77.365685  103.567460  2   0\n",
       "11   1   3  83.534081  138.405058  0   0\n",
       "12   1   2  84.062379  109.179599  0   1\n",
       "13   2   4  75.389258   90.567082  2   0\n",
       "14   3   4  83.104569   75.420790  1   0\n",
       "15   3   2  64.123239   42.260621  3   0\n",
       "16   2   4  72.685396   87.190220  2   1\n",
       "17   2   3  98.968350  139.212810  1   0\n",
       "18   2   2  73.522328   63.820414  3   1\n",
       "19   2   3  69.322566  117.096653  2   0"
      ]
     },
     "execution_count": 26,
     "metadata": {},
     "output_type": "execute_result"
    }
   ],
   "source": [
    "mcar20x = mcar20.drop('x1', 1)\n",
    "mcar20x['x1'] = mis_map['x1']\n",
    "mcar20x.head(20)"
   ]
  },
  {
   "cell_type": "code",
   "execution_count": 27,
   "metadata": {
    "scrolled": false
   },
   "outputs": [
    {
     "data": {
      "text/html": [
       "<div>\n",
       "<style scoped>\n",
       "    .dataframe tbody tr th:only-of-type {\n",
       "        vertical-align: middle;\n",
       "    }\n",
       "\n",
       "    .dataframe tbody tr th {\n",
       "        vertical-align: top;\n",
       "    }\n",
       "\n",
       "    .dataframe thead th {\n",
       "        text-align: right;\n",
       "    }\n",
       "</style>\n",
       "<table border=\"1\" class=\"dataframe\">\n",
       "  <thead>\n",
       "    <tr style=\"text-align: right;\">\n",
       "      <th></th>\n",
       "      <th>x2</th>\n",
       "      <th>x3</th>\n",
       "      <th>x4</th>\n",
       "      <th>x5</th>\n",
       "      <th>y</th>\n",
       "      <th>x1</th>\n",
       "    </tr>\n",
       "  </thead>\n",
       "  <tbody>\n",
       "    <tr>\n",
       "      <th>x2</th>\n",
       "      <td>1.000000</td>\n",
       "      <td>0.019603</td>\n",
       "      <td>0.054856</td>\n",
       "      <td>-0.606791</td>\n",
       "      <td>0.231693</td>\n",
       "      <td>-0.040147</td>\n",
       "    </tr>\n",
       "    <tr>\n",
       "      <th>x3</th>\n",
       "      <td>0.019603</td>\n",
       "      <td>1.000000</td>\n",
       "      <td>-0.041766</td>\n",
       "      <td>0.330263</td>\n",
       "      <td>0.002980</td>\n",
       "      <td>-0.067052</td>\n",
       "    </tr>\n",
       "    <tr>\n",
       "      <th>x4</th>\n",
       "      <td>0.054856</td>\n",
       "      <td>-0.041766</td>\n",
       "      <td>1.000000</td>\n",
       "      <td>0.236410</td>\n",
       "      <td>-0.595002</td>\n",
       "      <td>-0.017305</td>\n",
       "    </tr>\n",
       "    <tr>\n",
       "      <th>x5</th>\n",
       "      <td>-0.606791</td>\n",
       "      <td>0.330263</td>\n",
       "      <td>0.236410</td>\n",
       "      <td>1.000000</td>\n",
       "      <td>-0.368028</td>\n",
       "      <td>-0.113463</td>\n",
       "    </tr>\n",
       "    <tr>\n",
       "      <th>y</th>\n",
       "      <td>0.231693</td>\n",
       "      <td>0.002980</td>\n",
       "      <td>-0.595002</td>\n",
       "      <td>-0.368028</td>\n",
       "      <td>1.000000</td>\n",
       "      <td>0.012743</td>\n",
       "    </tr>\n",
       "    <tr>\n",
       "      <th>x1</th>\n",
       "      <td>-0.040147</td>\n",
       "      <td>-0.067052</td>\n",
       "      <td>-0.017305</td>\n",
       "      <td>-0.113463</td>\n",
       "      <td>0.012743</td>\n",
       "      <td>1.000000</td>\n",
       "    </tr>\n",
       "  </tbody>\n",
       "</table>\n",
       "</div>"
      ],
      "text/plain": [
       "          x2        x3        x4        x5         y        x1\n",
       "x2  1.000000  0.019603  0.054856 -0.606791  0.231693 -0.040147\n",
       "x3  0.019603  1.000000 -0.041766  0.330263  0.002980 -0.067052\n",
       "x4  0.054856 -0.041766  1.000000  0.236410 -0.595002 -0.017305\n",
       "x5 -0.606791  0.330263  0.236410  1.000000 -0.368028 -0.113463\n",
       "y   0.231693  0.002980 -0.595002 -0.368028  1.000000  0.012743\n",
       "x1 -0.040147 -0.067052 -0.017305 -0.113463  0.012743  1.000000"
      ]
     },
     "execution_count": 27,
     "metadata": {},
     "output_type": "execute_result"
    }
   ],
   "source": [
    "mcar20x.corr()"
   ]
  },
  {
   "cell_type": "markdown",
   "metadata": {},
   "source": [
    "As we can see, with x1, almost every other variable have no correlation. So, we can conclude missingness of x1 is not dependent on any other variable in our dataset in the mcar20 dataset that we created."
   ]
  },
  {
   "cell_type": "markdown",
   "metadata": {},
   "source": [
    "Now, we can go back to our mcar20 database and check our second assumption, missigness should not rely on value itself."
   ]
  },
  {
   "cell_type": "code",
   "execution_count": 28,
   "metadata": {},
   "outputs": [],
   "source": [
    "x1_miss = mcar20.loc[mcar20['x1'].notnull()]\n",
    "x1_miss = x1_miss[['x1']]\n",
    "x1_no_miss = data[['x1']]"
   ]
  },
  {
   "cell_type": "markdown",
   "metadata": {},
   "source": [
    "Here I have two databases, each has only x1 variable. x1_miss has only non-missing values whereas x1_no_miss has all the values. My assumption is, if there is a significant difference between their means, there can be a problem as missingness can be a result of value itself. So, I apply a t test to them with null hypothesis of there is no difference between means and alternative hypothesis of difference between means."
   ]
  },
  {
   "cell_type": "code",
   "execution_count": 29,
   "metadata": {},
   "outputs": [
    {
     "name": "stdout",
     "output_type": "stream",
     "text": [
      "p value is:[0.75708458]\n"
     ]
    }
   ],
   "source": [
    "stat, p = ss.ttest_ind(x1_miss, x1_no_miss)\n",
    "p = str(p)\n",
    "print(\"p value is:\" + p)"
   ]
  },
  {
   "cell_type": "markdown",
   "metadata": {},
   "source": [
    "As we have too high p value, we fail to reject the null hypothesis of no differece between means."
   ]
  },
  {
   "cell_type": "markdown",
   "metadata": {},
   "source": [
    "So, I believe I have provided two requirements to be mcar in my database. I completely created random missing values and proved that missingness are 1)independent of other variables and 2)independent of value itself. So, I can create my excel file now."
   ]
  },
  {
   "cell_type": "code",
   "execution_count": 30,
   "metadata": {},
   "outputs": [],
   "source": [
    "mcar20.to_csv(r'C:\\Users\\Lenovo\\Desktop\\mcar20.csv')"
   ]
  },
  {
   "cell_type": "markdown",
   "metadata": {},
   "source": [
    "<h4>Part b</h4>"
   ]
  },
  {
   "cell_type": "markdown",
   "metadata": {},
   "source": [
    "I create my new pandas object, mcar40"
   ]
  },
  {
   "cell_type": "code",
   "execution_count": 31,
   "metadata": {},
   "outputs": [],
   "source": [
    "mcar40 = data.copy()"
   ]
  },
  {
   "cell_type": "markdown",
   "metadata": {},
   "source": [
    "I use my function above and apply it to my mcar40 dataframe."
   ]
  },
  {
   "cell_type": "code",
   "execution_count": 32,
   "metadata": {},
   "outputs": [],
   "source": [
    "x = createRandomSortedList(round(data.shape[0]*0.4))\n",
    "\n",
    "for i in x:\n",
    "    mcar40['x1'][i] = np.nan"
   ]
  },
  {
   "cell_type": "markdown",
   "metadata": {},
   "source": [
    "Now, check whether our mcar20 dataframe is similar to our original data."
   ]
  },
  {
   "cell_type": "code",
   "execution_count": 33,
   "metadata": {},
   "outputs": [
    {
     "data": {
      "text/html": [
       "<div>\n",
       "<style scoped>\n",
       "    .dataframe tbody tr th:only-of-type {\n",
       "        vertical-align: middle;\n",
       "    }\n",
       "\n",
       "    .dataframe tbody tr th {\n",
       "        vertical-align: top;\n",
       "    }\n",
       "\n",
       "    .dataframe thead th {\n",
       "        text-align: right;\n",
       "    }\n",
       "</style>\n",
       "<table border=\"1\" class=\"dataframe\">\n",
       "  <thead>\n",
       "    <tr style=\"text-align: right;\">\n",
       "      <th></th>\n",
       "      <th>x1</th>\n",
       "      <th>x2</th>\n",
       "      <th>x3</th>\n",
       "      <th>x4</th>\n",
       "      <th>x5</th>\n",
       "      <th>y</th>\n",
       "    </tr>\n",
       "  </thead>\n",
       "  <tbody>\n",
       "    <tr>\n",
       "      <th>0</th>\n",
       "      <td>3.0</td>\n",
       "      <td>2</td>\n",
       "      <td>2</td>\n",
       "      <td>71.873539</td>\n",
       "      <td>77.279942</td>\n",
       "      <td>0</td>\n",
       "    </tr>\n",
       "    <tr>\n",
       "      <th>1</th>\n",
       "      <td>NaN</td>\n",
       "      <td>2</td>\n",
       "      <td>3</td>\n",
       "      <td>76.329693</td>\n",
       "      <td>123.509762</td>\n",
       "      <td>3</td>\n",
       "    </tr>\n",
       "    <tr>\n",
       "      <th>2</th>\n",
       "      <td>NaN</td>\n",
       "      <td>2</td>\n",
       "      <td>2</td>\n",
       "      <td>84.726817</td>\n",
       "      <td>94.113034</td>\n",
       "      <td>0</td>\n",
       "    </tr>\n",
       "    <tr>\n",
       "      <th>3</th>\n",
       "      <td>1.0</td>\n",
       "      <td>1</td>\n",
       "      <td>4</td>\n",
       "      <td>90.894953</td>\n",
       "      <td>131.080126</td>\n",
       "      <td>0</td>\n",
       "    </tr>\n",
       "    <tr>\n",
       "      <th>4</th>\n",
       "      <td>1.0</td>\n",
       "      <td>2</td>\n",
       "      <td>2</td>\n",
       "      <td>91.377552</td>\n",
       "      <td>78.421426</td>\n",
       "      <td>1</td>\n",
       "    </tr>\n",
       "  </tbody>\n",
       "</table>\n",
       "</div>"
      ],
      "text/plain": [
       "    x1  x2  x3         x4          x5  y\n",
       "0  3.0   2   2  71.873539   77.279942  0\n",
       "1  NaN   2   3  76.329693  123.509762  3\n",
       "2  NaN   2   2  84.726817   94.113034  0\n",
       "3  1.0   1   4  90.894953  131.080126  0\n",
       "4  1.0   2   2  91.377552   78.421426  1"
      ]
     },
     "execution_count": 33,
     "metadata": {},
     "output_type": "execute_result"
    }
   ],
   "source": [
    " mcar40.head()"
   ]
  },
  {
   "cell_type": "markdown",
   "metadata": {},
   "source": [
    "As it is similar, now we can check how many missing values are there in x1 variable of mcar40."
   ]
  },
  {
   "cell_type": "code",
   "execution_count": 34,
   "metadata": {},
   "outputs": [
    {
     "data": {
      "text/plain": [
       "84"
      ]
     },
     "execution_count": 34,
     "metadata": {},
     "output_type": "execute_result"
    }
   ],
   "source": [
    "mcar40['x1'].isna().sum()"
   ]
  },
  {
   "cell_type": "markdown",
   "metadata": {},
   "source": [
    "We have 84 missing values (210 * 0.4 = 84) and we did this in a completely random manner. However, MCAR have two assumptions we have to test them. 1) Missingness cannot depend on value of other variables, or 2) Value of itself."
   ]
  },
  {
   "cell_type": "markdown",
   "metadata": {},
   "source": [
    "To check first assumption I will use function above to create missingness table."
   ]
  },
  {
   "cell_type": "code",
   "execution_count": 35,
   "metadata": {},
   "outputs": [
    {
     "data": {
      "text/html": [
       "<div>\n",
       "<style scoped>\n",
       "    .dataframe tbody tr th:only-of-type {\n",
       "        vertical-align: middle;\n",
       "    }\n",
       "\n",
       "    .dataframe tbody tr th {\n",
       "        vertical-align: top;\n",
       "    }\n",
       "\n",
       "    .dataframe thead th {\n",
       "        text-align: right;\n",
       "    }\n",
       "</style>\n",
       "<table border=\"1\" class=\"dataframe\">\n",
       "  <thead>\n",
       "    <tr style=\"text-align: right;\">\n",
       "      <th></th>\n",
       "      <th>x1</th>\n",
       "      <th>x2</th>\n",
       "      <th>x3</th>\n",
       "      <th>x4</th>\n",
       "      <th>x5</th>\n",
       "      <th>y</th>\n",
       "    </tr>\n",
       "  </thead>\n",
       "  <tbody>\n",
       "    <tr>\n",
       "      <th>0</th>\n",
       "      <td>0</td>\n",
       "      <td>0</td>\n",
       "      <td>0</td>\n",
       "      <td>0</td>\n",
       "      <td>0</td>\n",
       "      <td>0</td>\n",
       "    </tr>\n",
       "    <tr>\n",
       "      <th>1</th>\n",
       "      <td>1</td>\n",
       "      <td>0</td>\n",
       "      <td>0</td>\n",
       "      <td>0</td>\n",
       "      <td>0</td>\n",
       "      <td>0</td>\n",
       "    </tr>\n",
       "    <tr>\n",
       "      <th>2</th>\n",
       "      <td>1</td>\n",
       "      <td>0</td>\n",
       "      <td>0</td>\n",
       "      <td>0</td>\n",
       "      <td>0</td>\n",
       "      <td>0</td>\n",
       "    </tr>\n",
       "    <tr>\n",
       "      <th>3</th>\n",
       "      <td>0</td>\n",
       "      <td>0</td>\n",
       "      <td>0</td>\n",
       "      <td>0</td>\n",
       "      <td>0</td>\n",
       "      <td>0</td>\n",
       "    </tr>\n",
       "    <tr>\n",
       "      <th>4</th>\n",
       "      <td>0</td>\n",
       "      <td>0</td>\n",
       "      <td>0</td>\n",
       "      <td>0</td>\n",
       "      <td>0</td>\n",
       "      <td>0</td>\n",
       "    </tr>\n",
       "    <tr>\n",
       "      <th>5</th>\n",
       "      <td>1</td>\n",
       "      <td>0</td>\n",
       "      <td>0</td>\n",
       "      <td>0</td>\n",
       "      <td>0</td>\n",
       "      <td>0</td>\n",
       "    </tr>\n",
       "    <tr>\n",
       "      <th>6</th>\n",
       "      <td>0</td>\n",
       "      <td>0</td>\n",
       "      <td>0</td>\n",
       "      <td>0</td>\n",
       "      <td>0</td>\n",
       "      <td>0</td>\n",
       "    </tr>\n",
       "    <tr>\n",
       "      <th>7</th>\n",
       "      <td>0</td>\n",
       "      <td>0</td>\n",
       "      <td>0</td>\n",
       "      <td>0</td>\n",
       "      <td>0</td>\n",
       "      <td>0</td>\n",
       "    </tr>\n",
       "    <tr>\n",
       "      <th>8</th>\n",
       "      <td>1</td>\n",
       "      <td>0</td>\n",
       "      <td>0</td>\n",
       "      <td>0</td>\n",
       "      <td>0</td>\n",
       "      <td>0</td>\n",
       "    </tr>\n",
       "    <tr>\n",
       "      <th>9</th>\n",
       "      <td>0</td>\n",
       "      <td>0</td>\n",
       "      <td>0</td>\n",
       "      <td>0</td>\n",
       "      <td>0</td>\n",
       "      <td>0</td>\n",
       "    </tr>\n",
       "    <tr>\n",
       "      <th>10</th>\n",
       "      <td>0</td>\n",
       "      <td>0</td>\n",
       "      <td>0</td>\n",
       "      <td>0</td>\n",
       "      <td>0</td>\n",
       "      <td>0</td>\n",
       "    </tr>\n",
       "    <tr>\n",
       "      <th>11</th>\n",
       "      <td>0</td>\n",
       "      <td>0</td>\n",
       "      <td>0</td>\n",
       "      <td>0</td>\n",
       "      <td>0</td>\n",
       "      <td>0</td>\n",
       "    </tr>\n",
       "    <tr>\n",
       "      <th>12</th>\n",
       "      <td>1</td>\n",
       "      <td>0</td>\n",
       "      <td>0</td>\n",
       "      <td>0</td>\n",
       "      <td>0</td>\n",
       "      <td>0</td>\n",
       "    </tr>\n",
       "    <tr>\n",
       "      <th>13</th>\n",
       "      <td>0</td>\n",
       "      <td>0</td>\n",
       "      <td>0</td>\n",
       "      <td>0</td>\n",
       "      <td>0</td>\n",
       "      <td>0</td>\n",
       "    </tr>\n",
       "  </tbody>\n",
       "</table>\n",
       "</div>"
      ],
      "text/plain": [
       "    x1  x2  x3  x4  x5  y\n",
       "0    0   0   0   0   0  0\n",
       "1    1   0   0   0   0  0\n",
       "2    1   0   0   0   0  0\n",
       "3    0   0   0   0   0  0\n",
       "4    0   0   0   0   0  0\n",
       "5    1   0   0   0   0  0\n",
       "6    0   0   0   0   0  0\n",
       "7    0   0   0   0   0  0\n",
       "8    1   0   0   0   0  0\n",
       "9    0   0   0   0   0  0\n",
       "10   0   0   0   0   0  0\n",
       "11   0   0   0   0   0  0\n",
       "12   1   0   0   0   0  0\n",
       "13   0   0   0   0   0  0"
      ]
     },
     "execution_count": 35,
     "metadata": {},
     "output_type": "execute_result"
    }
   ],
   "source": [
    "mis_map=create_missingness_map(mcar40)\n",
    "mis_map.head(14)"
   ]
  },
  {
   "cell_type": "markdown",
   "metadata": {},
   "source": [
    "I crate a new dataframe by changing mcar20's x1 with missingness data. So, I can calculate correlation between dataframe."
   ]
  },
  {
   "cell_type": "code",
   "execution_count": 36,
   "metadata": {},
   "outputs": [
    {
     "data": {
      "text/html": [
       "<div>\n",
       "<style scoped>\n",
       "    .dataframe tbody tr th:only-of-type {\n",
       "        vertical-align: middle;\n",
       "    }\n",
       "\n",
       "    .dataframe tbody tr th {\n",
       "        vertical-align: top;\n",
       "    }\n",
       "\n",
       "    .dataframe thead th {\n",
       "        text-align: right;\n",
       "    }\n",
       "</style>\n",
       "<table border=\"1\" class=\"dataframe\">\n",
       "  <thead>\n",
       "    <tr style=\"text-align: right;\">\n",
       "      <th></th>\n",
       "      <th>x2</th>\n",
       "      <th>x3</th>\n",
       "      <th>x4</th>\n",
       "      <th>x5</th>\n",
       "      <th>y</th>\n",
       "      <th>x1</th>\n",
       "    </tr>\n",
       "  </thead>\n",
       "  <tbody>\n",
       "    <tr>\n",
       "      <th>0</th>\n",
       "      <td>2</td>\n",
       "      <td>2</td>\n",
       "      <td>71.873539</td>\n",
       "      <td>77.279942</td>\n",
       "      <td>0</td>\n",
       "      <td>0</td>\n",
       "    </tr>\n",
       "    <tr>\n",
       "      <th>1</th>\n",
       "      <td>2</td>\n",
       "      <td>3</td>\n",
       "      <td>76.329693</td>\n",
       "      <td>123.509762</td>\n",
       "      <td>3</td>\n",
       "      <td>1</td>\n",
       "    </tr>\n",
       "    <tr>\n",
       "      <th>2</th>\n",
       "      <td>2</td>\n",
       "      <td>2</td>\n",
       "      <td>84.726817</td>\n",
       "      <td>94.113034</td>\n",
       "      <td>0</td>\n",
       "      <td>1</td>\n",
       "    </tr>\n",
       "    <tr>\n",
       "      <th>3</th>\n",
       "      <td>1</td>\n",
       "      <td>4</td>\n",
       "      <td>90.894953</td>\n",
       "      <td>131.080126</td>\n",
       "      <td>0</td>\n",
       "      <td>0</td>\n",
       "    </tr>\n",
       "    <tr>\n",
       "      <th>4</th>\n",
       "      <td>2</td>\n",
       "      <td>2</td>\n",
       "      <td>91.377552</td>\n",
       "      <td>78.421426</td>\n",
       "      <td>1</td>\n",
       "      <td>0</td>\n",
       "    </tr>\n",
       "    <tr>\n",
       "      <th>5</th>\n",
       "      <td>1</td>\n",
       "      <td>4</td>\n",
       "      <td>82.418660</td>\n",
       "      <td>128.847297</td>\n",
       "      <td>0</td>\n",
       "      <td>1</td>\n",
       "    </tr>\n",
       "    <tr>\n",
       "      <th>6</th>\n",
       "      <td>3</td>\n",
       "      <td>4</td>\n",
       "      <td>87.124463</td>\n",
       "      <td>82.339298</td>\n",
       "      <td>1</td>\n",
       "      <td>0</td>\n",
       "    </tr>\n",
       "    <tr>\n",
       "      <th>7</th>\n",
       "      <td>2</td>\n",
       "      <td>4</td>\n",
       "      <td>77.472105</td>\n",
       "      <td>87.934054</td>\n",
       "      <td>3</td>\n",
       "      <td>0</td>\n",
       "    </tr>\n",
       "    <tr>\n",
       "      <th>8</th>\n",
       "      <td>2</td>\n",
       "      <td>4</td>\n",
       "      <td>74.768722</td>\n",
       "      <td>95.439607</td>\n",
       "      <td>3</td>\n",
       "      <td>1</td>\n",
       "    </tr>\n",
       "    <tr>\n",
       "      <th>9</th>\n",
       "      <td>2</td>\n",
       "      <td>2</td>\n",
       "      <td>71.275161</td>\n",
       "      <td>91.463072</td>\n",
       "      <td>2</td>\n",
       "      <td>0</td>\n",
       "    </tr>\n",
       "    <tr>\n",
       "      <th>10</th>\n",
       "      <td>2</td>\n",
       "      <td>4</td>\n",
       "      <td>77.365685</td>\n",
       "      <td>103.567460</td>\n",
       "      <td>2</td>\n",
       "      <td>0</td>\n",
       "    </tr>\n",
       "    <tr>\n",
       "      <th>11</th>\n",
       "      <td>1</td>\n",
       "      <td>3</td>\n",
       "      <td>83.534081</td>\n",
       "      <td>138.405058</td>\n",
       "      <td>0</td>\n",
       "      <td>0</td>\n",
       "    </tr>\n",
       "    <tr>\n",
       "      <th>12</th>\n",
       "      <td>1</td>\n",
       "      <td>2</td>\n",
       "      <td>84.062379</td>\n",
       "      <td>109.179599</td>\n",
       "      <td>0</td>\n",
       "      <td>1</td>\n",
       "    </tr>\n",
       "    <tr>\n",
       "      <th>13</th>\n",
       "      <td>2</td>\n",
       "      <td>4</td>\n",
       "      <td>75.389258</td>\n",
       "      <td>90.567082</td>\n",
       "      <td>2</td>\n",
       "      <td>0</td>\n",
       "    </tr>\n",
       "    <tr>\n",
       "      <th>14</th>\n",
       "      <td>3</td>\n",
       "      <td>4</td>\n",
       "      <td>83.104569</td>\n",
       "      <td>75.420790</td>\n",
       "      <td>1</td>\n",
       "      <td>0</td>\n",
       "    </tr>\n",
       "    <tr>\n",
       "      <th>15</th>\n",
       "      <td>3</td>\n",
       "      <td>2</td>\n",
       "      <td>64.123239</td>\n",
       "      <td>42.260621</td>\n",
       "      <td>3</td>\n",
       "      <td>0</td>\n",
       "    </tr>\n",
       "    <tr>\n",
       "      <th>16</th>\n",
       "      <td>2</td>\n",
       "      <td>4</td>\n",
       "      <td>72.685396</td>\n",
       "      <td>87.190220</td>\n",
       "      <td>2</td>\n",
       "      <td>1</td>\n",
       "    </tr>\n",
       "    <tr>\n",
       "      <th>17</th>\n",
       "      <td>2</td>\n",
       "      <td>3</td>\n",
       "      <td>98.968350</td>\n",
       "      <td>139.212810</td>\n",
       "      <td>1</td>\n",
       "      <td>0</td>\n",
       "    </tr>\n",
       "    <tr>\n",
       "      <th>18</th>\n",
       "      <td>2</td>\n",
       "      <td>2</td>\n",
       "      <td>73.522328</td>\n",
       "      <td>63.820414</td>\n",
       "      <td>3</td>\n",
       "      <td>1</td>\n",
       "    </tr>\n",
       "    <tr>\n",
       "      <th>19</th>\n",
       "      <td>2</td>\n",
       "      <td>3</td>\n",
       "      <td>69.322566</td>\n",
       "      <td>117.096653</td>\n",
       "      <td>2</td>\n",
       "      <td>1</td>\n",
       "    </tr>\n",
       "  </tbody>\n",
       "</table>\n",
       "</div>"
      ],
      "text/plain": [
       "    x2  x3         x4          x5  y  x1\n",
       "0    2   2  71.873539   77.279942  0   0\n",
       "1    2   3  76.329693  123.509762  3   1\n",
       "2    2   2  84.726817   94.113034  0   1\n",
       "3    1   4  90.894953  131.080126  0   0\n",
       "4    2   2  91.377552   78.421426  1   0\n",
       "5    1   4  82.418660  128.847297  0   1\n",
       "6    3   4  87.124463   82.339298  1   0\n",
       "7    2   4  77.472105   87.934054  3   0\n",
       "8    2   4  74.768722   95.439607  3   1\n",
       "9    2   2  71.275161   91.463072  2   0\n",
       "10   2   4  77.365685  103.567460  2   0\n",
       "11   1   3  83.534081  138.405058  0   0\n",
       "12   1   2  84.062379  109.179599  0   1\n",
       "13   2   4  75.389258   90.567082  2   0\n",
       "14   3   4  83.104569   75.420790  1   0\n",
       "15   3   2  64.123239   42.260621  3   0\n",
       "16   2   4  72.685396   87.190220  2   1\n",
       "17   2   3  98.968350  139.212810  1   0\n",
       "18   2   2  73.522328   63.820414  3   1\n",
       "19   2   3  69.322566  117.096653  2   1"
      ]
     },
     "execution_count": 36,
     "metadata": {},
     "output_type": "execute_result"
    }
   ],
   "source": [
    "mcar40x = mcar40.drop('x1', 1)\n",
    "mcar40x['x1'] = mis_map['x1']\n",
    "mcar40x.head(20)"
   ]
  },
  {
   "cell_type": "code",
   "execution_count": 37,
   "metadata": {
    "scrolled": false
   },
   "outputs": [
    {
     "data": {
      "text/html": [
       "<div>\n",
       "<style scoped>\n",
       "    .dataframe tbody tr th:only-of-type {\n",
       "        vertical-align: middle;\n",
       "    }\n",
       "\n",
       "    .dataframe tbody tr th {\n",
       "        vertical-align: top;\n",
       "    }\n",
       "\n",
       "    .dataframe thead th {\n",
       "        text-align: right;\n",
       "    }\n",
       "</style>\n",
       "<table border=\"1\" class=\"dataframe\">\n",
       "  <thead>\n",
       "    <tr style=\"text-align: right;\">\n",
       "      <th></th>\n",
       "      <th>x2</th>\n",
       "      <th>x3</th>\n",
       "      <th>x4</th>\n",
       "      <th>x5</th>\n",
       "      <th>y</th>\n",
       "      <th>x1</th>\n",
       "    </tr>\n",
       "  </thead>\n",
       "  <tbody>\n",
       "    <tr>\n",
       "      <th>x2</th>\n",
       "      <td>1.000000</td>\n",
       "      <td>0.019603</td>\n",
       "      <td>0.054856</td>\n",
       "      <td>-0.606791</td>\n",
       "      <td>0.231693</td>\n",
       "      <td>-0.010927</td>\n",
       "    </tr>\n",
       "    <tr>\n",
       "      <th>x3</th>\n",
       "      <td>0.019603</td>\n",
       "      <td>1.000000</td>\n",
       "      <td>-0.041766</td>\n",
       "      <td>0.330263</td>\n",
       "      <td>0.002980</td>\n",
       "      <td>-0.035797</td>\n",
       "    </tr>\n",
       "    <tr>\n",
       "      <th>x4</th>\n",
       "      <td>0.054856</td>\n",
       "      <td>-0.041766</td>\n",
       "      <td>1.000000</td>\n",
       "      <td>0.236410</td>\n",
       "      <td>-0.595002</td>\n",
       "      <td>-0.044661</td>\n",
       "    </tr>\n",
       "    <tr>\n",
       "      <th>x5</th>\n",
       "      <td>-0.606791</td>\n",
       "      <td>0.330263</td>\n",
       "      <td>0.236410</td>\n",
       "      <td>1.000000</td>\n",
       "      <td>-0.368028</td>\n",
       "      <td>-0.055459</td>\n",
       "    </tr>\n",
       "    <tr>\n",
       "      <th>y</th>\n",
       "      <td>0.231693</td>\n",
       "      <td>0.002980</td>\n",
       "      <td>-0.595002</td>\n",
       "      <td>-0.368028</td>\n",
       "      <td>1.000000</td>\n",
       "      <td>0.046821</td>\n",
       "    </tr>\n",
       "    <tr>\n",
       "      <th>x1</th>\n",
       "      <td>-0.010927</td>\n",
       "      <td>-0.035797</td>\n",
       "      <td>-0.044661</td>\n",
       "      <td>-0.055459</td>\n",
       "      <td>0.046821</td>\n",
       "      <td>1.000000</td>\n",
       "    </tr>\n",
       "  </tbody>\n",
       "</table>\n",
       "</div>"
      ],
      "text/plain": [
       "          x2        x3        x4        x5         y        x1\n",
       "x2  1.000000  0.019603  0.054856 -0.606791  0.231693 -0.010927\n",
       "x3  0.019603  1.000000 -0.041766  0.330263  0.002980 -0.035797\n",
       "x4  0.054856 -0.041766  1.000000  0.236410 -0.595002 -0.044661\n",
       "x5 -0.606791  0.330263  0.236410  1.000000 -0.368028 -0.055459\n",
       "y   0.231693  0.002980 -0.595002 -0.368028  1.000000  0.046821\n",
       "x1 -0.010927 -0.035797 -0.044661 -0.055459  0.046821  1.000000"
      ]
     },
     "execution_count": 37,
     "metadata": {},
     "output_type": "execute_result"
    }
   ],
   "source": [
    "mcar40x.corr()"
   ]
  },
  {
   "cell_type": "markdown",
   "metadata": {},
   "source": [
    "As we can see, with x1, almost every other variable have no correlation. So, we can conclude missingness of x1 is not dependent on any other variable in our dataset in the mcar40 dataset that we created."
   ]
  },
  {
   "cell_type": "markdown",
   "metadata": {},
   "source": [
    "Now, we can go back to our mcar20 database and check our second assumption, missigness should not rely on value itself."
   ]
  },
  {
   "cell_type": "code",
   "execution_count": 38,
   "metadata": {},
   "outputs": [],
   "source": [
    "x1_miss = mcar40.loc[mcar40['x1'].notnull()]\n",
    "x1_miss = x1_miss[['x1']]\n",
    "x1_no_miss = data[['x1']]"
   ]
  },
  {
   "cell_type": "markdown",
   "metadata": {},
   "source": [
    "Here I have two databases, each has only x1 variable. x1_miss has only non-missing values whereas x1_no_miss has all the values. My assumption is, if there is a significant difference between their means, there can be a problem as missingness can be a result of value itself. So, I apply a t test to them with null hypothesis of there is no difference between means and alternative hypothesis of difference between means."
   ]
  },
  {
   "cell_type": "code",
   "execution_count": 39,
   "metadata": {},
   "outputs": [
    {
     "name": "stdout",
     "output_type": "stream",
     "text": [
      "p value is:[0.62414672]\n"
     ]
    }
   ],
   "source": [
    "stat, p = ss.ttest_ind(x1_miss, x1_no_miss)\n",
    "p = str(p)\n",
    "print(\"p value is:\" + p)"
   ]
  },
  {
   "cell_type": "markdown",
   "metadata": {},
   "source": [
    "As we have too high p value, we fail to reject the null hypothesis of no differece between means."
   ]
  },
  {
   "cell_type": "markdown",
   "metadata": {},
   "source": [
    "So, I believe I have provided two requirements to be mcar in my database. I completely created random missing values and proved that missingness are 1)independent of other variables and 2)independent of value itself. So, I can create my excel file now."
   ]
  },
  {
   "cell_type": "code",
   "execution_count": 40,
   "metadata": {},
   "outputs": [],
   "source": [
    "mcar40.to_csv(r'C:\\Users\\Lenovo\\Desktop\\mcar40.csv')"
   ]
  },
  {
   "cell_type": "markdown",
   "metadata": {},
   "source": [
    "<h4>Part c</h4>"
   ]
  },
  {
   "cell_type": "markdown",
   "metadata": {},
   "source": [
    "To be MAR, missing values should depend on the value of one or more other variables but it should not depend on the value of itself. For this purpose, as I have already established a high correlation between x1 and x4 (see question 2 above), I used a relationship between x1 and x4 to create a MAR. First, I create mar20."
   ]
  },
  {
   "cell_type": "code",
   "execution_count": 41,
   "metadata": {},
   "outputs": [],
   "source": [
    "mar20 = data.copy()"
   ]
  },
  {
   "cell_type": "markdown",
   "metadata": {},
   "source": [
    "I find indexes of entities that have x4 value lower than 78 (almost median) and save it as a list."
   ]
  },
  {
   "cell_type": "code",
   "execution_count": 42,
   "metadata": {},
   "outputs": [],
   "source": [
    "alist = data.index[(data['x4'] < 78)].tolist()"
   ]
  },
  {
   "cell_type": "markdown",
   "metadata": {},
   "source": [
    "Then, I create random unique numbers from that list that has exactly same amount of our required missing amount."
   ]
  },
  {
   "cell_type": "code",
   "execution_count": 43,
   "metadata": {},
   "outputs": [],
   "source": [
    "random.seed(101)\n",
    "randomlist = random.sample(alist, k=42)"
   ]
  },
  {
   "cell_type": "markdown",
   "metadata": {},
   "source": [
    "Then, I make all of x1 values for corresponding indexes null."
   ]
  },
  {
   "cell_type": "code",
   "execution_count": 44,
   "metadata": {},
   "outputs": [],
   "source": [
    "for i in randomlist:\n",
    "    mar20['x1'][i] = np.nan"
   ]
  },
  {
   "cell_type": "markdown",
   "metadata": {},
   "source": [
    "Now, check whether our mcar20 dataframe is similar to our original data."
   ]
  },
  {
   "cell_type": "code",
   "execution_count": 45,
   "metadata": {
    "scrolled": false
   },
   "outputs": [
    {
     "data": {
      "text/html": [
       "<div>\n",
       "<style scoped>\n",
       "    .dataframe tbody tr th:only-of-type {\n",
       "        vertical-align: middle;\n",
       "    }\n",
       "\n",
       "    .dataframe tbody tr th {\n",
       "        vertical-align: top;\n",
       "    }\n",
       "\n",
       "    .dataframe thead th {\n",
       "        text-align: right;\n",
       "    }\n",
       "</style>\n",
       "<table border=\"1\" class=\"dataframe\">\n",
       "  <thead>\n",
       "    <tr style=\"text-align: right;\">\n",
       "      <th></th>\n",
       "      <th>x1</th>\n",
       "      <th>x2</th>\n",
       "      <th>x3</th>\n",
       "      <th>x4</th>\n",
       "      <th>x5</th>\n",
       "      <th>y</th>\n",
       "    </tr>\n",
       "  </thead>\n",
       "  <tbody>\n",
       "    <tr>\n",
       "      <th>0</th>\n",
       "      <td>3.0</td>\n",
       "      <td>2</td>\n",
       "      <td>2</td>\n",
       "      <td>71.873539</td>\n",
       "      <td>77.279942</td>\n",
       "      <td>0</td>\n",
       "    </tr>\n",
       "    <tr>\n",
       "      <th>1</th>\n",
       "      <td>2.0</td>\n",
       "      <td>2</td>\n",
       "      <td>3</td>\n",
       "      <td>76.329693</td>\n",
       "      <td>123.509762</td>\n",
       "      <td>3</td>\n",
       "    </tr>\n",
       "    <tr>\n",
       "      <th>2</th>\n",
       "      <td>2.0</td>\n",
       "      <td>2</td>\n",
       "      <td>2</td>\n",
       "      <td>84.726817</td>\n",
       "      <td>94.113034</td>\n",
       "      <td>0</td>\n",
       "    </tr>\n",
       "    <tr>\n",
       "      <th>3</th>\n",
       "      <td>1.0</td>\n",
       "      <td>1</td>\n",
       "      <td>4</td>\n",
       "      <td>90.894953</td>\n",
       "      <td>131.080126</td>\n",
       "      <td>0</td>\n",
       "    </tr>\n",
       "    <tr>\n",
       "      <th>4</th>\n",
       "      <td>1.0</td>\n",
       "      <td>2</td>\n",
       "      <td>2</td>\n",
       "      <td>91.377552</td>\n",
       "      <td>78.421426</td>\n",
       "      <td>1</td>\n",
       "    </tr>\n",
       "  </tbody>\n",
       "</table>\n",
       "</div>"
      ],
      "text/plain": [
       "    x1  x2  x3         x4          x5  y\n",
       "0  3.0   2   2  71.873539   77.279942  0\n",
       "1  2.0   2   3  76.329693  123.509762  3\n",
       "2  2.0   2   2  84.726817   94.113034  0\n",
       "3  1.0   1   4  90.894953  131.080126  0\n",
       "4  1.0   2   2  91.377552   78.421426  1"
      ]
     },
     "execution_count": 45,
     "metadata": {},
     "output_type": "execute_result"
    }
   ],
   "source": [
    "mar20.head()"
   ]
  },
  {
   "cell_type": "markdown",
   "metadata": {},
   "source": [
    "As it is similar, now we can check how many missing values are there in x1 variable of mar20."
   ]
  },
  {
   "cell_type": "code",
   "execution_count": 46,
   "metadata": {},
   "outputs": [
    {
     "data": {
      "text/plain": [
       "42"
      ]
     },
     "execution_count": 46,
     "metadata": {},
     "output_type": "execute_result"
    }
   ],
   "source": [
    "mar20['x1'].isna().sum()"
   ]
  },
  {
   "cell_type": "markdown",
   "metadata": {},
   "source": [
    "We have 42 missing values (210 * 0.2 = 42) and we did this with relating missingness to other variables (in my example, y). However, MAR have two assumptions we have to test them. 1) Missingness should depend on value of other variables and 2) Not to value of itself."
   ]
  },
  {
   "cell_type": "markdown",
   "metadata": {},
   "source": [
    "To check first assumption I will use function above to create missingness table."
   ]
  },
  {
   "cell_type": "code",
   "execution_count": 47,
   "metadata": {},
   "outputs": [
    {
     "data": {
      "text/html": [
       "<div>\n",
       "<style scoped>\n",
       "    .dataframe tbody tr th:only-of-type {\n",
       "        vertical-align: middle;\n",
       "    }\n",
       "\n",
       "    .dataframe tbody tr th {\n",
       "        vertical-align: top;\n",
       "    }\n",
       "\n",
       "    .dataframe thead th {\n",
       "        text-align: right;\n",
       "    }\n",
       "</style>\n",
       "<table border=\"1\" class=\"dataframe\">\n",
       "  <thead>\n",
       "    <tr style=\"text-align: right;\">\n",
       "      <th></th>\n",
       "      <th>x1</th>\n",
       "      <th>x2</th>\n",
       "      <th>x3</th>\n",
       "      <th>x4</th>\n",
       "      <th>x5</th>\n",
       "      <th>y</th>\n",
       "    </tr>\n",
       "  </thead>\n",
       "  <tbody>\n",
       "    <tr>\n",
       "      <th>0</th>\n",
       "      <td>0</td>\n",
       "      <td>0</td>\n",
       "      <td>0</td>\n",
       "      <td>0</td>\n",
       "      <td>0</td>\n",
       "      <td>0</td>\n",
       "    </tr>\n",
       "    <tr>\n",
       "      <th>1</th>\n",
       "      <td>0</td>\n",
       "      <td>0</td>\n",
       "      <td>0</td>\n",
       "      <td>0</td>\n",
       "      <td>0</td>\n",
       "      <td>0</td>\n",
       "    </tr>\n",
       "    <tr>\n",
       "      <th>2</th>\n",
       "      <td>0</td>\n",
       "      <td>0</td>\n",
       "      <td>0</td>\n",
       "      <td>0</td>\n",
       "      <td>0</td>\n",
       "      <td>0</td>\n",
       "    </tr>\n",
       "    <tr>\n",
       "      <th>3</th>\n",
       "      <td>0</td>\n",
       "      <td>0</td>\n",
       "      <td>0</td>\n",
       "      <td>0</td>\n",
       "      <td>0</td>\n",
       "      <td>0</td>\n",
       "    </tr>\n",
       "    <tr>\n",
       "      <th>4</th>\n",
       "      <td>0</td>\n",
       "      <td>0</td>\n",
       "      <td>0</td>\n",
       "      <td>0</td>\n",
       "      <td>0</td>\n",
       "      <td>0</td>\n",
       "    </tr>\n",
       "    <tr>\n",
       "      <th>5</th>\n",
       "      <td>0</td>\n",
       "      <td>0</td>\n",
       "      <td>0</td>\n",
       "      <td>0</td>\n",
       "      <td>0</td>\n",
       "      <td>0</td>\n",
       "    </tr>\n",
       "    <tr>\n",
       "      <th>6</th>\n",
       "      <td>0</td>\n",
       "      <td>0</td>\n",
       "      <td>0</td>\n",
       "      <td>0</td>\n",
       "      <td>0</td>\n",
       "      <td>0</td>\n",
       "    </tr>\n",
       "    <tr>\n",
       "      <th>7</th>\n",
       "      <td>0</td>\n",
       "      <td>0</td>\n",
       "      <td>0</td>\n",
       "      <td>0</td>\n",
       "      <td>0</td>\n",
       "      <td>0</td>\n",
       "    </tr>\n",
       "    <tr>\n",
       "      <th>8</th>\n",
       "      <td>0</td>\n",
       "      <td>0</td>\n",
       "      <td>0</td>\n",
       "      <td>0</td>\n",
       "      <td>0</td>\n",
       "      <td>0</td>\n",
       "    </tr>\n",
       "    <tr>\n",
       "      <th>9</th>\n",
       "      <td>0</td>\n",
       "      <td>0</td>\n",
       "      <td>0</td>\n",
       "      <td>0</td>\n",
       "      <td>0</td>\n",
       "      <td>0</td>\n",
       "    </tr>\n",
       "    <tr>\n",
       "      <th>10</th>\n",
       "      <td>0</td>\n",
       "      <td>0</td>\n",
       "      <td>0</td>\n",
       "      <td>0</td>\n",
       "      <td>0</td>\n",
       "      <td>0</td>\n",
       "    </tr>\n",
       "    <tr>\n",
       "      <th>11</th>\n",
       "      <td>0</td>\n",
       "      <td>0</td>\n",
       "      <td>0</td>\n",
       "      <td>0</td>\n",
       "      <td>0</td>\n",
       "      <td>0</td>\n",
       "    </tr>\n",
       "    <tr>\n",
       "      <th>12</th>\n",
       "      <td>0</td>\n",
       "      <td>0</td>\n",
       "      <td>0</td>\n",
       "      <td>0</td>\n",
       "      <td>0</td>\n",
       "      <td>0</td>\n",
       "    </tr>\n",
       "    <tr>\n",
       "      <th>13</th>\n",
       "      <td>1</td>\n",
       "      <td>0</td>\n",
       "      <td>0</td>\n",
       "      <td>0</td>\n",
       "      <td>0</td>\n",
       "      <td>0</td>\n",
       "    </tr>\n",
       "  </tbody>\n",
       "</table>\n",
       "</div>"
      ],
      "text/plain": [
       "    x1  x2  x3  x4  x5  y\n",
       "0    0   0   0   0   0  0\n",
       "1    0   0   0   0   0  0\n",
       "2    0   0   0   0   0  0\n",
       "3    0   0   0   0   0  0\n",
       "4    0   0   0   0   0  0\n",
       "5    0   0   0   0   0  0\n",
       "6    0   0   0   0   0  0\n",
       "7    0   0   0   0   0  0\n",
       "8    0   0   0   0   0  0\n",
       "9    0   0   0   0   0  0\n",
       "10   0   0   0   0   0  0\n",
       "11   0   0   0   0   0  0\n",
       "12   0   0   0   0   0  0\n",
       "13   1   0   0   0   0  0"
      ]
     },
     "execution_count": 47,
     "metadata": {},
     "output_type": "execute_result"
    }
   ],
   "source": [
    "mis_map=create_missingness_map(mar20)\n",
    "mis_map.head(14)"
   ]
  },
  {
   "cell_type": "markdown",
   "metadata": {},
   "source": [
    "I crate a new dataframe by changing mcar20's x1 with missingness data. So, I can calculate correlation between dataframe."
   ]
  },
  {
   "cell_type": "code",
   "execution_count": 48,
   "metadata": {},
   "outputs": [
    {
     "data": {
      "text/html": [
       "<div>\n",
       "<style scoped>\n",
       "    .dataframe tbody tr th:only-of-type {\n",
       "        vertical-align: middle;\n",
       "    }\n",
       "\n",
       "    .dataframe tbody tr th {\n",
       "        vertical-align: top;\n",
       "    }\n",
       "\n",
       "    .dataframe thead th {\n",
       "        text-align: right;\n",
       "    }\n",
       "</style>\n",
       "<table border=\"1\" class=\"dataframe\">\n",
       "  <thead>\n",
       "    <tr style=\"text-align: right;\">\n",
       "      <th></th>\n",
       "      <th>x2</th>\n",
       "      <th>x3</th>\n",
       "      <th>x4</th>\n",
       "      <th>x5</th>\n",
       "      <th>y</th>\n",
       "      <th>x1</th>\n",
       "    </tr>\n",
       "  </thead>\n",
       "  <tbody>\n",
       "    <tr>\n",
       "      <th>0</th>\n",
       "      <td>2</td>\n",
       "      <td>2</td>\n",
       "      <td>71.873539</td>\n",
       "      <td>77.279942</td>\n",
       "      <td>0</td>\n",
       "      <td>0</td>\n",
       "    </tr>\n",
       "    <tr>\n",
       "      <th>1</th>\n",
       "      <td>2</td>\n",
       "      <td>3</td>\n",
       "      <td>76.329693</td>\n",
       "      <td>123.509762</td>\n",
       "      <td>3</td>\n",
       "      <td>0</td>\n",
       "    </tr>\n",
       "    <tr>\n",
       "      <th>2</th>\n",
       "      <td>2</td>\n",
       "      <td>2</td>\n",
       "      <td>84.726817</td>\n",
       "      <td>94.113034</td>\n",
       "      <td>0</td>\n",
       "      <td>0</td>\n",
       "    </tr>\n",
       "    <tr>\n",
       "      <th>3</th>\n",
       "      <td>1</td>\n",
       "      <td>4</td>\n",
       "      <td>90.894953</td>\n",
       "      <td>131.080126</td>\n",
       "      <td>0</td>\n",
       "      <td>0</td>\n",
       "    </tr>\n",
       "    <tr>\n",
       "      <th>4</th>\n",
       "      <td>2</td>\n",
       "      <td>2</td>\n",
       "      <td>91.377552</td>\n",
       "      <td>78.421426</td>\n",
       "      <td>1</td>\n",
       "      <td>0</td>\n",
       "    </tr>\n",
       "    <tr>\n",
       "      <th>5</th>\n",
       "      <td>1</td>\n",
       "      <td>4</td>\n",
       "      <td>82.418660</td>\n",
       "      <td>128.847297</td>\n",
       "      <td>0</td>\n",
       "      <td>0</td>\n",
       "    </tr>\n",
       "    <tr>\n",
       "      <th>6</th>\n",
       "      <td>3</td>\n",
       "      <td>4</td>\n",
       "      <td>87.124463</td>\n",
       "      <td>82.339298</td>\n",
       "      <td>1</td>\n",
       "      <td>0</td>\n",
       "    </tr>\n",
       "    <tr>\n",
       "      <th>7</th>\n",
       "      <td>2</td>\n",
       "      <td>4</td>\n",
       "      <td>77.472105</td>\n",
       "      <td>87.934054</td>\n",
       "      <td>3</td>\n",
       "      <td>0</td>\n",
       "    </tr>\n",
       "    <tr>\n",
       "      <th>8</th>\n",
       "      <td>2</td>\n",
       "      <td>4</td>\n",
       "      <td>74.768722</td>\n",
       "      <td>95.439607</td>\n",
       "      <td>3</td>\n",
       "      <td>0</td>\n",
       "    </tr>\n",
       "    <tr>\n",
       "      <th>9</th>\n",
       "      <td>2</td>\n",
       "      <td>2</td>\n",
       "      <td>71.275161</td>\n",
       "      <td>91.463072</td>\n",
       "      <td>2</td>\n",
       "      <td>0</td>\n",
       "    </tr>\n",
       "    <tr>\n",
       "      <th>10</th>\n",
       "      <td>2</td>\n",
       "      <td>4</td>\n",
       "      <td>77.365685</td>\n",
       "      <td>103.567460</td>\n",
       "      <td>2</td>\n",
       "      <td>0</td>\n",
       "    </tr>\n",
       "    <tr>\n",
       "      <th>11</th>\n",
       "      <td>1</td>\n",
       "      <td>3</td>\n",
       "      <td>83.534081</td>\n",
       "      <td>138.405058</td>\n",
       "      <td>0</td>\n",
       "      <td>0</td>\n",
       "    </tr>\n",
       "    <tr>\n",
       "      <th>12</th>\n",
       "      <td>1</td>\n",
       "      <td>2</td>\n",
       "      <td>84.062379</td>\n",
       "      <td>109.179599</td>\n",
       "      <td>0</td>\n",
       "      <td>0</td>\n",
       "    </tr>\n",
       "    <tr>\n",
       "      <th>13</th>\n",
       "      <td>2</td>\n",
       "      <td>4</td>\n",
       "      <td>75.389258</td>\n",
       "      <td>90.567082</td>\n",
       "      <td>2</td>\n",
       "      <td>1</td>\n",
       "    </tr>\n",
       "    <tr>\n",
       "      <th>14</th>\n",
       "      <td>3</td>\n",
       "      <td>4</td>\n",
       "      <td>83.104569</td>\n",
       "      <td>75.420790</td>\n",
       "      <td>1</td>\n",
       "      <td>0</td>\n",
       "    </tr>\n",
       "    <tr>\n",
       "      <th>15</th>\n",
       "      <td>3</td>\n",
       "      <td>2</td>\n",
       "      <td>64.123239</td>\n",
       "      <td>42.260621</td>\n",
       "      <td>3</td>\n",
       "      <td>0</td>\n",
       "    </tr>\n",
       "    <tr>\n",
       "      <th>16</th>\n",
       "      <td>2</td>\n",
       "      <td>4</td>\n",
       "      <td>72.685396</td>\n",
       "      <td>87.190220</td>\n",
       "      <td>2</td>\n",
       "      <td>1</td>\n",
       "    </tr>\n",
       "    <tr>\n",
       "      <th>17</th>\n",
       "      <td>2</td>\n",
       "      <td>3</td>\n",
       "      <td>98.968350</td>\n",
       "      <td>139.212810</td>\n",
       "      <td>1</td>\n",
       "      <td>0</td>\n",
       "    </tr>\n",
       "    <tr>\n",
       "      <th>18</th>\n",
       "      <td>2</td>\n",
       "      <td>2</td>\n",
       "      <td>73.522328</td>\n",
       "      <td>63.820414</td>\n",
       "      <td>3</td>\n",
       "      <td>1</td>\n",
       "    </tr>\n",
       "    <tr>\n",
       "      <th>19</th>\n",
       "      <td>2</td>\n",
       "      <td>3</td>\n",
       "      <td>69.322566</td>\n",
       "      <td>117.096653</td>\n",
       "      <td>2</td>\n",
       "      <td>0</td>\n",
       "    </tr>\n",
       "  </tbody>\n",
       "</table>\n",
       "</div>"
      ],
      "text/plain": [
       "    x2  x3         x4          x5  y  x1\n",
       "0    2   2  71.873539   77.279942  0   0\n",
       "1    2   3  76.329693  123.509762  3   0\n",
       "2    2   2  84.726817   94.113034  0   0\n",
       "3    1   4  90.894953  131.080126  0   0\n",
       "4    2   2  91.377552   78.421426  1   0\n",
       "5    1   4  82.418660  128.847297  0   0\n",
       "6    3   4  87.124463   82.339298  1   0\n",
       "7    2   4  77.472105   87.934054  3   0\n",
       "8    2   4  74.768722   95.439607  3   0\n",
       "9    2   2  71.275161   91.463072  2   0\n",
       "10   2   4  77.365685  103.567460  2   0\n",
       "11   1   3  83.534081  138.405058  0   0\n",
       "12   1   2  84.062379  109.179599  0   0\n",
       "13   2   4  75.389258   90.567082  2   1\n",
       "14   3   4  83.104569   75.420790  1   0\n",
       "15   3   2  64.123239   42.260621  3   0\n",
       "16   2   4  72.685396   87.190220  2   1\n",
       "17   2   3  98.968350  139.212810  1   0\n",
       "18   2   2  73.522328   63.820414  3   1\n",
       "19   2   3  69.322566  117.096653  2   0"
      ]
     },
     "execution_count": 48,
     "metadata": {},
     "output_type": "execute_result"
    }
   ],
   "source": [
    "mar20x = mar20.drop('x1', 1)\n",
    "mar20x['x1'] = mis_map['x1']\n",
    "mar20x.head(20)"
   ]
  },
  {
   "cell_type": "code",
   "execution_count": 49,
   "metadata": {},
   "outputs": [
    {
     "data": {
      "text/html": [
       "<div>\n",
       "<style scoped>\n",
       "    .dataframe tbody tr th:only-of-type {\n",
       "        vertical-align: middle;\n",
       "    }\n",
       "\n",
       "    .dataframe tbody tr th {\n",
       "        vertical-align: top;\n",
       "    }\n",
       "\n",
       "    .dataframe thead th {\n",
       "        text-align: right;\n",
       "    }\n",
       "</style>\n",
       "<table border=\"1\" class=\"dataframe\">\n",
       "  <thead>\n",
       "    <tr style=\"text-align: right;\">\n",
       "      <th></th>\n",
       "      <th>x2</th>\n",
       "      <th>x3</th>\n",
       "      <th>x4</th>\n",
       "      <th>x5</th>\n",
       "      <th>y</th>\n",
       "      <th>x1</th>\n",
       "    </tr>\n",
       "  </thead>\n",
       "  <tbody>\n",
       "    <tr>\n",
       "      <th>x2</th>\n",
       "      <td>1.000000</td>\n",
       "      <td>0.019603</td>\n",
       "      <td>0.054856</td>\n",
       "      <td>-0.606791</td>\n",
       "      <td>0.231693</td>\n",
       "      <td>-0.017843</td>\n",
       "    </tr>\n",
       "    <tr>\n",
       "      <th>x3</th>\n",
       "      <td>0.019603</td>\n",
       "      <td>1.000000</td>\n",
       "      <td>-0.041766</td>\n",
       "      <td>0.330263</td>\n",
       "      <td>0.002980</td>\n",
       "      <td>-0.015474</td>\n",
       "    </tr>\n",
       "    <tr>\n",
       "      <th>x4</th>\n",
       "      <td>0.054856</td>\n",
       "      <td>-0.041766</td>\n",
       "      <td>1.000000</td>\n",
       "      <td>0.236410</td>\n",
       "      <td>-0.595002</td>\n",
       "      <td>-0.439018</td>\n",
       "    </tr>\n",
       "    <tr>\n",
       "      <th>x5</th>\n",
       "      <td>-0.606791</td>\n",
       "      <td>0.330263</td>\n",
       "      <td>0.236410</td>\n",
       "      <td>1.000000</td>\n",
       "      <td>-0.368028</td>\n",
       "      <td>-0.110723</td>\n",
       "    </tr>\n",
       "    <tr>\n",
       "      <th>y</th>\n",
       "      <td>0.231693</td>\n",
       "      <td>0.002980</td>\n",
       "      <td>-0.595002</td>\n",
       "      <td>-0.368028</td>\n",
       "      <td>1.000000</td>\n",
       "      <td>0.352557</td>\n",
       "    </tr>\n",
       "    <tr>\n",
       "      <th>x1</th>\n",
       "      <td>-0.017843</td>\n",
       "      <td>-0.015474</td>\n",
       "      <td>-0.439018</td>\n",
       "      <td>-0.110723</td>\n",
       "      <td>0.352557</td>\n",
       "      <td>1.000000</td>\n",
       "    </tr>\n",
       "  </tbody>\n",
       "</table>\n",
       "</div>"
      ],
      "text/plain": [
       "          x2        x3        x4        x5         y        x1\n",
       "x2  1.000000  0.019603  0.054856 -0.606791  0.231693 -0.017843\n",
       "x3  0.019603  1.000000 -0.041766  0.330263  0.002980 -0.015474\n",
       "x4  0.054856 -0.041766  1.000000  0.236410 -0.595002 -0.439018\n",
       "x5 -0.606791  0.330263  0.236410  1.000000 -0.368028 -0.110723\n",
       "y   0.231693  0.002980 -0.595002 -0.368028  1.000000  0.352557\n",
       "x1 -0.017843 -0.015474 -0.439018 -0.110723  0.352557  1.000000"
      ]
     },
     "execution_count": 49,
     "metadata": {},
     "output_type": "execute_result"
    }
   ],
   "source": [
    "mar20x.corr()"
   ]
  },
  {
   "cell_type": "markdown",
   "metadata": {},
   "source": [
    "As we can see x1 have high to moderate correlation with x4 and moderate correlation with y variables. So, we can conclude missingness of x1 is dependentant on x4."
   ]
  },
  {
   "cell_type": "markdown",
   "metadata": {},
   "source": [
    "Now, we can go back to our mar20 database and check our second assumption, missigness should not rely on value itself."
   ]
  },
  {
   "cell_type": "code",
   "execution_count": 50,
   "metadata": {},
   "outputs": [],
   "source": [
    "x1_miss = mar20.loc[mar20['x1'].notnull()]\n",
    "x1_miss = x1_miss[['x1']]\n",
    "x1_no_miss = data[['x1']]"
   ]
  },
  {
   "cell_type": "markdown",
   "metadata": {},
   "source": [
    "Here I have two databases, each has only x1 variable. x1_miss has only non-missing values whereas x1_no_miss has all the values. My assumption is, if there is a significant difference between their means, there can be a problem as missingness can be a result of value itself. So, I apply a t test to them with null hypothesis of there is no difference between means and alternative hypothesis of difference between means."
   ]
  },
  {
   "cell_type": "code",
   "execution_count": 51,
   "metadata": {
    "scrolled": true
   },
   "outputs": [
    {
     "name": "stdout",
     "output_type": "stream",
     "text": [
      "p value is:[0.0629778]\n"
     ]
    }
   ],
   "source": [
    "stat, p = ss.ttest_ind(x1_miss, x1_no_miss)\n",
    "p = str(p)\n",
    "print(\"p value is:\" + p)"
   ]
  },
  {
   "cell_type": "markdown",
   "metadata": {},
   "source": [
    "As we have p value higher than 0.05 (genaral cutoff point), we fail to reject the null hypothesis of no differece between means."
   ]
  },
  {
   "cell_type": "markdown",
   "metadata": {},
   "source": [
    "So, I believe I have provided two requirements to be mcar in my database. I created random missing values dependant on x4 and proved that missingness are 1)dependent of other variables and 2)independent of value itself. So, I can create my excel file now."
   ]
  },
  {
   "cell_type": "code",
   "execution_count": 52,
   "metadata": {},
   "outputs": [],
   "source": [
    "mar20.to_csv(r'C:\\Users\\Lenovo\\Desktop\\mar20.csv')"
   ]
  },
  {
   "cell_type": "markdown",
   "metadata": {},
   "source": [
    "<h4>Part d</h4>"
   ]
  },
  {
   "cell_type": "markdown",
   "metadata": {},
   "source": [
    "To be MNAR, missing values should depend on the value of itself. First, I create my mnar20 dataframe."
   ]
  },
  {
   "cell_type": "code",
   "execution_count": 53,
   "metadata": {},
   "outputs": [],
   "source": [
    "mnar20 = data.copy()"
   ]
  },
  {
   "cell_type": "markdown",
   "metadata": {},
   "source": [
    "I find indexes of entities that have x1 value of either 0 or 1 and save it as a list."
   ]
  },
  {
   "cell_type": "code",
   "execution_count": 54,
   "metadata": {},
   "outputs": [],
   "source": [
    "blist = data.index[(data['x1'] == 0) | (data['x1'] == 1)].tolist()"
   ]
  },
  {
   "cell_type": "markdown",
   "metadata": {},
   "source": [
    "Then, I create random unique numbers from that list that has exactly same amount of our required missing amount."
   ]
  },
  {
   "cell_type": "code",
   "execution_count": 55,
   "metadata": {},
   "outputs": [],
   "source": [
    "random.seed(101)\n",
    "randomlist = random.sample(blist, k=42)"
   ]
  },
  {
   "cell_type": "markdown",
   "metadata": {},
   "source": [
    "Then, I make all of x1 values for corresponding indexes null."
   ]
  },
  {
   "cell_type": "code",
   "execution_count": 56,
   "metadata": {},
   "outputs": [],
   "source": [
    "for i in randomlist:\n",
    "    mnar20['x1'][i] = np.nan"
   ]
  },
  {
   "cell_type": "markdown",
   "metadata": {},
   "source": [
    "Now, check whether our mcar20 dataframe is similar to our original data."
   ]
  },
  {
   "cell_type": "code",
   "execution_count": 57,
   "metadata": {
    "scrolled": true
   },
   "outputs": [
    {
     "data": {
      "text/html": [
       "<div>\n",
       "<style scoped>\n",
       "    .dataframe tbody tr th:only-of-type {\n",
       "        vertical-align: middle;\n",
       "    }\n",
       "\n",
       "    .dataframe tbody tr th {\n",
       "        vertical-align: top;\n",
       "    }\n",
       "\n",
       "    .dataframe thead th {\n",
       "        text-align: right;\n",
       "    }\n",
       "</style>\n",
       "<table border=\"1\" class=\"dataframe\">\n",
       "  <thead>\n",
       "    <tr style=\"text-align: right;\">\n",
       "      <th></th>\n",
       "      <th>x1</th>\n",
       "      <th>x2</th>\n",
       "      <th>x3</th>\n",
       "      <th>x4</th>\n",
       "      <th>x5</th>\n",
       "      <th>y</th>\n",
       "    </tr>\n",
       "  </thead>\n",
       "  <tbody>\n",
       "    <tr>\n",
       "      <th>0</th>\n",
       "      <td>3.0</td>\n",
       "      <td>2</td>\n",
       "      <td>2</td>\n",
       "      <td>71.873539</td>\n",
       "      <td>77.279942</td>\n",
       "      <td>0</td>\n",
       "    </tr>\n",
       "    <tr>\n",
       "      <th>1</th>\n",
       "      <td>2.0</td>\n",
       "      <td>2</td>\n",
       "      <td>3</td>\n",
       "      <td>76.329693</td>\n",
       "      <td>123.509762</td>\n",
       "      <td>3</td>\n",
       "    </tr>\n",
       "    <tr>\n",
       "      <th>2</th>\n",
       "      <td>2.0</td>\n",
       "      <td>2</td>\n",
       "      <td>2</td>\n",
       "      <td>84.726817</td>\n",
       "      <td>94.113034</td>\n",
       "      <td>0</td>\n",
       "    </tr>\n",
       "    <tr>\n",
       "      <th>3</th>\n",
       "      <td>1.0</td>\n",
       "      <td>1</td>\n",
       "      <td>4</td>\n",
       "      <td>90.894953</td>\n",
       "      <td>131.080126</td>\n",
       "      <td>0</td>\n",
       "    </tr>\n",
       "    <tr>\n",
       "      <th>4</th>\n",
       "      <td>NaN</td>\n",
       "      <td>2</td>\n",
       "      <td>2</td>\n",
       "      <td>91.377552</td>\n",
       "      <td>78.421426</td>\n",
       "      <td>1</td>\n",
       "    </tr>\n",
       "  </tbody>\n",
       "</table>\n",
       "</div>"
      ],
      "text/plain": [
       "    x1  x2  x3         x4          x5  y\n",
       "0  3.0   2   2  71.873539   77.279942  0\n",
       "1  2.0   2   3  76.329693  123.509762  3\n",
       "2  2.0   2   2  84.726817   94.113034  0\n",
       "3  1.0   1   4  90.894953  131.080126  0\n",
       "4  NaN   2   2  91.377552   78.421426  1"
      ]
     },
     "execution_count": 57,
     "metadata": {},
     "output_type": "execute_result"
    }
   ],
   "source": [
    "mnar20.head()"
   ]
  },
  {
   "cell_type": "markdown",
   "metadata": {},
   "source": [
    "As it is similar, now we can check how many missing values are there in x1 variable of mnar20."
   ]
  },
  {
   "cell_type": "code",
   "execution_count": 58,
   "metadata": {},
   "outputs": [
    {
     "data": {
      "text/plain": [
       "42"
      ]
     },
     "execution_count": 58,
     "metadata": {},
     "output_type": "execute_result"
    }
   ],
   "source": [
    "mnar20['x1'].isna().sum()"
   ]
  },
  {
   "cell_type": "markdown",
   "metadata": {},
   "source": [
    "We have 42 missing values (210 * 0.2 = 42) here. However, MNAR have one assumption and we have to test it. 1) Missingness should depend on value of itself."
   ]
  },
  {
   "cell_type": "markdown",
   "metadata": {},
   "source": [
    "Now, we check assumption, missigness should rely on value itself."
   ]
  },
  {
   "cell_type": "code",
   "execution_count": 59,
   "metadata": {},
   "outputs": [
    {
     "data": {
      "text/html": [
       "<div>\n",
       "<style scoped>\n",
       "    .dataframe tbody tr th:only-of-type {\n",
       "        vertical-align: middle;\n",
       "    }\n",
       "\n",
       "    .dataframe tbody tr th {\n",
       "        vertical-align: top;\n",
       "    }\n",
       "\n",
       "    .dataframe thead th {\n",
       "        text-align: right;\n",
       "    }\n",
       "</style>\n",
       "<table border=\"1\" class=\"dataframe\">\n",
       "  <thead>\n",
       "    <tr style=\"text-align: right;\">\n",
       "      <th></th>\n",
       "      <th>x1</th>\n",
       "    </tr>\n",
       "  </thead>\n",
       "  <tbody>\n",
       "    <tr>\n",
       "      <th>count</th>\n",
       "      <td>168.000000</td>\n",
       "    </tr>\n",
       "    <tr>\n",
       "      <th>mean</th>\n",
       "      <td>2.297619</td>\n",
       "    </tr>\n",
       "    <tr>\n",
       "      <th>std</th>\n",
       "      <td>0.604965</td>\n",
       "    </tr>\n",
       "    <tr>\n",
       "      <th>min</th>\n",
       "      <td>1.000000</td>\n",
       "    </tr>\n",
       "    <tr>\n",
       "      <th>25%</th>\n",
       "      <td>2.000000</td>\n",
       "    </tr>\n",
       "    <tr>\n",
       "      <th>50%</th>\n",
       "      <td>2.000000</td>\n",
       "    </tr>\n",
       "    <tr>\n",
       "      <th>75%</th>\n",
       "      <td>3.000000</td>\n",
       "    </tr>\n",
       "    <tr>\n",
       "      <th>max</th>\n",
       "      <td>4.000000</td>\n",
       "    </tr>\n",
       "  </tbody>\n",
       "</table>\n",
       "</div>"
      ],
      "text/plain": [
       "               x1\n",
       "count  168.000000\n",
       "mean     2.297619\n",
       "std      0.604965\n",
       "min      1.000000\n",
       "25%      2.000000\n",
       "50%      2.000000\n",
       "75%      3.000000\n",
       "max      4.000000"
      ]
     },
     "execution_count": 59,
     "metadata": {},
     "output_type": "execute_result"
    }
   ],
   "source": [
    "x1_miss = mnar20.loc[mnar20['x1'].notnull()]\n",
    "x1_miss = x1_miss[['x1']]\n",
    "x1_no_miss = data[['x1']]\n",
    "\n",
    "x1_miss.describe()"
   ]
  },
  {
   "cell_type": "code",
   "execution_count": 60,
   "metadata": {},
   "outputs": [
    {
     "data": {
      "text/html": [
       "<div>\n",
       "<style scoped>\n",
       "    .dataframe tbody tr th:only-of-type {\n",
       "        vertical-align: middle;\n",
       "    }\n",
       "\n",
       "    .dataframe tbody tr th {\n",
       "        vertical-align: top;\n",
       "    }\n",
       "\n",
       "    .dataframe thead th {\n",
       "        text-align: right;\n",
       "    }\n",
       "</style>\n",
       "<table border=\"1\" class=\"dataframe\">\n",
       "  <thead>\n",
       "    <tr style=\"text-align: right;\">\n",
       "      <th></th>\n",
       "      <th>x1</th>\n",
       "    </tr>\n",
       "  </thead>\n",
       "  <tbody>\n",
       "    <tr>\n",
       "      <th>count</th>\n",
       "      <td>210.000000</td>\n",
       "    </tr>\n",
       "    <tr>\n",
       "      <th>mean</th>\n",
       "      <td>2.019048</td>\n",
       "    </tr>\n",
       "    <tr>\n",
       "      <th>std</th>\n",
       "      <td>0.788445</td>\n",
       "    </tr>\n",
       "    <tr>\n",
       "      <th>min</th>\n",
       "      <td>0.000000</td>\n",
       "    </tr>\n",
       "    <tr>\n",
       "      <th>25%</th>\n",
       "      <td>1.250000</td>\n",
       "    </tr>\n",
       "    <tr>\n",
       "      <th>50%</th>\n",
       "      <td>2.000000</td>\n",
       "    </tr>\n",
       "    <tr>\n",
       "      <th>75%</th>\n",
       "      <td>3.000000</td>\n",
       "    </tr>\n",
       "    <tr>\n",
       "      <th>max</th>\n",
       "      <td>4.000000</td>\n",
       "    </tr>\n",
       "  </tbody>\n",
       "</table>\n",
       "</div>"
      ],
      "text/plain": [
       "               x1\n",
       "count  210.000000\n",
       "mean     2.019048\n",
       "std      0.788445\n",
       "min      0.000000\n",
       "25%      1.250000\n",
       "50%      2.000000\n",
       "75%      3.000000\n",
       "max      4.000000"
      ]
     },
     "execution_count": 60,
     "metadata": {},
     "output_type": "execute_result"
    }
   ],
   "source": [
    "x1_no_miss.describe()"
   ]
  },
  {
   "cell_type": "markdown",
   "metadata": {},
   "source": [
    "Here I have two databases, each has only x1 variable. x1_miss has only non-missing values whereas x1_no_miss has all the values. My assumption is, if there is a significant difference between their means, there can be a problem as missingness can be a result of value itself. So, I apply a t test to them with null hypothesis of there is no difference between means and alternative hypothesis of difference between means."
   ]
  },
  {
   "cell_type": "code",
   "execution_count": 61,
   "metadata": {},
   "outputs": [
    {
     "name": "stdout",
     "output_type": "stream",
     "text": [
      "p value is:[0.00018547]\n"
     ]
    }
   ],
   "source": [
    "stat, p = ss.ttest_ind(x1_miss, x1_no_miss)\n",
    "p = str(p)\n",
    "print(\"p value is:\" + p)"
   ]
  },
  {
   "cell_type": "markdown",
   "metadata": {},
   "source": [
    "As we have too low p value, we reject the null hypothesis of no differece between means and accept alternative hypothesis."
   ]
  },
  {
   "cell_type": "markdown",
   "metadata": {},
   "source": [
    "So, I believe I have provided the requirement to be mnar in my database. I created random missing values based on their values. So, I can create my excel file now."
   ]
  },
  {
   "cell_type": "code",
   "execution_count": 62,
   "metadata": {},
   "outputs": [],
   "source": [
    "mnar20.to_csv(r'C:\\Users\\Lenovo\\Desktop\\mnar20.csv')"
   ]
  },
  {
   "cell_type": "markdown",
   "metadata": {},
   "source": [
    "<h3>Question 4</h3>"
   ]
  },
  {
   "cell_type": "markdown",
   "metadata": {},
   "source": [
    "<h4>Part a</h4>"
   ]
  },
  {
   "cell_type": "markdown",
   "metadata": {},
   "source": [
    "Here, to deal with missing values, we are asked to delete the feature competely. I do it by passing all of columns of dataframes that we created in question 3, except x1. To show that those dataframes have same amount of rows but column size is decreased by 1, I have shown shapes as well. Then, correspoding csv files are created."
   ]
  },
  {
   "cell_type": "code",
   "execution_count": 63,
   "metadata": {},
   "outputs": [
    {
     "data": {
      "text/html": [
       "<div>\n",
       "<style scoped>\n",
       "    .dataframe tbody tr th:only-of-type {\n",
       "        vertical-align: middle;\n",
       "    }\n",
       "\n",
       "    .dataframe tbody tr th {\n",
       "        vertical-align: top;\n",
       "    }\n",
       "\n",
       "    .dataframe thead th {\n",
       "        text-align: right;\n",
       "    }\n",
       "</style>\n",
       "<table border=\"1\" class=\"dataframe\">\n",
       "  <thead>\n",
       "    <tr style=\"text-align: right;\">\n",
       "      <th></th>\n",
       "      <th>x2</th>\n",
       "      <th>x3</th>\n",
       "      <th>x4</th>\n",
       "      <th>x5</th>\n",
       "      <th>y</th>\n",
       "    </tr>\n",
       "  </thead>\n",
       "  <tbody>\n",
       "    <tr>\n",
       "      <th>0</th>\n",
       "      <td>2</td>\n",
       "      <td>2</td>\n",
       "      <td>71.873539</td>\n",
       "      <td>77.279942</td>\n",
       "      <td>0</td>\n",
       "    </tr>\n",
       "    <tr>\n",
       "      <th>1</th>\n",
       "      <td>2</td>\n",
       "      <td>3</td>\n",
       "      <td>76.329693</td>\n",
       "      <td>123.509762</td>\n",
       "      <td>3</td>\n",
       "    </tr>\n",
       "    <tr>\n",
       "      <th>2</th>\n",
       "      <td>2</td>\n",
       "      <td>2</td>\n",
       "      <td>84.726817</td>\n",
       "      <td>94.113034</td>\n",
       "      <td>0</td>\n",
       "    </tr>\n",
       "    <tr>\n",
       "      <th>3</th>\n",
       "      <td>1</td>\n",
       "      <td>4</td>\n",
       "      <td>90.894953</td>\n",
       "      <td>131.080126</td>\n",
       "      <td>0</td>\n",
       "    </tr>\n",
       "    <tr>\n",
       "      <th>4</th>\n",
       "      <td>2</td>\n",
       "      <td>2</td>\n",
       "      <td>91.377552</td>\n",
       "      <td>78.421426</td>\n",
       "      <td>1</td>\n",
       "    </tr>\n",
       "  </tbody>\n",
       "</table>\n",
       "</div>"
      ],
      "text/plain": [
       "   x2  x3         x4          x5  y\n",
       "0   2   2  71.873539   77.279942  0\n",
       "1   2   3  76.329693  123.509762  3\n",
       "2   2   2  84.726817   94.113034  0\n",
       "3   1   4  90.894953  131.080126  0\n",
       "4   2   2  91.377552   78.421426  1"
      ]
     },
     "execution_count": 63,
     "metadata": {},
     "output_type": "execute_result"
    }
   ],
   "source": [
    "mcar20df = mcar20.loc[:, mcar20.columns != 'x1']\n",
    "mcar20df.head()"
   ]
  },
  {
   "cell_type": "code",
   "execution_count": 64,
   "metadata": {},
   "outputs": [
    {
     "data": {
      "text/plain": [
       "(210, 5)"
      ]
     },
     "execution_count": 64,
     "metadata": {},
     "output_type": "execute_result"
    }
   ],
   "source": [
    "mcar20df.shape"
   ]
  },
  {
   "cell_type": "code",
   "execution_count": 65,
   "metadata": {},
   "outputs": [],
   "source": [
    "mcar20df.to_csv(r'C:\\Users\\Lenovo\\Desktop\\mcar20df.csv')"
   ]
  },
  {
   "cell_type": "code",
   "execution_count": 66,
   "metadata": {},
   "outputs": [
    {
     "data": {
      "text/html": [
       "<div>\n",
       "<style scoped>\n",
       "    .dataframe tbody tr th:only-of-type {\n",
       "        vertical-align: middle;\n",
       "    }\n",
       "\n",
       "    .dataframe tbody tr th {\n",
       "        vertical-align: top;\n",
       "    }\n",
       "\n",
       "    .dataframe thead th {\n",
       "        text-align: right;\n",
       "    }\n",
       "</style>\n",
       "<table border=\"1\" class=\"dataframe\">\n",
       "  <thead>\n",
       "    <tr style=\"text-align: right;\">\n",
       "      <th></th>\n",
       "      <th>x2</th>\n",
       "      <th>x3</th>\n",
       "      <th>x4</th>\n",
       "      <th>x5</th>\n",
       "      <th>y</th>\n",
       "    </tr>\n",
       "  </thead>\n",
       "  <tbody>\n",
       "    <tr>\n",
       "      <th>0</th>\n",
       "      <td>2</td>\n",
       "      <td>2</td>\n",
       "      <td>71.873539</td>\n",
       "      <td>77.279942</td>\n",
       "      <td>0</td>\n",
       "    </tr>\n",
       "    <tr>\n",
       "      <th>1</th>\n",
       "      <td>2</td>\n",
       "      <td>3</td>\n",
       "      <td>76.329693</td>\n",
       "      <td>123.509762</td>\n",
       "      <td>3</td>\n",
       "    </tr>\n",
       "    <tr>\n",
       "      <th>2</th>\n",
       "      <td>2</td>\n",
       "      <td>2</td>\n",
       "      <td>84.726817</td>\n",
       "      <td>94.113034</td>\n",
       "      <td>0</td>\n",
       "    </tr>\n",
       "    <tr>\n",
       "      <th>3</th>\n",
       "      <td>1</td>\n",
       "      <td>4</td>\n",
       "      <td>90.894953</td>\n",
       "      <td>131.080126</td>\n",
       "      <td>0</td>\n",
       "    </tr>\n",
       "    <tr>\n",
       "      <th>4</th>\n",
       "      <td>2</td>\n",
       "      <td>2</td>\n",
       "      <td>91.377552</td>\n",
       "      <td>78.421426</td>\n",
       "      <td>1</td>\n",
       "    </tr>\n",
       "  </tbody>\n",
       "</table>\n",
       "</div>"
      ],
      "text/plain": [
       "   x2  x3         x4          x5  y\n",
       "0   2   2  71.873539   77.279942  0\n",
       "1   2   3  76.329693  123.509762  3\n",
       "2   2   2  84.726817   94.113034  0\n",
       "3   1   4  90.894953  131.080126  0\n",
       "4   2   2  91.377552   78.421426  1"
      ]
     },
     "execution_count": 66,
     "metadata": {},
     "output_type": "execute_result"
    }
   ],
   "source": [
    "mcar40df = mcar40.loc[:, mcar40.columns != 'x1']\n",
    "mcar40df.head()"
   ]
  },
  {
   "cell_type": "code",
   "execution_count": 67,
   "metadata": {},
   "outputs": [
    {
     "data": {
      "text/plain": [
       "(210, 5)"
      ]
     },
     "execution_count": 67,
     "metadata": {},
     "output_type": "execute_result"
    }
   ],
   "source": [
    "mcar40df.shape"
   ]
  },
  {
   "cell_type": "code",
   "execution_count": 68,
   "metadata": {},
   "outputs": [],
   "source": [
    "mcar40df.to_csv(r'C:\\Users\\Lenovo\\Desktop\\mcar40df.csv')"
   ]
  },
  {
   "cell_type": "code",
   "execution_count": 69,
   "metadata": {},
   "outputs": [
    {
     "data": {
      "text/html": [
       "<div>\n",
       "<style scoped>\n",
       "    .dataframe tbody tr th:only-of-type {\n",
       "        vertical-align: middle;\n",
       "    }\n",
       "\n",
       "    .dataframe tbody tr th {\n",
       "        vertical-align: top;\n",
       "    }\n",
       "\n",
       "    .dataframe thead th {\n",
       "        text-align: right;\n",
       "    }\n",
       "</style>\n",
       "<table border=\"1\" class=\"dataframe\">\n",
       "  <thead>\n",
       "    <tr style=\"text-align: right;\">\n",
       "      <th></th>\n",
       "      <th>x2</th>\n",
       "      <th>x3</th>\n",
       "      <th>x4</th>\n",
       "      <th>x5</th>\n",
       "      <th>y</th>\n",
       "    </tr>\n",
       "  </thead>\n",
       "  <tbody>\n",
       "    <tr>\n",
       "      <th>0</th>\n",
       "      <td>2</td>\n",
       "      <td>2</td>\n",
       "      <td>71.873539</td>\n",
       "      <td>77.279942</td>\n",
       "      <td>0</td>\n",
       "    </tr>\n",
       "    <tr>\n",
       "      <th>1</th>\n",
       "      <td>2</td>\n",
       "      <td>3</td>\n",
       "      <td>76.329693</td>\n",
       "      <td>123.509762</td>\n",
       "      <td>3</td>\n",
       "    </tr>\n",
       "    <tr>\n",
       "      <th>2</th>\n",
       "      <td>2</td>\n",
       "      <td>2</td>\n",
       "      <td>84.726817</td>\n",
       "      <td>94.113034</td>\n",
       "      <td>0</td>\n",
       "    </tr>\n",
       "    <tr>\n",
       "      <th>3</th>\n",
       "      <td>1</td>\n",
       "      <td>4</td>\n",
       "      <td>90.894953</td>\n",
       "      <td>131.080126</td>\n",
       "      <td>0</td>\n",
       "    </tr>\n",
       "    <tr>\n",
       "      <th>4</th>\n",
       "      <td>2</td>\n",
       "      <td>2</td>\n",
       "      <td>91.377552</td>\n",
       "      <td>78.421426</td>\n",
       "      <td>1</td>\n",
       "    </tr>\n",
       "  </tbody>\n",
       "</table>\n",
       "</div>"
      ],
      "text/plain": [
       "   x2  x3         x4          x5  y\n",
       "0   2   2  71.873539   77.279942  0\n",
       "1   2   3  76.329693  123.509762  3\n",
       "2   2   2  84.726817   94.113034  0\n",
       "3   1   4  90.894953  131.080126  0\n",
       "4   2   2  91.377552   78.421426  1"
      ]
     },
     "execution_count": 69,
     "metadata": {},
     "output_type": "execute_result"
    }
   ],
   "source": [
    "mar20df = mar20.loc[:, mar20.columns != 'x1']\n",
    "mar20df.head()"
   ]
  },
  {
   "cell_type": "code",
   "execution_count": 70,
   "metadata": {},
   "outputs": [
    {
     "data": {
      "text/plain": [
       "(210, 5)"
      ]
     },
     "execution_count": 70,
     "metadata": {},
     "output_type": "execute_result"
    }
   ],
   "source": [
    "mar20df.shape"
   ]
  },
  {
   "cell_type": "code",
   "execution_count": 71,
   "metadata": {},
   "outputs": [],
   "source": [
    "mar20df.to_csv(r'C:\\Users\\Lenovo\\Desktop\\mar20df.csv')"
   ]
  },
  {
   "cell_type": "code",
   "execution_count": 72,
   "metadata": {},
   "outputs": [
    {
     "data": {
      "text/html": [
       "<div>\n",
       "<style scoped>\n",
       "    .dataframe tbody tr th:only-of-type {\n",
       "        vertical-align: middle;\n",
       "    }\n",
       "\n",
       "    .dataframe tbody tr th {\n",
       "        vertical-align: top;\n",
       "    }\n",
       "\n",
       "    .dataframe thead th {\n",
       "        text-align: right;\n",
       "    }\n",
       "</style>\n",
       "<table border=\"1\" class=\"dataframe\">\n",
       "  <thead>\n",
       "    <tr style=\"text-align: right;\">\n",
       "      <th></th>\n",
       "      <th>x2</th>\n",
       "      <th>x3</th>\n",
       "      <th>x4</th>\n",
       "      <th>x5</th>\n",
       "      <th>y</th>\n",
       "    </tr>\n",
       "  </thead>\n",
       "  <tbody>\n",
       "    <tr>\n",
       "      <th>0</th>\n",
       "      <td>2</td>\n",
       "      <td>2</td>\n",
       "      <td>71.873539</td>\n",
       "      <td>77.279942</td>\n",
       "      <td>0</td>\n",
       "    </tr>\n",
       "    <tr>\n",
       "      <th>1</th>\n",
       "      <td>2</td>\n",
       "      <td>3</td>\n",
       "      <td>76.329693</td>\n",
       "      <td>123.509762</td>\n",
       "      <td>3</td>\n",
       "    </tr>\n",
       "    <tr>\n",
       "      <th>2</th>\n",
       "      <td>2</td>\n",
       "      <td>2</td>\n",
       "      <td>84.726817</td>\n",
       "      <td>94.113034</td>\n",
       "      <td>0</td>\n",
       "    </tr>\n",
       "    <tr>\n",
       "      <th>3</th>\n",
       "      <td>1</td>\n",
       "      <td>4</td>\n",
       "      <td>90.894953</td>\n",
       "      <td>131.080126</td>\n",
       "      <td>0</td>\n",
       "    </tr>\n",
       "    <tr>\n",
       "      <th>4</th>\n",
       "      <td>2</td>\n",
       "      <td>2</td>\n",
       "      <td>91.377552</td>\n",
       "      <td>78.421426</td>\n",
       "      <td>1</td>\n",
       "    </tr>\n",
       "  </tbody>\n",
       "</table>\n",
       "</div>"
      ],
      "text/plain": [
       "   x2  x3         x4          x5  y\n",
       "0   2   2  71.873539   77.279942  0\n",
       "1   2   3  76.329693  123.509762  3\n",
       "2   2   2  84.726817   94.113034  0\n",
       "3   1   4  90.894953  131.080126  0\n",
       "4   2   2  91.377552   78.421426  1"
      ]
     },
     "execution_count": 72,
     "metadata": {},
     "output_type": "execute_result"
    }
   ],
   "source": [
    "mnar20df = mnar20.loc[:, mnar20.columns != 'x1']\n",
    "mnar20df.head()"
   ]
  },
  {
   "cell_type": "code",
   "execution_count": 73,
   "metadata": {},
   "outputs": [
    {
     "data": {
      "text/plain": [
       "(210, 5)"
      ]
     },
     "execution_count": 73,
     "metadata": {},
     "output_type": "execute_result"
    }
   ],
   "source": [
    "mnar20df.shape"
   ]
  },
  {
   "cell_type": "code",
   "execution_count": 74,
   "metadata": {},
   "outputs": [],
   "source": [
    "mnar20df.to_csv(r'C:\\Users\\Lenovo\\Desktop\\mnar20df.csv')"
   ]
  },
  {
   "cell_type": "markdown",
   "metadata": {},
   "source": [
    "<h4>Part b</h4>"
   ]
  },
  {
   "cell_type": "markdown",
   "metadata": {},
   "source": [
    "Here, to deal with missing values, we are asked to delete the null rows. As we only have null values for x1, I do it by passing all of rows of dataframes that we created in question 3, except ones that have null x1 values. To show that those dataframes have same amount of columns but row size is decreased by generated missing amount in question 3, I have shown shapes as well. Then, correspoding csv files are created."
   ]
  },
  {
   "cell_type": "code",
   "execution_count": 75,
   "metadata": {},
   "outputs": [
    {
     "data": {
      "text/html": [
       "<div>\n",
       "<style scoped>\n",
       "    .dataframe tbody tr th:only-of-type {\n",
       "        vertical-align: middle;\n",
       "    }\n",
       "\n",
       "    .dataframe tbody tr th {\n",
       "        vertical-align: top;\n",
       "    }\n",
       "\n",
       "    .dataframe thead th {\n",
       "        text-align: right;\n",
       "    }\n",
       "</style>\n",
       "<table border=\"1\" class=\"dataframe\">\n",
       "  <thead>\n",
       "    <tr style=\"text-align: right;\">\n",
       "      <th></th>\n",
       "      <th>x1</th>\n",
       "      <th>x2</th>\n",
       "      <th>x3</th>\n",
       "      <th>x4</th>\n",
       "      <th>x5</th>\n",
       "      <th>y</th>\n",
       "    </tr>\n",
       "  </thead>\n",
       "  <tbody>\n",
       "    <tr>\n",
       "      <th>0</th>\n",
       "      <td>3.0</td>\n",
       "      <td>2</td>\n",
       "      <td>2</td>\n",
       "      <td>71.873539</td>\n",
       "      <td>77.279942</td>\n",
       "      <td>0</td>\n",
       "    </tr>\n",
       "    <tr>\n",
       "      <th>1</th>\n",
       "      <td>2.0</td>\n",
       "      <td>2</td>\n",
       "      <td>3</td>\n",
       "      <td>76.329693</td>\n",
       "      <td>123.509762</td>\n",
       "      <td>3</td>\n",
       "    </tr>\n",
       "    <tr>\n",
       "      <th>2</th>\n",
       "      <td>2.0</td>\n",
       "      <td>2</td>\n",
       "      <td>2</td>\n",
       "      <td>84.726817</td>\n",
       "      <td>94.113034</td>\n",
       "      <td>0</td>\n",
       "    </tr>\n",
       "    <tr>\n",
       "      <th>3</th>\n",
       "      <td>1.0</td>\n",
       "      <td>1</td>\n",
       "      <td>4</td>\n",
       "      <td>90.894953</td>\n",
       "      <td>131.080126</td>\n",
       "      <td>0</td>\n",
       "    </tr>\n",
       "    <tr>\n",
       "      <th>4</th>\n",
       "      <td>1.0</td>\n",
       "      <td>2</td>\n",
       "      <td>2</td>\n",
       "      <td>91.377552</td>\n",
       "      <td>78.421426</td>\n",
       "      <td>1</td>\n",
       "    </tr>\n",
       "  </tbody>\n",
       "</table>\n",
       "</div>"
      ],
      "text/plain": [
       "    x1  x2  x3         x4          x5  y\n",
       "0  3.0   2   2  71.873539   77.279942  0\n",
       "1  2.0   2   3  76.329693  123.509762  3\n",
       "2  2.0   2   2  84.726817   94.113034  0\n",
       "3  1.0   1   4  90.894953  131.080126  0\n",
       "4  1.0   2   2  91.377552   78.421426  1"
      ]
     },
     "execution_count": 75,
     "metadata": {},
     "output_type": "execute_result"
    }
   ],
   "source": [
    "mcar20rl = mcar20[mcar20.x1.notnull()]\n",
    "mcar20rl.head()"
   ]
  },
  {
   "cell_type": "code",
   "execution_count": 76,
   "metadata": {},
   "outputs": [
    {
     "data": {
      "text/plain": [
       "(168, 6)"
      ]
     },
     "execution_count": 76,
     "metadata": {},
     "output_type": "execute_result"
    }
   ],
   "source": [
    "mcar20rl.shape"
   ]
  },
  {
   "cell_type": "code",
   "execution_count": 77,
   "metadata": {},
   "outputs": [],
   "source": [
    "mcar20rl.to_csv(r'C:\\Users\\Lenovo\\Desktop\\mcar20rl.csv')"
   ]
  },
  {
   "cell_type": "code",
   "execution_count": 78,
   "metadata": {},
   "outputs": [
    {
     "data": {
      "text/html": [
       "<div>\n",
       "<style scoped>\n",
       "    .dataframe tbody tr th:only-of-type {\n",
       "        vertical-align: middle;\n",
       "    }\n",
       "\n",
       "    .dataframe tbody tr th {\n",
       "        vertical-align: top;\n",
       "    }\n",
       "\n",
       "    .dataframe thead th {\n",
       "        text-align: right;\n",
       "    }\n",
       "</style>\n",
       "<table border=\"1\" class=\"dataframe\">\n",
       "  <thead>\n",
       "    <tr style=\"text-align: right;\">\n",
       "      <th></th>\n",
       "      <th>x1</th>\n",
       "      <th>x2</th>\n",
       "      <th>x3</th>\n",
       "      <th>x4</th>\n",
       "      <th>x5</th>\n",
       "      <th>y</th>\n",
       "    </tr>\n",
       "  </thead>\n",
       "  <tbody>\n",
       "    <tr>\n",
       "      <th>0</th>\n",
       "      <td>3.0</td>\n",
       "      <td>2</td>\n",
       "      <td>2</td>\n",
       "      <td>71.873539</td>\n",
       "      <td>77.279942</td>\n",
       "      <td>0</td>\n",
       "    </tr>\n",
       "    <tr>\n",
       "      <th>3</th>\n",
       "      <td>1.0</td>\n",
       "      <td>1</td>\n",
       "      <td>4</td>\n",
       "      <td>90.894953</td>\n",
       "      <td>131.080126</td>\n",
       "      <td>0</td>\n",
       "    </tr>\n",
       "    <tr>\n",
       "      <th>4</th>\n",
       "      <td>1.0</td>\n",
       "      <td>2</td>\n",
       "      <td>2</td>\n",
       "      <td>91.377552</td>\n",
       "      <td>78.421426</td>\n",
       "      <td>1</td>\n",
       "    </tr>\n",
       "    <tr>\n",
       "      <th>6</th>\n",
       "      <td>2.0</td>\n",
       "      <td>3</td>\n",
       "      <td>4</td>\n",
       "      <td>87.124463</td>\n",
       "      <td>82.339298</td>\n",
       "      <td>1</td>\n",
       "    </tr>\n",
       "    <tr>\n",
       "      <th>7</th>\n",
       "      <td>2.0</td>\n",
       "      <td>2</td>\n",
       "      <td>4</td>\n",
       "      <td>77.472105</td>\n",
       "      <td>87.934054</td>\n",
       "      <td>3</td>\n",
       "    </tr>\n",
       "  </tbody>\n",
       "</table>\n",
       "</div>"
      ],
      "text/plain": [
       "    x1  x2  x3         x4          x5  y\n",
       "0  3.0   2   2  71.873539   77.279942  0\n",
       "3  1.0   1   4  90.894953  131.080126  0\n",
       "4  1.0   2   2  91.377552   78.421426  1\n",
       "6  2.0   3   4  87.124463   82.339298  1\n",
       "7  2.0   2   4  77.472105   87.934054  3"
      ]
     },
     "execution_count": 78,
     "metadata": {},
     "output_type": "execute_result"
    }
   ],
   "source": [
    "mcar40rl = mcar40[mcar40.x1.notnull()]\n",
    "mcar40rl.head()"
   ]
  },
  {
   "cell_type": "code",
   "execution_count": 79,
   "metadata": {},
   "outputs": [
    {
     "data": {
      "text/plain": [
       "(126, 6)"
      ]
     },
     "execution_count": 79,
     "metadata": {},
     "output_type": "execute_result"
    }
   ],
   "source": [
    "mcar40rl.shape"
   ]
  },
  {
   "cell_type": "code",
   "execution_count": 80,
   "metadata": {},
   "outputs": [],
   "source": [
    "mcar40rl.to_csv(r'C:\\Users\\Lenovo\\Desktop\\mcar40rl.csv')"
   ]
  },
  {
   "cell_type": "code",
   "execution_count": 81,
   "metadata": {},
   "outputs": [
    {
     "data": {
      "text/html": [
       "<div>\n",
       "<style scoped>\n",
       "    .dataframe tbody tr th:only-of-type {\n",
       "        vertical-align: middle;\n",
       "    }\n",
       "\n",
       "    .dataframe tbody tr th {\n",
       "        vertical-align: top;\n",
       "    }\n",
       "\n",
       "    .dataframe thead th {\n",
       "        text-align: right;\n",
       "    }\n",
       "</style>\n",
       "<table border=\"1\" class=\"dataframe\">\n",
       "  <thead>\n",
       "    <tr style=\"text-align: right;\">\n",
       "      <th></th>\n",
       "      <th>x1</th>\n",
       "      <th>x2</th>\n",
       "      <th>x3</th>\n",
       "      <th>x4</th>\n",
       "      <th>x5</th>\n",
       "      <th>y</th>\n",
       "    </tr>\n",
       "  </thead>\n",
       "  <tbody>\n",
       "    <tr>\n",
       "      <th>0</th>\n",
       "      <td>3.0</td>\n",
       "      <td>2</td>\n",
       "      <td>2</td>\n",
       "      <td>71.873539</td>\n",
       "      <td>77.279942</td>\n",
       "      <td>0</td>\n",
       "    </tr>\n",
       "    <tr>\n",
       "      <th>1</th>\n",
       "      <td>2.0</td>\n",
       "      <td>2</td>\n",
       "      <td>3</td>\n",
       "      <td>76.329693</td>\n",
       "      <td>123.509762</td>\n",
       "      <td>3</td>\n",
       "    </tr>\n",
       "    <tr>\n",
       "      <th>2</th>\n",
       "      <td>2.0</td>\n",
       "      <td>2</td>\n",
       "      <td>2</td>\n",
       "      <td>84.726817</td>\n",
       "      <td>94.113034</td>\n",
       "      <td>0</td>\n",
       "    </tr>\n",
       "    <tr>\n",
       "      <th>3</th>\n",
       "      <td>1.0</td>\n",
       "      <td>1</td>\n",
       "      <td>4</td>\n",
       "      <td>90.894953</td>\n",
       "      <td>131.080126</td>\n",
       "      <td>0</td>\n",
       "    </tr>\n",
       "    <tr>\n",
       "      <th>4</th>\n",
       "      <td>1.0</td>\n",
       "      <td>2</td>\n",
       "      <td>2</td>\n",
       "      <td>91.377552</td>\n",
       "      <td>78.421426</td>\n",
       "      <td>1</td>\n",
       "    </tr>\n",
       "  </tbody>\n",
       "</table>\n",
       "</div>"
      ],
      "text/plain": [
       "    x1  x2  x3         x4          x5  y\n",
       "0  3.0   2   2  71.873539   77.279942  0\n",
       "1  2.0   2   3  76.329693  123.509762  3\n",
       "2  2.0   2   2  84.726817   94.113034  0\n",
       "3  1.0   1   4  90.894953  131.080126  0\n",
       "4  1.0   2   2  91.377552   78.421426  1"
      ]
     },
     "execution_count": 81,
     "metadata": {},
     "output_type": "execute_result"
    }
   ],
   "source": [
    "mar20rl = mar20[mar20.x1.notnull()]\n",
    "mar20rl.head()"
   ]
  },
  {
   "cell_type": "code",
   "execution_count": 82,
   "metadata": {},
   "outputs": [
    {
     "data": {
      "text/plain": [
       "(168, 6)"
      ]
     },
     "execution_count": 82,
     "metadata": {},
     "output_type": "execute_result"
    }
   ],
   "source": [
    "mar20rl.shape"
   ]
  },
  {
   "cell_type": "code",
   "execution_count": 83,
   "metadata": {},
   "outputs": [],
   "source": [
    "mar20rl.to_csv(r'C:\\Users\\Lenovo\\Desktop\\mar20rl.csv')"
   ]
  },
  {
   "cell_type": "code",
   "execution_count": 84,
   "metadata": {},
   "outputs": [
    {
     "data": {
      "text/html": [
       "<div>\n",
       "<style scoped>\n",
       "    .dataframe tbody tr th:only-of-type {\n",
       "        vertical-align: middle;\n",
       "    }\n",
       "\n",
       "    .dataframe tbody tr th {\n",
       "        vertical-align: top;\n",
       "    }\n",
       "\n",
       "    .dataframe thead th {\n",
       "        text-align: right;\n",
       "    }\n",
       "</style>\n",
       "<table border=\"1\" class=\"dataframe\">\n",
       "  <thead>\n",
       "    <tr style=\"text-align: right;\">\n",
       "      <th></th>\n",
       "      <th>x1</th>\n",
       "      <th>x2</th>\n",
       "      <th>x3</th>\n",
       "      <th>x4</th>\n",
       "      <th>x5</th>\n",
       "      <th>y</th>\n",
       "    </tr>\n",
       "  </thead>\n",
       "  <tbody>\n",
       "    <tr>\n",
       "      <th>0</th>\n",
       "      <td>3.0</td>\n",
       "      <td>2</td>\n",
       "      <td>2</td>\n",
       "      <td>71.873539</td>\n",
       "      <td>77.279942</td>\n",
       "      <td>0</td>\n",
       "    </tr>\n",
       "    <tr>\n",
       "      <th>1</th>\n",
       "      <td>2.0</td>\n",
       "      <td>2</td>\n",
       "      <td>3</td>\n",
       "      <td>76.329693</td>\n",
       "      <td>123.509762</td>\n",
       "      <td>3</td>\n",
       "    </tr>\n",
       "    <tr>\n",
       "      <th>2</th>\n",
       "      <td>2.0</td>\n",
       "      <td>2</td>\n",
       "      <td>2</td>\n",
       "      <td>84.726817</td>\n",
       "      <td>94.113034</td>\n",
       "      <td>0</td>\n",
       "    </tr>\n",
       "    <tr>\n",
       "      <th>3</th>\n",
       "      <td>1.0</td>\n",
       "      <td>1</td>\n",
       "      <td>4</td>\n",
       "      <td>90.894953</td>\n",
       "      <td>131.080126</td>\n",
       "      <td>0</td>\n",
       "    </tr>\n",
       "    <tr>\n",
       "      <th>5</th>\n",
       "      <td>2.0</td>\n",
       "      <td>1</td>\n",
       "      <td>4</td>\n",
       "      <td>82.418660</td>\n",
       "      <td>128.847297</td>\n",
       "      <td>0</td>\n",
       "    </tr>\n",
       "  </tbody>\n",
       "</table>\n",
       "</div>"
      ],
      "text/plain": [
       "    x1  x2  x3         x4          x5  y\n",
       "0  3.0   2   2  71.873539   77.279942  0\n",
       "1  2.0   2   3  76.329693  123.509762  3\n",
       "2  2.0   2   2  84.726817   94.113034  0\n",
       "3  1.0   1   4  90.894953  131.080126  0\n",
       "5  2.0   1   4  82.418660  128.847297  0"
      ]
     },
     "execution_count": 84,
     "metadata": {},
     "output_type": "execute_result"
    }
   ],
   "source": [
    "mnar20rl = mnar20[mnar20.x1.notnull()]\n",
    "mnar20rl.head()"
   ]
  },
  {
   "cell_type": "code",
   "execution_count": 85,
   "metadata": {},
   "outputs": [
    {
     "data": {
      "text/plain": [
       "(168, 6)"
      ]
     },
     "execution_count": 85,
     "metadata": {},
     "output_type": "execute_result"
    }
   ],
   "source": [
    "mnar20rl.shape"
   ]
  },
  {
   "cell_type": "code",
   "execution_count": 86,
   "metadata": {},
   "outputs": [],
   "source": [
    "mnar20rl.to_csv(r'C:\\Users\\Lenovo\\Desktop\\mnar20rl.csv')"
   ]
  },
  {
   "cell_type": "markdown",
   "metadata": {},
   "source": [
    "<h4>Part c</h4>"
   ]
  },
  {
   "cell_type": "markdown",
   "metadata": {},
   "source": [
    "Here, to deal with missing values, we are asked to impute a constant value to missing fields. I have chosen median because x1 is a discrete variable. To show that those dataframes have same amount of columns and rows with our original data, I have shown shapes as well. Also, to show for each dataframe, we have different numbers for x1, I have shown mean values for x1 as well. Then, correspoding csv files are created."
   ]
  },
  {
   "cell_type": "code",
   "execution_count": 87,
   "metadata": {},
   "outputs": [
    {
     "data": {
      "text/html": [
       "<div>\n",
       "<style scoped>\n",
       "    .dataframe tbody tr th:only-of-type {\n",
       "        vertical-align: middle;\n",
       "    }\n",
       "\n",
       "    .dataframe tbody tr th {\n",
       "        vertical-align: top;\n",
       "    }\n",
       "\n",
       "    .dataframe thead th {\n",
       "        text-align: right;\n",
       "    }\n",
       "</style>\n",
       "<table border=\"1\" class=\"dataframe\">\n",
       "  <thead>\n",
       "    <tr style=\"text-align: right;\">\n",
       "      <th></th>\n",
       "      <th>x1</th>\n",
       "      <th>x2</th>\n",
       "      <th>x3</th>\n",
       "      <th>x4</th>\n",
       "      <th>x5</th>\n",
       "      <th>y</th>\n",
       "    </tr>\n",
       "  </thead>\n",
       "  <tbody>\n",
       "    <tr>\n",
       "      <th>0</th>\n",
       "      <td>3.0</td>\n",
       "      <td>2</td>\n",
       "      <td>2</td>\n",
       "      <td>71.873539</td>\n",
       "      <td>77.279942</td>\n",
       "      <td>0</td>\n",
       "    </tr>\n",
       "    <tr>\n",
       "      <th>1</th>\n",
       "      <td>2.0</td>\n",
       "      <td>2</td>\n",
       "      <td>3</td>\n",
       "      <td>76.329693</td>\n",
       "      <td>123.509762</td>\n",
       "      <td>3</td>\n",
       "    </tr>\n",
       "    <tr>\n",
       "      <th>2</th>\n",
       "      <td>2.0</td>\n",
       "      <td>2</td>\n",
       "      <td>2</td>\n",
       "      <td>84.726817</td>\n",
       "      <td>94.113034</td>\n",
       "      <td>0</td>\n",
       "    </tr>\n",
       "    <tr>\n",
       "      <th>3</th>\n",
       "      <td>1.0</td>\n",
       "      <td>1</td>\n",
       "      <td>4</td>\n",
       "      <td>90.894953</td>\n",
       "      <td>131.080126</td>\n",
       "      <td>0</td>\n",
       "    </tr>\n",
       "    <tr>\n",
       "      <th>4</th>\n",
       "      <td>1.0</td>\n",
       "      <td>2</td>\n",
       "      <td>2</td>\n",
       "      <td>91.377552</td>\n",
       "      <td>78.421426</td>\n",
       "      <td>1</td>\n",
       "    </tr>\n",
       "  </tbody>\n",
       "</table>\n",
       "</div>"
      ],
      "text/plain": [
       "    x1  x2  x3         x4          x5  y\n",
       "0  3.0   2   2  71.873539   77.279942  0\n",
       "1  2.0   2   3  76.329693  123.509762  3\n",
       "2  2.0   2   2  84.726817   94.113034  0\n",
       "3  1.0   1   4  90.894953  131.080126  0\n",
       "4  1.0   2   2  91.377552   78.421426  1"
      ]
     },
     "execution_count": 87,
     "metadata": {},
     "output_type": "execute_result"
    }
   ],
   "source": [
    "mcar20m = mcar20.fillna(mcar20.median())\n",
    "mcar20m.head()"
   ]
  },
  {
   "cell_type": "code",
   "execution_count": 88,
   "metadata": {},
   "outputs": [
    {
     "data": {
      "text/plain": [
       "(210, 6)"
      ]
     },
     "execution_count": 88,
     "metadata": {},
     "output_type": "execute_result"
    }
   ],
   "source": [
    "mcar20m.shape"
   ]
  },
  {
   "cell_type": "code",
   "execution_count": 89,
   "metadata": {},
   "outputs": [
    {
     "data": {
      "text/plain": [
       "1.9952380952380953"
      ]
     },
     "execution_count": 89,
     "metadata": {},
     "output_type": "execute_result"
    }
   ],
   "source": [
    "mcar20m['x1'].mean()"
   ]
  },
  {
   "cell_type": "code",
   "execution_count": 90,
   "metadata": {},
   "outputs": [],
   "source": [
    "mcar20m.to_csv(r'C:\\Users\\Lenovo\\Desktop\\mcar20m.csv')"
   ]
  },
  {
   "cell_type": "code",
   "execution_count": 91,
   "metadata": {},
   "outputs": [
    {
     "data": {
      "text/html": [
       "<div>\n",
       "<style scoped>\n",
       "    .dataframe tbody tr th:only-of-type {\n",
       "        vertical-align: middle;\n",
       "    }\n",
       "\n",
       "    .dataframe tbody tr th {\n",
       "        vertical-align: top;\n",
       "    }\n",
       "\n",
       "    .dataframe thead th {\n",
       "        text-align: right;\n",
       "    }\n",
       "</style>\n",
       "<table border=\"1\" class=\"dataframe\">\n",
       "  <thead>\n",
       "    <tr style=\"text-align: right;\">\n",
       "      <th></th>\n",
       "      <th>x1</th>\n",
       "      <th>x2</th>\n",
       "      <th>x3</th>\n",
       "      <th>x4</th>\n",
       "      <th>x5</th>\n",
       "      <th>y</th>\n",
       "    </tr>\n",
       "  </thead>\n",
       "  <tbody>\n",
       "    <tr>\n",
       "      <th>0</th>\n",
       "      <td>3.0</td>\n",
       "      <td>2</td>\n",
       "      <td>2</td>\n",
       "      <td>71.873539</td>\n",
       "      <td>77.279942</td>\n",
       "      <td>0</td>\n",
       "    </tr>\n",
       "    <tr>\n",
       "      <th>1</th>\n",
       "      <td>2.0</td>\n",
       "      <td>2</td>\n",
       "      <td>3</td>\n",
       "      <td>76.329693</td>\n",
       "      <td>123.509762</td>\n",
       "      <td>3</td>\n",
       "    </tr>\n",
       "    <tr>\n",
       "      <th>2</th>\n",
       "      <td>2.0</td>\n",
       "      <td>2</td>\n",
       "      <td>2</td>\n",
       "      <td>84.726817</td>\n",
       "      <td>94.113034</td>\n",
       "      <td>0</td>\n",
       "    </tr>\n",
       "    <tr>\n",
       "      <th>3</th>\n",
       "      <td>1.0</td>\n",
       "      <td>1</td>\n",
       "      <td>4</td>\n",
       "      <td>90.894953</td>\n",
       "      <td>131.080126</td>\n",
       "      <td>0</td>\n",
       "    </tr>\n",
       "    <tr>\n",
       "      <th>4</th>\n",
       "      <td>1.0</td>\n",
       "      <td>2</td>\n",
       "      <td>2</td>\n",
       "      <td>91.377552</td>\n",
       "      <td>78.421426</td>\n",
       "      <td>1</td>\n",
       "    </tr>\n",
       "  </tbody>\n",
       "</table>\n",
       "</div>"
      ],
      "text/plain": [
       "    x1  x2  x3         x4          x5  y\n",
       "0  3.0   2   2  71.873539   77.279942  0\n",
       "1  2.0   2   3  76.329693  123.509762  3\n",
       "2  2.0   2   2  84.726817   94.113034  0\n",
       "3  1.0   1   4  90.894953  131.080126  0\n",
       "4  1.0   2   2  91.377552   78.421426  1"
      ]
     },
     "execution_count": 91,
     "metadata": {},
     "output_type": "execute_result"
    }
   ],
   "source": [
    "mcar40m = mcar40.fillna(mcar40.median())\n",
    "mcar40m.head()"
   ]
  },
  {
   "cell_type": "code",
   "execution_count": 92,
   "metadata": {},
   "outputs": [
    {
     "data": {
      "text/plain": [
       "(210, 6)"
      ]
     },
     "execution_count": 92,
     "metadata": {},
     "output_type": "execute_result"
    }
   ],
   "source": [
    "mcar40m.shape"
   ]
  },
  {
   "cell_type": "code",
   "execution_count": 93,
   "metadata": {},
   "outputs": [
    {
     "data": {
      "text/plain": [
       "1.9857142857142858"
      ]
     },
     "execution_count": 93,
     "metadata": {},
     "output_type": "execute_result"
    }
   ],
   "source": [
    "mcar40m['x1'].mean()"
   ]
  },
  {
   "cell_type": "code",
   "execution_count": 94,
   "metadata": {},
   "outputs": [],
   "source": [
    "mcar40m.to_csv(r'C:\\Users\\Lenovo\\Desktop\\mcar40m.csv')"
   ]
  },
  {
   "cell_type": "code",
   "execution_count": 95,
   "metadata": {},
   "outputs": [
    {
     "data": {
      "text/html": [
       "<div>\n",
       "<style scoped>\n",
       "    .dataframe tbody tr th:only-of-type {\n",
       "        vertical-align: middle;\n",
       "    }\n",
       "\n",
       "    .dataframe tbody tr th {\n",
       "        vertical-align: top;\n",
       "    }\n",
       "\n",
       "    .dataframe thead th {\n",
       "        text-align: right;\n",
       "    }\n",
       "</style>\n",
       "<table border=\"1\" class=\"dataframe\">\n",
       "  <thead>\n",
       "    <tr style=\"text-align: right;\">\n",
       "      <th></th>\n",
       "      <th>x1</th>\n",
       "      <th>x2</th>\n",
       "      <th>x3</th>\n",
       "      <th>x4</th>\n",
       "      <th>x5</th>\n",
       "      <th>y</th>\n",
       "    </tr>\n",
       "  </thead>\n",
       "  <tbody>\n",
       "    <tr>\n",
       "      <th>0</th>\n",
       "      <td>3.0</td>\n",
       "      <td>2</td>\n",
       "      <td>2</td>\n",
       "      <td>71.873539</td>\n",
       "      <td>77.279942</td>\n",
       "      <td>0</td>\n",
       "    </tr>\n",
       "    <tr>\n",
       "      <th>1</th>\n",
       "      <td>2.0</td>\n",
       "      <td>2</td>\n",
       "      <td>3</td>\n",
       "      <td>76.329693</td>\n",
       "      <td>123.509762</td>\n",
       "      <td>3</td>\n",
       "    </tr>\n",
       "    <tr>\n",
       "      <th>2</th>\n",
       "      <td>2.0</td>\n",
       "      <td>2</td>\n",
       "      <td>2</td>\n",
       "      <td>84.726817</td>\n",
       "      <td>94.113034</td>\n",
       "      <td>0</td>\n",
       "    </tr>\n",
       "    <tr>\n",
       "      <th>3</th>\n",
       "      <td>1.0</td>\n",
       "      <td>1</td>\n",
       "      <td>4</td>\n",
       "      <td>90.894953</td>\n",
       "      <td>131.080126</td>\n",
       "      <td>0</td>\n",
       "    </tr>\n",
       "    <tr>\n",
       "      <th>4</th>\n",
       "      <td>1.0</td>\n",
       "      <td>2</td>\n",
       "      <td>2</td>\n",
       "      <td>91.377552</td>\n",
       "      <td>78.421426</td>\n",
       "      <td>1</td>\n",
       "    </tr>\n",
       "  </tbody>\n",
       "</table>\n",
       "</div>"
      ],
      "text/plain": [
       "    x1  x2  x3         x4          x5  y\n",
       "0  3.0   2   2  71.873539   77.279942  0\n",
       "1  2.0   2   3  76.329693  123.509762  3\n",
       "2  2.0   2   2  84.726817   94.113034  0\n",
       "3  1.0   1   4  90.894953  131.080126  0\n",
       "4  1.0   2   2  91.377552   78.421426  1"
      ]
     },
     "execution_count": 95,
     "metadata": {},
     "output_type": "execute_result"
    }
   ],
   "source": [
    "mar20m = mar20.fillna(mar20.median())\n",
    "mar20m.head()"
   ]
  },
  {
   "cell_type": "code",
   "execution_count": 96,
   "metadata": {},
   "outputs": [
    {
     "data": {
      "text/plain": [
       "(210, 6)"
      ]
     },
     "execution_count": 96,
     "metadata": {},
     "output_type": "execute_result"
    }
   ],
   "source": [
    "mar20m.shape"
   ]
  },
  {
   "cell_type": "code",
   "execution_count": 97,
   "metadata": {},
   "outputs": [
    {
     "data": {
      "text/plain": [
       "1.8952380952380952"
      ]
     },
     "execution_count": 97,
     "metadata": {},
     "output_type": "execute_result"
    }
   ],
   "source": [
    "mar20m['x1'].mean()"
   ]
  },
  {
   "cell_type": "code",
   "execution_count": 98,
   "metadata": {},
   "outputs": [],
   "source": [
    "mar20m.to_csv(r'C:\\Users\\Lenovo\\Desktop\\mar20m.csv')"
   ]
  },
  {
   "cell_type": "code",
   "execution_count": 99,
   "metadata": {},
   "outputs": [
    {
     "data": {
      "text/html": [
       "<div>\n",
       "<style scoped>\n",
       "    .dataframe tbody tr th:only-of-type {\n",
       "        vertical-align: middle;\n",
       "    }\n",
       "\n",
       "    .dataframe tbody tr th {\n",
       "        vertical-align: top;\n",
       "    }\n",
       "\n",
       "    .dataframe thead th {\n",
       "        text-align: right;\n",
       "    }\n",
       "</style>\n",
       "<table border=\"1\" class=\"dataframe\">\n",
       "  <thead>\n",
       "    <tr style=\"text-align: right;\">\n",
       "      <th></th>\n",
       "      <th>x1</th>\n",
       "      <th>x2</th>\n",
       "      <th>x3</th>\n",
       "      <th>x4</th>\n",
       "      <th>x5</th>\n",
       "      <th>y</th>\n",
       "    </tr>\n",
       "  </thead>\n",
       "  <tbody>\n",
       "    <tr>\n",
       "      <th>0</th>\n",
       "      <td>3.0</td>\n",
       "      <td>2</td>\n",
       "      <td>2</td>\n",
       "      <td>71.873539</td>\n",
       "      <td>77.279942</td>\n",
       "      <td>0</td>\n",
       "    </tr>\n",
       "    <tr>\n",
       "      <th>1</th>\n",
       "      <td>2.0</td>\n",
       "      <td>2</td>\n",
       "      <td>3</td>\n",
       "      <td>76.329693</td>\n",
       "      <td>123.509762</td>\n",
       "      <td>3</td>\n",
       "    </tr>\n",
       "    <tr>\n",
       "      <th>2</th>\n",
       "      <td>2.0</td>\n",
       "      <td>2</td>\n",
       "      <td>2</td>\n",
       "      <td>84.726817</td>\n",
       "      <td>94.113034</td>\n",
       "      <td>0</td>\n",
       "    </tr>\n",
       "    <tr>\n",
       "      <th>3</th>\n",
       "      <td>1.0</td>\n",
       "      <td>1</td>\n",
       "      <td>4</td>\n",
       "      <td>90.894953</td>\n",
       "      <td>131.080126</td>\n",
       "      <td>0</td>\n",
       "    </tr>\n",
       "    <tr>\n",
       "      <th>4</th>\n",
       "      <td>2.0</td>\n",
       "      <td>2</td>\n",
       "      <td>2</td>\n",
       "      <td>91.377552</td>\n",
       "      <td>78.421426</td>\n",
       "      <td>1</td>\n",
       "    </tr>\n",
       "  </tbody>\n",
       "</table>\n",
       "</div>"
      ],
      "text/plain": [
       "    x1  x2  x3         x4          x5  y\n",
       "0  3.0   2   2  71.873539   77.279942  0\n",
       "1  2.0   2   3  76.329693  123.509762  3\n",
       "2  2.0   2   2  84.726817   94.113034  0\n",
       "3  1.0   1   4  90.894953  131.080126  0\n",
       "4  2.0   2   2  91.377552   78.421426  1"
      ]
     },
     "execution_count": 99,
     "metadata": {},
     "output_type": "execute_result"
    }
   ],
   "source": [
    "mnar20m = mnar20.fillna(mnar20.median())\n",
    "mnar20m.head()"
   ]
  },
  {
   "cell_type": "code",
   "execution_count": 100,
   "metadata": {},
   "outputs": [
    {
     "data": {
      "text/plain": [
       "(210, 6)"
      ]
     },
     "execution_count": 100,
     "metadata": {},
     "output_type": "execute_result"
    }
   ],
   "source": [
    "mnar20m.shape"
   ]
  },
  {
   "cell_type": "code",
   "execution_count": 101,
   "metadata": {},
   "outputs": [
    {
     "data": {
      "text/plain": [
       "2.238095238095238"
      ]
     },
     "execution_count": 101,
     "metadata": {},
     "output_type": "execute_result"
    }
   ],
   "source": [
    "mnar20m['x1'].mean()"
   ]
  },
  {
   "cell_type": "code",
   "execution_count": 102,
   "metadata": {},
   "outputs": [],
   "source": [
    "mnar20m.to_csv(r'C:\\Users\\Lenovo\\Desktop\\mnar20m.csv')"
   ]
  },
  {
   "cell_type": "markdown",
   "metadata": {},
   "source": [
    "<h4>Part d</h4>"
   ]
  },
  {
   "cell_type": "markdown",
   "metadata": {},
   "source": [
    "Here, to deal with missing values, we are asked to impute by regression value missing fields. I have utilized MICE. Then, correspoding csv files are created."
   ]
  },
  {
   "cell_type": "code",
   "execution_count": 103,
   "metadata": {},
   "outputs": [
    {
     "name": "stdout",
     "output_type": "stream",
     "text": [
      "                         Results: MICE\n",
      "================================================================\n",
      "Method:                   MICE       Sample size:           210 \n",
      "Model:                    OLS        Scale                  0.72\n",
      "Dependent variable:       y          Num. imputations       10  \n",
      "----------------------------------------------------------------\n",
      "           Coef.  Std.Err.    t    P>|t|   [0.025  0.975]  FMI  \n",
      "----------------------------------------------------------------\n",
      "Intercept  3.8204   1.3836  2.7611 0.0058  1.1085  6.5323 0.1239\n",
      "x1         0.2964   0.1846  1.6058 0.1083 -0.0654  0.6582 0.1453\n",
      "x2         0.3481   0.1553  2.2409 0.0250  0.0436  0.6526 0.0036\n",
      "x3         0.0190   0.0726  0.2610 0.7941 -0.1234  0.1613 0.0070\n",
      "x4        -0.0409   0.0125 -3.2595 0.0011 -0.0655 -0.0163 0.1062\n",
      "x5        -0.0055   0.0040 -1.3567 0.1749 -0.0134  0.0024 0.0124\n",
      "================================================================\n",
      "\n"
     ]
    }
   ],
   "source": [
    "np.random.seed(123)\n",
    "imp1 = mice.MICEData(mcar20)\n",
    "model1 = mice.MICE('y ~ x1 + x2 + x3 + x4 + x5', sm.OLS, imp1)\n",
    "result1 = model1.fit(0,10)\n",
    "print(result1.summary())"
   ]
  },
  {
   "cell_type": "markdown",
   "metadata": {},
   "source": [
    "As 10 cycles are performed in general, I chose n as 10."
   ]
  },
  {
   "cell_type": "code",
   "execution_count": 104,
   "metadata": {
    "scrolled": true
   },
   "outputs": [
    {
     "data": {
      "text/html": [
       "<div>\n",
       "<style scoped>\n",
       "    .dataframe tbody tr th:only-of-type {\n",
       "        vertical-align: middle;\n",
       "    }\n",
       "\n",
       "    .dataframe tbody tr th {\n",
       "        vertical-align: top;\n",
       "    }\n",
       "\n",
       "    .dataframe thead th {\n",
       "        text-align: right;\n",
       "    }\n",
       "</style>\n",
       "<table border=\"1\" class=\"dataframe\">\n",
       "  <thead>\n",
       "    <tr style=\"text-align: right;\">\n",
       "      <th></th>\n",
       "      <th>x1</th>\n",
       "      <th>x2</th>\n",
       "      <th>x3</th>\n",
       "      <th>x4</th>\n",
       "      <th>x5</th>\n",
       "      <th>y</th>\n",
       "    </tr>\n",
       "  </thead>\n",
       "  <tbody>\n",
       "    <tr>\n",
       "      <th>0</th>\n",
       "      <td>3.0</td>\n",
       "      <td>2.0</td>\n",
       "      <td>2.0</td>\n",
       "      <td>71.873539</td>\n",
       "      <td>77.279942</td>\n",
       "      <td>0.0</td>\n",
       "    </tr>\n",
       "    <tr>\n",
       "      <th>1</th>\n",
       "      <td>2.0</td>\n",
       "      <td>2.0</td>\n",
       "      <td>3.0</td>\n",
       "      <td>76.329693</td>\n",
       "      <td>123.509762</td>\n",
       "      <td>3.0</td>\n",
       "    </tr>\n",
       "    <tr>\n",
       "      <th>2</th>\n",
       "      <td>2.0</td>\n",
       "      <td>2.0</td>\n",
       "      <td>2.0</td>\n",
       "      <td>84.726817</td>\n",
       "      <td>94.113034</td>\n",
       "      <td>0.0</td>\n",
       "    </tr>\n",
       "    <tr>\n",
       "      <th>3</th>\n",
       "      <td>1.0</td>\n",
       "      <td>1.0</td>\n",
       "      <td>4.0</td>\n",
       "      <td>90.894953</td>\n",
       "      <td>131.080126</td>\n",
       "      <td>0.0</td>\n",
       "    </tr>\n",
       "    <tr>\n",
       "      <th>4</th>\n",
       "      <td>1.0</td>\n",
       "      <td>2.0</td>\n",
       "      <td>2.0</td>\n",
       "      <td>91.377552</td>\n",
       "      <td>78.421426</td>\n",
       "      <td>1.0</td>\n",
       "    </tr>\n",
       "  </tbody>\n",
       "</table>\n",
       "</div>"
      ],
      "text/plain": [
       "    x1   x2   x3         x4          x5    y\n",
       "0  3.0  2.0  2.0  71.873539   77.279942  0.0\n",
       "1  2.0  2.0  3.0  76.329693  123.509762  3.0\n",
       "2  2.0  2.0  2.0  84.726817   94.113034  0.0\n",
       "3  1.0  1.0  4.0  90.894953  131.080126  0.0\n",
       "4  1.0  2.0  2.0  91.377552   78.421426  1.0"
      ]
     },
     "execution_count": 104,
     "metadata": {},
     "output_type": "execute_result"
    }
   ],
   "source": [
    "d=np.zeros(mcar20.shape)\n",
    "dumb=pd.DataFrame(d, columns=[\"x1\", \"x2\", \"x3\", \"x4\", \"x5\", \"y\"])\n",
    "for i in range(10):    \n",
    "    dumb=dumb+imp1.data  \n",
    "mcar20reg=dumb/10\n",
    "mcar20reg.head(5)"
   ]
  },
  {
   "cell_type": "markdown",
   "metadata": {},
   "source": [
    "I have imputed variables according to MICE. Now, we can check shape."
   ]
  },
  {
   "cell_type": "code",
   "execution_count": 105,
   "metadata": {},
   "outputs": [
    {
     "data": {
      "text/plain": [
       "(210, 6)"
      ]
     },
     "execution_count": 105,
     "metadata": {},
     "output_type": "execute_result"
    }
   ],
   "source": [
    "mcar20reg.shape"
   ]
  },
  {
   "cell_type": "markdown",
   "metadata": {},
   "source": [
    "As it has correct shape, I can write it on Excel."
   ]
  },
  {
   "cell_type": "code",
   "execution_count": 106,
   "metadata": {},
   "outputs": [],
   "source": [
    "mcar20reg.to_csv(r'C:\\Users\\Lenovo\\Desktop\\mcar20reg.csv')"
   ]
  },
  {
   "cell_type": "code",
   "execution_count": 107,
   "metadata": {
    "scrolled": true
   },
   "outputs": [
    {
     "name": "stdout",
     "output_type": "stream",
     "text": [
      "                         Results: MICE\n",
      "================================================================\n",
      "Method:                   MICE       Sample size:           210 \n",
      "Model:                    OLS        Scale                  0.72\n",
      "Dependent variable:       y          Num. imputations       10  \n",
      "----------------------------------------------------------------\n",
      "           Coef.  Std.Err.    t    P>|t|   [0.025  0.975]  FMI  \n",
      "----------------------------------------------------------------\n",
      "Intercept  3.4891   1.2638  2.7608 0.0058  1.0121  5.9660 0.1138\n",
      "x1         0.3604   0.1710  2.1069 0.0351  0.0251  0.6956 0.1312\n",
      "x2         0.3424   0.1553  2.2049 0.0275  0.0380  0.6467 0.0210\n",
      "x3         0.0161   0.0729  0.2215 0.8247 -0.1267  0.1589 0.0216\n",
      "x4        -0.0386   0.0112 -3.4305 0.0006 -0.0606 -0.0165 0.1046\n",
      "x5        -0.0050   0.0041 -1.2355 0.2167 -0.0131  0.0030 0.0401\n",
      "================================================================\n",
      "\n"
     ]
    }
   ],
   "source": [
    "np.random.seed(123)\n",
    "imp1 = mice.MICEData(mcar40)\n",
    "model1 = mice.MICE('y ~ x1 + x2 + x3 + x4 + x5', sm.OLS, imp1)\n",
    "result1 = model1.fit(0,10)\n",
    "print(result1.summary())"
   ]
  },
  {
   "cell_type": "code",
   "execution_count": 108,
   "metadata": {},
   "outputs": [
    {
     "data": {
      "text/html": [
       "<div>\n",
       "<style scoped>\n",
       "    .dataframe tbody tr th:only-of-type {\n",
       "        vertical-align: middle;\n",
       "    }\n",
       "\n",
       "    .dataframe tbody tr th {\n",
       "        vertical-align: top;\n",
       "    }\n",
       "\n",
       "    .dataframe thead th {\n",
       "        text-align: right;\n",
       "    }\n",
       "</style>\n",
       "<table border=\"1\" class=\"dataframe\">\n",
       "  <thead>\n",
       "    <tr style=\"text-align: right;\">\n",
       "      <th></th>\n",
       "      <th>x1</th>\n",
       "      <th>x2</th>\n",
       "      <th>x3</th>\n",
       "      <th>x4</th>\n",
       "      <th>x5</th>\n",
       "      <th>y</th>\n",
       "    </tr>\n",
       "  </thead>\n",
       "  <tbody>\n",
       "    <tr>\n",
       "      <th>0</th>\n",
       "      <td>3.0</td>\n",
       "      <td>2.0</td>\n",
       "      <td>2.0</td>\n",
       "      <td>71.873539</td>\n",
       "      <td>77.279942</td>\n",
       "      <td>0.0</td>\n",
       "    </tr>\n",
       "    <tr>\n",
       "      <th>1</th>\n",
       "      <td>2.0</td>\n",
       "      <td>2.0</td>\n",
       "      <td>3.0</td>\n",
       "      <td>76.329693</td>\n",
       "      <td>123.509762</td>\n",
       "      <td>3.0</td>\n",
       "    </tr>\n",
       "    <tr>\n",
       "      <th>2</th>\n",
       "      <td>2.0</td>\n",
       "      <td>2.0</td>\n",
       "      <td>2.0</td>\n",
       "      <td>84.726817</td>\n",
       "      <td>94.113034</td>\n",
       "      <td>0.0</td>\n",
       "    </tr>\n",
       "    <tr>\n",
       "      <th>3</th>\n",
       "      <td>1.0</td>\n",
       "      <td>1.0</td>\n",
       "      <td>4.0</td>\n",
       "      <td>90.894953</td>\n",
       "      <td>131.080126</td>\n",
       "      <td>0.0</td>\n",
       "    </tr>\n",
       "    <tr>\n",
       "      <th>4</th>\n",
       "      <td>1.0</td>\n",
       "      <td>2.0</td>\n",
       "      <td>2.0</td>\n",
       "      <td>91.377552</td>\n",
       "      <td>78.421426</td>\n",
       "      <td>1.0</td>\n",
       "    </tr>\n",
       "  </tbody>\n",
       "</table>\n",
       "</div>"
      ],
      "text/plain": [
       "    x1   x2   x3         x4          x5    y\n",
       "0  3.0  2.0  2.0  71.873539   77.279942  0.0\n",
       "1  2.0  2.0  3.0  76.329693  123.509762  3.0\n",
       "2  2.0  2.0  2.0  84.726817   94.113034  0.0\n",
       "3  1.0  1.0  4.0  90.894953  131.080126  0.0\n",
       "4  1.0  2.0  2.0  91.377552   78.421426  1.0"
      ]
     },
     "execution_count": 108,
     "metadata": {},
     "output_type": "execute_result"
    }
   ],
   "source": [
    "d=np.zeros(mcar40.shape)\n",
    "dumb=pd.DataFrame(d, columns=[\"x1\", \"x2\", \"x3\", \"x4\", \"x5\", \"y\"])\n",
    "for i in range(10):    \n",
    "    dumb=dumb+imp1.data  \n",
    "mcar40reg=dumb/10\n",
    "mcar40reg.head(5)"
   ]
  },
  {
   "cell_type": "markdown",
   "metadata": {},
   "source": [
    "I have imputed variables according to MICE. Now, we can check shape."
   ]
  },
  {
   "cell_type": "code",
   "execution_count": 109,
   "metadata": {},
   "outputs": [
    {
     "data": {
      "text/plain": [
       "(210, 6)"
      ]
     },
     "execution_count": 109,
     "metadata": {},
     "output_type": "execute_result"
    }
   ],
   "source": [
    "mcar40reg.shape"
   ]
  },
  {
   "cell_type": "markdown",
   "metadata": {},
   "source": [
    "As it has correct shape, I can write it on Excel."
   ]
  },
  {
   "cell_type": "code",
   "execution_count": 110,
   "metadata": {},
   "outputs": [],
   "source": [
    "mcar40reg.to_csv(r'C:\\Users\\Lenovo\\Desktop\\mcar40reg.csv')"
   ]
  },
  {
   "cell_type": "code",
   "execution_count": 111,
   "metadata": {},
   "outputs": [
    {
     "name": "stdout",
     "output_type": "stream",
     "text": [
      "                         Results: MICE\n",
      "================================================================\n",
      "Method:                   MICE       Sample size:           210 \n",
      "Model:                    OLS        Scale                  0.73\n",
      "Dependent variable:       y          Num. imputations       10  \n",
      "----------------------------------------------------------------\n",
      "           Coef.  Std.Err.    t    P>|t|   [0.025  0.975]  FMI  \n",
      "----------------------------------------------------------------\n",
      "Intercept  4.1521   1.4107  2.9434 0.0032  1.3873  6.9170 0.1786\n",
      "x1         0.2539   0.1943  1.3067 0.1913 -0.1269  0.6347 0.2133\n",
      "x2         0.3500   0.1576  2.2203 0.0264  0.0410  0.6589 0.0232\n",
      "x3         0.0131   0.0728  0.1793 0.8577 -0.1297  0.1558 0.0047\n",
      "x4        -0.0434   0.0132 -3.2879 0.0010 -0.0692 -0.0175 0.1787\n",
      "x5        -0.0058   0.0040 -1.4472 0.1479 -0.0137  0.0021 0.0049\n",
      "================================================================\n",
      "\n"
     ]
    }
   ],
   "source": [
    "np.random.seed(123)\n",
    "imp1 = mice.MICEData(mar20)\n",
    "model1 = mice.MICE('y ~ x1 + x2 + x3 + x4 + x5', sm.OLS, imp1)\n",
    "result1 = model1.fit(0,10)\n",
    "print(result1.summary())"
   ]
  },
  {
   "cell_type": "code",
   "execution_count": 112,
   "metadata": {},
   "outputs": [
    {
     "data": {
      "text/html": [
       "<div>\n",
       "<style scoped>\n",
       "    .dataframe tbody tr th:only-of-type {\n",
       "        vertical-align: middle;\n",
       "    }\n",
       "\n",
       "    .dataframe tbody tr th {\n",
       "        vertical-align: top;\n",
       "    }\n",
       "\n",
       "    .dataframe thead th {\n",
       "        text-align: right;\n",
       "    }\n",
       "</style>\n",
       "<table border=\"1\" class=\"dataframe\">\n",
       "  <thead>\n",
       "    <tr style=\"text-align: right;\">\n",
       "      <th></th>\n",
       "      <th>x1</th>\n",
       "      <th>x2</th>\n",
       "      <th>x3</th>\n",
       "      <th>x4</th>\n",
       "      <th>x5</th>\n",
       "      <th>y</th>\n",
       "    </tr>\n",
       "  </thead>\n",
       "  <tbody>\n",
       "    <tr>\n",
       "      <th>0</th>\n",
       "      <td>3.0</td>\n",
       "      <td>2.0</td>\n",
       "      <td>2.0</td>\n",
       "      <td>71.873539</td>\n",
       "      <td>77.279942</td>\n",
       "      <td>0.0</td>\n",
       "    </tr>\n",
       "    <tr>\n",
       "      <th>1</th>\n",
       "      <td>2.0</td>\n",
       "      <td>2.0</td>\n",
       "      <td>3.0</td>\n",
       "      <td>76.329693</td>\n",
       "      <td>123.509762</td>\n",
       "      <td>3.0</td>\n",
       "    </tr>\n",
       "    <tr>\n",
       "      <th>2</th>\n",
       "      <td>2.0</td>\n",
       "      <td>2.0</td>\n",
       "      <td>2.0</td>\n",
       "      <td>84.726817</td>\n",
       "      <td>94.113034</td>\n",
       "      <td>0.0</td>\n",
       "    </tr>\n",
       "    <tr>\n",
       "      <th>3</th>\n",
       "      <td>1.0</td>\n",
       "      <td>1.0</td>\n",
       "      <td>4.0</td>\n",
       "      <td>90.894953</td>\n",
       "      <td>131.080126</td>\n",
       "      <td>0.0</td>\n",
       "    </tr>\n",
       "    <tr>\n",
       "      <th>4</th>\n",
       "      <td>1.0</td>\n",
       "      <td>2.0</td>\n",
       "      <td>2.0</td>\n",
       "      <td>91.377552</td>\n",
       "      <td>78.421426</td>\n",
       "      <td>1.0</td>\n",
       "    </tr>\n",
       "  </tbody>\n",
       "</table>\n",
       "</div>"
      ],
      "text/plain": [
       "    x1   x2   x3         x4          x5    y\n",
       "0  3.0  2.0  2.0  71.873539   77.279942  0.0\n",
       "1  2.0  2.0  3.0  76.329693  123.509762  3.0\n",
       "2  2.0  2.0  2.0  84.726817   94.113034  0.0\n",
       "3  1.0  1.0  4.0  90.894953  131.080126  0.0\n",
       "4  1.0  2.0  2.0  91.377552   78.421426  1.0"
      ]
     },
     "execution_count": 112,
     "metadata": {},
     "output_type": "execute_result"
    }
   ],
   "source": [
    "d=np.zeros(mar20.shape)\n",
    "dumb=pd.DataFrame(d, columns=[\"x1\", \"x2\", \"x3\", \"x4\", \"x5\", \"y\"])\n",
    "for i in range(10):    \n",
    "    dumb=dumb+imp1.data  \n",
    "mar20reg=dumb/10\n",
    "mar20reg.head(5)"
   ]
  },
  {
   "cell_type": "markdown",
   "metadata": {},
   "source": [
    "I have imputed variables according to MICE. Now, we can check shape."
   ]
  },
  {
   "cell_type": "code",
   "execution_count": 113,
   "metadata": {},
   "outputs": [
    {
     "data": {
      "text/plain": [
       "(210, 6)"
      ]
     },
     "execution_count": 113,
     "metadata": {},
     "output_type": "execute_result"
    }
   ],
   "source": [
    "mar20reg.shape"
   ]
  },
  {
   "cell_type": "markdown",
   "metadata": {},
   "source": [
    "As it has correct shape, I can write it on Excel."
   ]
  },
  {
   "cell_type": "code",
   "execution_count": 114,
   "metadata": {},
   "outputs": [],
   "source": [
    "mar20reg.to_csv(r'C:\\Users\\Lenovo\\Desktop\\mar20reg.csv')"
   ]
  },
  {
   "cell_type": "code",
   "execution_count": 115,
   "metadata": {},
   "outputs": [
    {
     "name": "stdout",
     "output_type": "stream",
     "text": [
      "                         Results: MICE\n",
      "================================================================\n",
      "Method:                   MICE       Sample size:           210 \n",
      "Model:                    OLS        Scale                  0.72\n",
      "Dependent variable:       y          Num. imputations       10  \n",
      "----------------------------------------------------------------\n",
      "           Coef.  Std.Err.    t    P>|t|   [0.025  0.975]  FMI  \n",
      "----------------------------------------------------------------\n",
      "Intercept  3.9674   1.0600  3.7429 0.0002  1.8898  6.0449 0.0635\n",
      "x1         0.3239   0.1537  2.1068 0.0351  0.0226  0.6251 0.1000\n",
      "x2         0.3356   0.1554  2.1602 0.0308  0.0311  0.6401 0.0154\n",
      "x3         0.0424   0.0731  0.5800 0.5619 -0.1009  0.1856 0.0092\n",
      "x4        -0.0439   0.0091 -4.8135 0.0000 -0.0618 -0.0260 0.0547\n",
      "x5        -0.0060   0.0040 -1.5045 0.1324 -0.0139  0.0018 0.0161\n",
      "================================================================\n",
      "\n"
     ]
    }
   ],
   "source": [
    "np.random.seed(123)\n",
    "imp1 = mice.MICEData(mnar20)\n",
    "model1 = mice.MICE('y ~ x1 + x2 + x3 + x4 + x5', sm.OLS, imp1)\n",
    "result1 = model1.fit(0,10)\n",
    "print(result1.summary())"
   ]
  },
  {
   "cell_type": "code",
   "execution_count": 116,
   "metadata": {},
   "outputs": [
    {
     "data": {
      "text/html": [
       "<div>\n",
       "<style scoped>\n",
       "    .dataframe tbody tr th:only-of-type {\n",
       "        vertical-align: middle;\n",
       "    }\n",
       "\n",
       "    .dataframe tbody tr th {\n",
       "        vertical-align: top;\n",
       "    }\n",
       "\n",
       "    .dataframe thead th {\n",
       "        text-align: right;\n",
       "    }\n",
       "</style>\n",
       "<table border=\"1\" class=\"dataframe\">\n",
       "  <thead>\n",
       "    <tr style=\"text-align: right;\">\n",
       "      <th></th>\n",
       "      <th>x1</th>\n",
       "      <th>x2</th>\n",
       "      <th>x3</th>\n",
       "      <th>x4</th>\n",
       "      <th>x5</th>\n",
       "      <th>y</th>\n",
       "    </tr>\n",
       "  </thead>\n",
       "  <tbody>\n",
       "    <tr>\n",
       "      <th>0</th>\n",
       "      <td>3.0</td>\n",
       "      <td>2.0</td>\n",
       "      <td>2.0</td>\n",
       "      <td>71.873539</td>\n",
       "      <td>77.279942</td>\n",
       "      <td>0.0</td>\n",
       "    </tr>\n",
       "    <tr>\n",
       "      <th>1</th>\n",
       "      <td>2.0</td>\n",
       "      <td>2.0</td>\n",
       "      <td>3.0</td>\n",
       "      <td>76.329693</td>\n",
       "      <td>123.509762</td>\n",
       "      <td>3.0</td>\n",
       "    </tr>\n",
       "    <tr>\n",
       "      <th>2</th>\n",
       "      <td>2.0</td>\n",
       "      <td>2.0</td>\n",
       "      <td>2.0</td>\n",
       "      <td>84.726817</td>\n",
       "      <td>94.113034</td>\n",
       "      <td>0.0</td>\n",
       "    </tr>\n",
       "    <tr>\n",
       "      <th>3</th>\n",
       "      <td>1.0</td>\n",
       "      <td>1.0</td>\n",
       "      <td>4.0</td>\n",
       "      <td>90.894953</td>\n",
       "      <td>131.080126</td>\n",
       "      <td>0.0</td>\n",
       "    </tr>\n",
       "    <tr>\n",
       "      <th>4</th>\n",
       "      <td>2.0</td>\n",
       "      <td>2.0</td>\n",
       "      <td>2.0</td>\n",
       "      <td>91.377552</td>\n",
       "      <td>78.421426</td>\n",
       "      <td>1.0</td>\n",
       "    </tr>\n",
       "  </tbody>\n",
       "</table>\n",
       "</div>"
      ],
      "text/plain": [
       "    x1   x2   x3         x4          x5    y\n",
       "0  3.0  2.0  2.0  71.873539   77.279942  0.0\n",
       "1  2.0  2.0  3.0  76.329693  123.509762  3.0\n",
       "2  2.0  2.0  2.0  84.726817   94.113034  0.0\n",
       "3  1.0  1.0  4.0  90.894953  131.080126  0.0\n",
       "4  2.0  2.0  2.0  91.377552   78.421426  1.0"
      ]
     },
     "execution_count": 116,
     "metadata": {},
     "output_type": "execute_result"
    }
   ],
   "source": [
    "d=np.zeros(mnar20.shape)\n",
    "dumb=pd.DataFrame(d, columns=[\"x1\", \"x2\", \"x3\", \"x4\", \"x5\", \"y\"])\n",
    "for i in range(10):    \n",
    "    dumb=dumb+imp1.data  \n",
    "mnar20reg=dumb/10\n",
    "mnar20reg.head(5)"
   ]
  },
  {
   "cell_type": "markdown",
   "metadata": {},
   "source": [
    "I have imputed variables according to MICE. Now, we can check shape."
   ]
  },
  {
   "cell_type": "code",
   "execution_count": 117,
   "metadata": {},
   "outputs": [
    {
     "data": {
      "text/plain": [
       "(210, 6)"
      ]
     },
     "execution_count": 117,
     "metadata": {},
     "output_type": "execute_result"
    }
   ],
   "source": [
    "mnar20reg.shape"
   ]
  },
  {
   "cell_type": "markdown",
   "metadata": {},
   "source": [
    "As it has correct shape, I can write it on Excel."
   ]
  },
  {
   "cell_type": "code",
   "execution_count": 118,
   "metadata": {},
   "outputs": [],
   "source": [
    "mnar20reg.to_csv(r'C:\\Users\\Lenovo\\Desktop\\mnar20reg.csv')"
   ]
  },
  {
   "cell_type": "markdown",
   "metadata": {},
   "source": [
    "<h3>Question 5</h3>"
   ]
  },
  {
   "cell_type": "markdown",
   "metadata": {},
   "source": [
    "<h4>Part a</h4>"
   ]
  },
  {
   "cell_type": "markdown",
   "metadata": {},
   "source": [
    "In this question, we are asked to introduce noisy data to our selected variable in question 2, x1. One common noise that can occur in a discrete variable is value out of range. In our case, if x1 has a value other than 0, 1, 2, 3 and 4, we can consider it as a noisy, erroneous value."
   ]
  },
  {
   "cell_type": "markdown",
   "metadata": {},
   "source": [
    "So, the mechanism that I'm going to apply is, to random values, I will assign '5' to our x1 variable to generate noisy data."
   ]
  },
  {
   "cell_type": "markdown",
   "metadata": {},
   "source": [
    "First, I will create err20 dataframe by copying my data."
   ]
  },
  {
   "cell_type": "code",
   "execution_count": 119,
   "metadata": {},
   "outputs": [],
   "source": [
    "err20 = data.copy()"
   ]
  },
  {
   "cell_type": "markdown",
   "metadata": {},
   "source": [
    "Then, I will utilize function I have created in question 3 to create random indexes that I will use to create erroneous variables. "
   ]
  },
  {
   "cell_type": "code",
   "execution_count": 120,
   "metadata": {},
   "outputs": [],
   "source": [
    "x = createRandomSortedList(round(data.shape[0]*0.2))\n",
    "\n",
    "for i in x:    \n",
    "    err20['x1'][i] = 5"
   ]
  },
  {
   "cell_type": "markdown",
   "metadata": {},
   "source": [
    "After inserting erroneous (noisy) data, we can check whether our err20 dataframe is similar to our original data."
   ]
  },
  {
   "cell_type": "code",
   "execution_count": 121,
   "metadata": {},
   "outputs": [
    {
     "data": {
      "text/html": [
       "<div>\n",
       "<style scoped>\n",
       "    .dataframe tbody tr th:only-of-type {\n",
       "        vertical-align: middle;\n",
       "    }\n",
       "\n",
       "    .dataframe tbody tr th {\n",
       "        vertical-align: top;\n",
       "    }\n",
       "\n",
       "    .dataframe thead th {\n",
       "        text-align: right;\n",
       "    }\n",
       "</style>\n",
       "<table border=\"1\" class=\"dataframe\">\n",
       "  <thead>\n",
       "    <tr style=\"text-align: right;\">\n",
       "      <th></th>\n",
       "      <th>x1</th>\n",
       "      <th>x2</th>\n",
       "      <th>x3</th>\n",
       "      <th>x4</th>\n",
       "      <th>x5</th>\n",
       "      <th>y</th>\n",
       "    </tr>\n",
       "  </thead>\n",
       "  <tbody>\n",
       "    <tr>\n",
       "      <th>0</th>\n",
       "      <td>3</td>\n",
       "      <td>2</td>\n",
       "      <td>2</td>\n",
       "      <td>71.873539</td>\n",
       "      <td>77.279942</td>\n",
       "      <td>0</td>\n",
       "    </tr>\n",
       "    <tr>\n",
       "      <th>1</th>\n",
       "      <td>2</td>\n",
       "      <td>2</td>\n",
       "      <td>3</td>\n",
       "      <td>76.329693</td>\n",
       "      <td>123.509762</td>\n",
       "      <td>3</td>\n",
       "    </tr>\n",
       "    <tr>\n",
       "      <th>2</th>\n",
       "      <td>2</td>\n",
       "      <td>2</td>\n",
       "      <td>2</td>\n",
       "      <td>84.726817</td>\n",
       "      <td>94.113034</td>\n",
       "      <td>0</td>\n",
       "    </tr>\n",
       "    <tr>\n",
       "      <th>3</th>\n",
       "      <td>1</td>\n",
       "      <td>1</td>\n",
       "      <td>4</td>\n",
       "      <td>90.894953</td>\n",
       "      <td>131.080126</td>\n",
       "      <td>0</td>\n",
       "    </tr>\n",
       "    <tr>\n",
       "      <th>4</th>\n",
       "      <td>1</td>\n",
       "      <td>2</td>\n",
       "      <td>2</td>\n",
       "      <td>91.377552</td>\n",
       "      <td>78.421426</td>\n",
       "      <td>1</td>\n",
       "    </tr>\n",
       "  </tbody>\n",
       "</table>\n",
       "</div>"
      ],
      "text/plain": [
       "   x1  x2  x3         x4          x5  y\n",
       "0   3   2   2  71.873539   77.279942  0\n",
       "1   2   2   3  76.329693  123.509762  3\n",
       "2   2   2   2  84.726817   94.113034  0\n",
       "3   1   1   4  90.894953  131.080126  0\n",
       "4   1   2   2  91.377552   78.421426  1"
      ]
     },
     "execution_count": 121,
     "metadata": {},
     "output_type": "execute_result"
    }
   ],
   "source": [
    "err20.head(5)"
   ]
  },
  {
   "cell_type": "markdown",
   "metadata": {},
   "source": [
    "As it is similar, now we can check how many erroneous values are there in x1 variable of err20."
   ]
  },
  {
   "cell_type": "code",
   "execution_count": 122,
   "metadata": {},
   "outputs": [
    {
     "data": {
      "text/plain": [
       "x1    42\n",
       "x2    42\n",
       "x3    42\n",
       "x4    42\n",
       "x5    42\n",
       "y     42\n",
       "dtype: int64"
      ]
     },
     "execution_count": 122,
     "metadata": {},
     "output_type": "execute_result"
    }
   ],
   "source": [
    "err20.loc[(err20['x1'] == 5)].count()"
   ]
  },
  {
   "cell_type": "markdown",
   "metadata": {},
   "source": [
    "As we have 42 erroneous values (210 * 0.2 = 42) here, we can claim that we have 20% error rate here. So, we can create our excel file."
   ]
  },
  {
   "cell_type": "code",
   "execution_count": 123,
   "metadata": {},
   "outputs": [],
   "source": [
    "err20.to_csv(r'C:\\Users\\Lenovo\\Desktop\\err20.csv')"
   ]
  },
  {
   "cell_type": "markdown",
   "metadata": {},
   "source": [
    "<h4>Part b</h4>"
   ]
  },
  {
   "cell_type": "markdown",
   "metadata": {},
   "source": [
    "Similar approach will be used here, we only have 40% error rate."
   ]
  },
  {
   "cell_type": "markdown",
   "metadata": {},
   "source": [
    "First, I will create err40 dataframe by copying my data."
   ]
  },
  {
   "cell_type": "code",
   "execution_count": 124,
   "metadata": {},
   "outputs": [],
   "source": [
    "err40 = data.copy()"
   ]
  },
  {
   "cell_type": "markdown",
   "metadata": {},
   "source": [
    "Then, I will utilize function I have created in question 3 to create random indexes that I will use to create erroneous variables."
   ]
  },
  {
   "cell_type": "code",
   "execution_count": 125,
   "metadata": {},
   "outputs": [],
   "source": [
    "x = createRandomSortedList(round(data.shape[0]*0.4))\n",
    "\n",
    "for i in x:    \n",
    "    err40['x1'][i] = 5"
   ]
  },
  {
   "cell_type": "markdown",
   "metadata": {},
   "source": [
    "After inserting erroneous (noisy) data, we can check whether our err40 dataframe is similar to our original data."
   ]
  },
  {
   "cell_type": "code",
   "execution_count": 126,
   "metadata": {},
   "outputs": [
    {
     "data": {
      "text/html": [
       "<div>\n",
       "<style scoped>\n",
       "    .dataframe tbody tr th:only-of-type {\n",
       "        vertical-align: middle;\n",
       "    }\n",
       "\n",
       "    .dataframe tbody tr th {\n",
       "        vertical-align: top;\n",
       "    }\n",
       "\n",
       "    .dataframe thead th {\n",
       "        text-align: right;\n",
       "    }\n",
       "</style>\n",
       "<table border=\"1\" class=\"dataframe\">\n",
       "  <thead>\n",
       "    <tr style=\"text-align: right;\">\n",
       "      <th></th>\n",
       "      <th>x1</th>\n",
       "      <th>x2</th>\n",
       "      <th>x3</th>\n",
       "      <th>x4</th>\n",
       "      <th>x5</th>\n",
       "      <th>y</th>\n",
       "    </tr>\n",
       "  </thead>\n",
       "  <tbody>\n",
       "    <tr>\n",
       "      <th>0</th>\n",
       "      <td>3</td>\n",
       "      <td>2</td>\n",
       "      <td>2</td>\n",
       "      <td>71.873539</td>\n",
       "      <td>77.279942</td>\n",
       "      <td>0</td>\n",
       "    </tr>\n",
       "    <tr>\n",
       "      <th>1</th>\n",
       "      <td>5</td>\n",
       "      <td>2</td>\n",
       "      <td>3</td>\n",
       "      <td>76.329693</td>\n",
       "      <td>123.509762</td>\n",
       "      <td>3</td>\n",
       "    </tr>\n",
       "    <tr>\n",
       "      <th>2</th>\n",
       "      <td>5</td>\n",
       "      <td>2</td>\n",
       "      <td>2</td>\n",
       "      <td>84.726817</td>\n",
       "      <td>94.113034</td>\n",
       "      <td>0</td>\n",
       "    </tr>\n",
       "    <tr>\n",
       "      <th>3</th>\n",
       "      <td>1</td>\n",
       "      <td>1</td>\n",
       "      <td>4</td>\n",
       "      <td>90.894953</td>\n",
       "      <td>131.080126</td>\n",
       "      <td>0</td>\n",
       "    </tr>\n",
       "    <tr>\n",
       "      <th>4</th>\n",
       "      <td>1</td>\n",
       "      <td>2</td>\n",
       "      <td>2</td>\n",
       "      <td>91.377552</td>\n",
       "      <td>78.421426</td>\n",
       "      <td>1</td>\n",
       "    </tr>\n",
       "  </tbody>\n",
       "</table>\n",
       "</div>"
      ],
      "text/plain": [
       "   x1  x2  x3         x4          x5  y\n",
       "0   3   2   2  71.873539   77.279942  0\n",
       "1   5   2   3  76.329693  123.509762  3\n",
       "2   5   2   2  84.726817   94.113034  0\n",
       "3   1   1   4  90.894953  131.080126  0\n",
       "4   1   2   2  91.377552   78.421426  1"
      ]
     },
     "execution_count": 126,
     "metadata": {},
     "output_type": "execute_result"
    }
   ],
   "source": [
    "err40.head(5)"
   ]
  },
  {
   "cell_type": "markdown",
   "metadata": {},
   "source": [
    "As it is similar, now we can check how many erroneous values are there in x1 variable of err40."
   ]
  },
  {
   "cell_type": "code",
   "execution_count": 127,
   "metadata": {},
   "outputs": [
    {
     "data": {
      "text/plain": [
       "x1    84\n",
       "x2    84\n",
       "x3    84\n",
       "x4    84\n",
       "x5    84\n",
       "y     84\n",
       "dtype: int64"
      ]
     },
     "execution_count": 127,
     "metadata": {},
     "output_type": "execute_result"
    }
   ],
   "source": [
    "err40.loc[(err40['x1'] == 5)].count()"
   ]
  },
  {
   "cell_type": "markdown",
   "metadata": {},
   "source": [
    "As we have 84 erroneous values (210 * 0.4 = 84) here, we can claim that we have 40% error rate here. So, we can create our excel file."
   ]
  },
  {
   "cell_type": "code",
   "execution_count": 128,
   "metadata": {},
   "outputs": [],
   "source": [
    "err40.to_csv(r'C:\\Users\\Lenovo\\Desktop\\err40.csv')"
   ]
  },
  {
   "cell_type": "markdown",
   "metadata": {},
   "source": [
    "<h3>Question 6</h3>"
   ]
  },
  {
   "cell_type": "markdown",
   "metadata": {},
   "source": [
    "After this part, I will be using the databases I have created above for classification and clustering purposes. To be able to evaluate the algorithms that I will be using, I have to divide my datasets into training and test parts. To do so, first I divide my datasets into y (target) and x (explanotary) variables."
   ]
  },
  {
   "cell_type": "code",
   "execution_count": 129,
   "metadata": {
    "scrolled": true
   },
   "outputs": [],
   "source": [
    "data\n",
    "datax = pd.DataFrame(data.iloc[:, :-1].values, columns = ['x1','x2','x3','x4','x5'])\n",
    "datay = pd.DataFrame(data.iloc[:,-1].values, columns = ['y'])\n",
    "\n",
    "mcar20df\n",
    "mcar20dfx = pd.DataFrame(mcar20df.iloc[:, :-1].values, columns = ['x2','x3','x4','x5'])\n",
    "mcar20dfy = pd.DataFrame(mcar20df.iloc[:,-1].values, columns = ['y'])\n",
    "\n",
    "mcar40df\n",
    "mcar40dfx = pd.DataFrame(mcar40df.iloc[:, :-1].values, columns = ['x2','x3','x4','x5'])\n",
    "mcar40dfy = pd.DataFrame(mcar40df.iloc[:,-1].values, columns = ['y'])\n",
    "\n",
    "mar20df\n",
    "mar20dfx = pd.DataFrame(mar20df.iloc[:, :-1].values, columns = ['x2','x3','x4','x5'])\n",
    "mar20dfy = pd.DataFrame(mar20df.iloc[:,-1].values, columns = ['y'])\n",
    "\n",
    "mnar20df\n",
    "mnar20dfx = pd.DataFrame(mnar20df.iloc[:, :-1].values, columns = ['x2','x3','x4','x5'])\n",
    "mnar20dfy = pd.DataFrame(mnar20df.iloc[:,-1].values, columns = ['y'])\n",
    "\n",
    "mcar20rl\n",
    "mcar20rlx = pd.DataFrame(mcar20rl.iloc[:, :-1].values, columns = ['x1','x2','x3','x4','x5'])\n",
    "mcar20rly = pd.DataFrame(mcar20rl.iloc[:,-1].values, columns = ['y'])\n",
    "\n",
    "mcar40rl\n",
    "mcar40rlx = pd.DataFrame(mcar40rl.iloc[:, :-1].values, columns = ['x1','x2','x3','x4','x5'])\n",
    "mcar40rly = pd.DataFrame(mcar40rl.iloc[:,-1].values, columns = ['y'])\n",
    "\n",
    "mar20rl\n",
    "mar20rlx = pd.DataFrame(mar20rl.iloc[:, :-1].values, columns = ['x1','x2','x3','x4','x5'])\n",
    "mar20rly = pd.DataFrame(mar20rl.iloc[:,-1].values, columns = ['y'])\n",
    "\n",
    "mnar20rl\n",
    "mnar20rlx = pd.DataFrame(mnar20rl.iloc[:, :-1].values, columns = ['x1','x2','x3','x4','x5'])\n",
    "mnar20rly = pd.DataFrame(mnar20rl.iloc[:,-1].values, columns = ['y'])\n",
    "\n",
    "mcar20m\n",
    "mcar20mx = pd.DataFrame(mcar20m.iloc[:, :-1].values, columns = ['x1','x2','x3','x4','x5'])\n",
    "mcar20my = pd.DataFrame(mcar20m.iloc[:,-1].values, columns = ['y'])\n",
    "\n",
    "mcar40m\n",
    "mcar40mx = pd.DataFrame(mcar40m.iloc[:, :-1].values, columns = ['x1','x2','x3','x4','x5'])\n",
    "mcar40my = pd.DataFrame(mcar40m.iloc[:,-1].values, columns = ['y'])\n",
    "\n",
    "mar20m\n",
    "mar20mx = pd.DataFrame(mar20m.iloc[:, :-1].values, columns = ['x1','x2','x3','x4','x5'])\n",
    "mar20my = pd.DataFrame(mar20m.iloc[:,-1].values, columns = ['y'])\n",
    "\n",
    "mnar20m\n",
    "mnar20mx = pd.DataFrame(mnar20m.iloc[:, :-1].values, columns = ['x1','x2','x3','x4','x5'])\n",
    "mnar20my = pd.DataFrame(mnar20m.iloc[:,-1].values, columns = ['y'])\n",
    "\n",
    "mcar20reg\n",
    "mcar20regx = pd.DataFrame(mcar20reg.iloc[:, :-1].values, columns = ['x1','x2','x3','x4','x5'])\n",
    "mcar20regy = pd.DataFrame(mcar20reg.iloc[:,-1].values, columns = ['y'])\n",
    "\n",
    "mcar40reg\n",
    "mcar40regx = pd.DataFrame(mcar20reg.iloc[:, :-1].values, columns = ['x1','x2','x3','x4','x5'])\n",
    "mcar40regy = pd.DataFrame(mcar20reg.iloc[:,-1].values, columns = ['y'])\n",
    "\n",
    "mar20reg\n",
    "mar20regx = pd.DataFrame(mar20reg.iloc[:, :-1].values, columns = ['x1','x2','x3','x4','x5'])\n",
    "mar20regy = pd.DataFrame(mar20reg.iloc[:,-1].values, columns = ['y'])\n",
    "\n",
    "mnar20reg\n",
    "mnar20regx = pd.DataFrame(mnar20reg.iloc[:, :-1].values, columns = ['x1','x2','x3','x4','x5'])\n",
    "mnar20regy = pd.DataFrame(mnar20reg.iloc[:,-1].values, columns = ['y'])\n",
    "\n",
    "err20\n",
    "err20x = pd.DataFrame(err20.iloc[:, :-1].values, columns = ['x1','x2','x3','x4','x5'])\n",
    "err20y = pd.DataFrame(err20.iloc[:,-1].values, columns = ['y'])\n",
    "\n",
    "err40\n",
    "err40x = pd.DataFrame(err40.iloc[:, :-1].values, columns = ['x1','x2','x3','x4','x5'])\n",
    "err40y = pd.DataFrame(err40.iloc[:,-1].values, columns = ['y'])"
   ]
  },
  {
   "cell_type": "markdown",
   "metadata": {},
   "source": [
    "Now, we can divide datasets into training and testing. Note that 80% of values will be used for training. Random states are added for seed purposes."
   ]
  },
  {
   "cell_type": "code",
   "execution_count": 130,
   "metadata": {
    "scrolled": false
   },
   "outputs": [],
   "source": [
    "dataxtr, dataxts, dataytr, datayts = train_test_split(datax, datay, test_size=0.2, random_state=123)\n",
    "mcar20dfxtr, mcar20dfxts, mcar20dfytr, mcar20dfyts = train_test_split(mcar20dfx, mcar20dfy, test_size=0.2, random_state=123)\n",
    "mcar40dfxtr, mcar40dfxts, mcar40dfytr, mcar40dfyts = train_test_split(mcar40dfx, mcar40dfy, test_size=0.2, random_state=123)\n",
    "mar20dfxtr, mar20dfxts, mar20dfytr, mar20dfyts = train_test_split(mar20dfx, mar20dfy, test_size=0.2, random_state=123)\n",
    "mnar20dfxtr, mnar20dfxts, mnar20dfytr, mnar20dfyts = train_test_split(mnar20dfx, mnar20dfy, test_size=0.2, random_state=123)\n",
    "mcar20rlxtr, mcar20rlxts, mcar20rlytr, mcar20rlyts = train_test_split(mcar20rlx, mcar20rly, test_size=0.2, random_state=123)\n",
    "mcar40rlxtr, mcar40rlxts, mcar40rlytr, mcar40rlyts = train_test_split(mcar40rlx, mcar40rly, test_size=0.2, random_state=123)\n",
    "mar20rlxtr, mar20rlxts, mar20rlytr, mar20rlyts = train_test_split(mar20rlx, mar20rly, test_size=0.2, random_state=123)\n",
    "mnar20rlxtr, mnar20rlxts, mnar20rlytr, mnar20rlyts = train_test_split(mnar20rlx, mnar20rly, test_size=0.2, random_state=123)\n",
    "mcar20regxtr, mcar20regxts, mcar20regytr, mcar20regyts = train_test_split(mcar20regx, mcar20regy, test_size=0.2, random_state=123)\n",
    "mcar40regxtr, mcar40regxts, mcar40regytr, mcar40regyts = train_test_split(mcar40regx, mcar40regy, test_size=0.2, random_state=123)\n",
    "mar20regxtr, mar20regxts, mar20regytr, mar20regyts = train_test_split(mar20regx, mar20regy, test_size=0.2, random_state=123)\n",
    "mnar20regxtr, mnar20regxts, mnar20regytr, mnar20regyts = train_test_split(mnar20regx, mnar20regy, test_size=0.2, random_state=123)\n",
    "mcar20mxtr, mcar20mxts, mcar20mytr, mcar20myts = train_test_split(mcar20mx, mcar20my, test_size=0.2, random_state=123)\n",
    "mcar40mxtr, mcar40mxts, mcar40mytr, mcar40myts = train_test_split(mcar40mx, mcar40my, test_size=0.2, random_state=123)\n",
    "mar20mxtr, mar20mxts, mar20mytr, mar20myts = train_test_split(mar20mx, mar20my, test_size=0.2, random_state=123)\n",
    "mnar20mxtr, mnar20mxts, mnar20mytr, mnar20myts = train_test_split(mnar20mx, mnar20my, test_size=0.2, random_state=123)\n",
    "err20xtr, err20xts, err20ytr, err20yts = train_test_split(err20x, err20y, test_size=0.2, random_state=123)\n",
    "err40xtr, err40xts, err40ytr, err40yts = train_test_split(err40x, err40y, test_size=0.2, random_state=123)"
   ]
  },
  {
   "cell_type": "markdown",
   "metadata": {},
   "source": [
    "I have divided my dataset into training and testing data. Now, I check whether I did it propoerly."
   ]
  },
  {
   "cell_type": "code",
   "execution_count": 131,
   "metadata": {},
   "outputs": [
    {
     "data": {
      "text/plain": [
       "(168, 5)"
      ]
     },
     "execution_count": 131,
     "metadata": {},
     "output_type": "execute_result"
    }
   ],
   "source": [
    "mar20regxtr.shape"
   ]
  },
  {
   "cell_type": "code",
   "execution_count": 132,
   "metadata": {},
   "outputs": [
    {
     "data": {
      "text/plain": [
       "(42, 5)"
      ]
     },
     "execution_count": 132,
     "metadata": {},
     "output_type": "execute_result"
    }
   ],
   "source": [
    "mar20regxts.shape"
   ]
  },
  {
   "cell_type": "markdown",
   "metadata": {},
   "source": [
    "As they hold, I believe I have managed to divide my data."
   ]
  },
  {
   "cell_type": "markdown",
   "metadata": {},
   "source": [
    "Now, I will apply two classification models to them."
   ]
  },
  {
   "cell_type": "markdown",
   "metadata": {},
   "source": [
    "<h4>Support Vector Machine</h4>"
   ]
  },
  {
   "cell_type": "markdown",
   "metadata": {},
   "source": [
    "First classification method I will be utilizing is support vector machine with linear kernel. C is chosen as 2 to make decision surface smooth and gamma is set to automatic. For each model, method is used. Results will be commented below. Unfortunately, as we have 5 dimensional data here, it will not much sense to visualize the data, so I did not."
   ]
  },
  {
   "cell_type": "markdown",
   "metadata": {},
   "source": [
    "<h5>data</h5>"
   ]
  },
  {
   "cell_type": "code",
   "execution_count": 133,
   "metadata": {},
   "outputs": [
    {
     "name": "stdout",
     "output_type": "stream",
     "text": [
      "              precision    recall  f1-score   support\n",
      "\n",
      "           0       0.67      0.80      0.73        10\n",
      "           1       0.87      0.81      0.84        16\n",
      "           2       0.62      0.71      0.67         7\n",
      "           3       0.71      0.56      0.63         9\n",
      "\n",
      "    accuracy                           0.74        42\n",
      "   macro avg       0.72      0.72      0.71        42\n",
      "weighted avg       0.75      0.74      0.74        42\n",
      "\n"
     ]
    }
   ],
   "source": [
    "classifier = svm.SVC(kernel='linear',gamma='auto',C=2)\n",
    "classifier.fit(dataxtr, dataytr.values.ravel())\n",
    "datay_predictsvm = classifier.predict(dataxts)\n",
    "print(classification_report(datayts, datay_predictsvm))"
   ]
  },
  {
   "cell_type": "markdown",
   "metadata": {},
   "source": [
    "<h5>mcar20df</h5>"
   ]
  },
  {
   "cell_type": "code",
   "execution_count": 134,
   "metadata": {},
   "outputs": [
    {
     "name": "stdout",
     "output_type": "stream",
     "text": [
      "              precision    recall  f1-score   support\n",
      "\n",
      "           0       0.60      0.90      0.72        10\n",
      "           1       1.00      0.69      0.81        16\n",
      "           2       0.86      0.86      0.86         7\n",
      "           3       0.78      0.78      0.78         9\n",
      "\n",
      "    accuracy                           0.79        42\n",
      "   macro avg       0.81      0.81      0.79        42\n",
      "weighted avg       0.83      0.79      0.79        42\n",
      "\n"
     ]
    }
   ],
   "source": [
    "classifier = svm.SVC(kernel='linear',gamma='auto',C=2)\n",
    "classifier.fit(mcar20dfxtr, mcar20dfytr.values.ravel())\n",
    "mcar20dfy_predictsvm = classifier.predict(mcar20dfxts)\n",
    "print(classification_report(mcar20dfyts, mcar20dfy_predictsvm))"
   ]
  },
  {
   "cell_type": "markdown",
   "metadata": {},
   "source": [
    "<h5>mcar40df</h5>"
   ]
  },
  {
   "cell_type": "code",
   "execution_count": 135,
   "metadata": {},
   "outputs": [
    {
     "name": "stdout",
     "output_type": "stream",
     "text": [
      "              precision    recall  f1-score   support\n",
      "\n",
      "           0       0.60      0.90      0.72        10\n",
      "           1       1.00      0.69      0.81        16\n",
      "           2       0.86      0.86      0.86         7\n",
      "           3       0.78      0.78      0.78         9\n",
      "\n",
      "    accuracy                           0.79        42\n",
      "   macro avg       0.81      0.81      0.79        42\n",
      "weighted avg       0.83      0.79      0.79        42\n",
      "\n"
     ]
    }
   ],
   "source": [
    "classifier = svm.SVC(kernel='linear',gamma='auto',C=2)\n",
    "classifier.fit(mcar40dfxtr, mcar40dfytr.values.ravel())\n",
    "mcar40dfy_predictsvm = classifier.predict(mcar40dfxts)\n",
    "print(classification_report(mcar40dfyts, mcar40dfy_predictsvm))"
   ]
  },
  {
   "cell_type": "markdown",
   "metadata": {},
   "source": [
    "<h5>mar20df</h5>"
   ]
  },
  {
   "cell_type": "code",
   "execution_count": 136,
   "metadata": {},
   "outputs": [
    {
     "name": "stdout",
     "output_type": "stream",
     "text": [
      "              precision    recall  f1-score   support\n",
      "\n",
      "           0       0.60      0.90      0.72        10\n",
      "           1       1.00      0.69      0.81        16\n",
      "           2       0.86      0.86      0.86         7\n",
      "           3       0.78      0.78      0.78         9\n",
      "\n",
      "    accuracy                           0.79        42\n",
      "   macro avg       0.81      0.81      0.79        42\n",
      "weighted avg       0.83      0.79      0.79        42\n",
      "\n"
     ]
    }
   ],
   "source": [
    "classifier = svm.SVC(kernel='linear',gamma='auto',C=2)\n",
    "classifier.fit(mar20dfxtr, mar20dfytr.values.ravel())\n",
    "mar20dfy_predictsvm = classifier.predict(mar20dfxts)\n",
    "print(classification_report(mar20dfyts, mar20dfy_predictsvm))"
   ]
  },
  {
   "cell_type": "markdown",
   "metadata": {},
   "source": [
    "<h5>mnar20df</h5>"
   ]
  },
  {
   "cell_type": "code",
   "execution_count": 137,
   "metadata": {},
   "outputs": [
    {
     "name": "stdout",
     "output_type": "stream",
     "text": [
      "              precision    recall  f1-score   support\n",
      "\n",
      "           0       0.60      0.90      0.72        10\n",
      "           1       1.00      0.69      0.81        16\n",
      "           2       0.86      0.86      0.86         7\n",
      "           3       0.78      0.78      0.78         9\n",
      "\n",
      "    accuracy                           0.79        42\n",
      "   macro avg       0.81      0.81      0.79        42\n",
      "weighted avg       0.83      0.79      0.79        42\n",
      "\n"
     ]
    }
   ],
   "source": [
    "classifier = svm.SVC(kernel='linear',gamma='auto',C=2)\n",
    "classifier.fit(mnar20dfxtr, mnar20dfytr.values.ravel())\n",
    "mnar20dfy_predictsvm = classifier.predict(mnar20dfxts)\n",
    "print(classification_report(mnar20dfyts, mnar20dfy_predictsvm))"
   ]
  },
  {
   "cell_type": "markdown",
   "metadata": {},
   "source": [
    "<h5>mcar20rl</h5>"
   ]
  },
  {
   "cell_type": "code",
   "execution_count": 138,
   "metadata": {},
   "outputs": [
    {
     "name": "stdout",
     "output_type": "stream",
     "text": [
      "              precision    recall  f1-score   support\n",
      "\n",
      "           0       0.67      0.40      0.50        10\n",
      "           1       0.67      0.86      0.75         7\n",
      "           2       0.50      0.62      0.56         8\n",
      "           3       0.67      0.67      0.67         9\n",
      "\n",
      "    accuracy                           0.62        34\n",
      "   macro avg       0.62      0.64      0.62        34\n",
      "weighted avg       0.63      0.62      0.61        34\n",
      "\n"
     ]
    }
   ],
   "source": [
    "classifier = svm.SVC(kernel='linear',gamma='auto',C=2)\n",
    "classifier.fit(mcar20rlxtr, mcar20rlytr.values.ravel())\n",
    "mcar20rly_predictsvm = classifier.predict(mcar20rlxts)\n",
    "print(classification_report(mcar20rlyts, mcar20rly_predictsvm))"
   ]
  },
  {
   "cell_type": "markdown",
   "metadata": {},
   "source": [
    "<h5>mcar40rl</h5>"
   ]
  },
  {
   "cell_type": "code",
   "execution_count": 139,
   "metadata": {},
   "outputs": [
    {
     "name": "stdout",
     "output_type": "stream",
     "text": [
      "              precision    recall  f1-score   support\n",
      "\n",
      "           0       0.80      0.40      0.53        10\n",
      "           1       0.38      0.75      0.50         4\n",
      "           2       1.00      0.75      0.86         8\n",
      "           3       0.57      1.00      0.73         4\n",
      "\n",
      "    accuracy                           0.65        26\n",
      "   macro avg       0.69      0.72      0.65        26\n",
      "weighted avg       0.76      0.65      0.66        26\n",
      "\n"
     ]
    }
   ],
   "source": [
    "classifier = svm.SVC(kernel='linear',gamma='auto',C=2)\n",
    "classifier.fit(mcar40rlxtr, mcar40rlytr.values.ravel())\n",
    "mcar40rly_predictsvm = classifier.predict(mcar40rlxts)\n",
    "print(classification_report(mcar40rlyts, mcar40rly_predictsvm))"
   ]
  },
  {
   "cell_type": "markdown",
   "metadata": {},
   "source": [
    "<h5>mar20rl</h5>"
   ]
  },
  {
   "cell_type": "code",
   "execution_count": 140,
   "metadata": {},
   "outputs": [
    {
     "name": "stdout",
     "output_type": "stream",
     "text": [
      "              precision    recall  f1-score   support\n",
      "\n",
      "           0       0.71      0.50      0.59        10\n",
      "           1       0.69      0.90      0.78        10\n",
      "           2       0.60      0.75      0.67         4\n",
      "           3       0.78      0.70      0.74        10\n",
      "\n",
      "    accuracy                           0.71        34\n",
      "   macro avg       0.70      0.71      0.69        34\n",
      "weighted avg       0.71      0.71      0.70        34\n",
      "\n"
     ]
    }
   ],
   "source": [
    "classifier = svm.SVC(kernel='linear',gamma='auto',C=2)\n",
    "classifier.fit(mar20rlxtr, mar20rlytr.values.ravel())\n",
    "mar20rly_predictsvm = classifier.predict(mar20rlxts)\n",
    "print(classification_report(mar20rlyts, mar20rly_predictsvm))"
   ]
  },
  {
   "cell_type": "markdown",
   "metadata": {},
   "source": [
    "<h5>mnar20rl</h5>"
   ]
  },
  {
   "cell_type": "code",
   "execution_count": 141,
   "metadata": {
    "scrolled": true
   },
   "outputs": [
    {
     "name": "stdout",
     "output_type": "stream",
     "text": [
      "              precision    recall  f1-score   support\n",
      "\n",
      "           0       0.67      0.67      0.67         6\n",
      "           1       0.82      0.82      0.82        11\n",
      "           2       0.64      0.88      0.74         8\n",
      "           3       0.67      0.44      0.53         9\n",
      "\n",
      "    accuracy                           0.71        34\n",
      "   macro avg       0.70      0.70      0.69        34\n",
      "weighted avg       0.71      0.71      0.70        34\n",
      "\n"
     ]
    }
   ],
   "source": [
    "classifier = svm.SVC(kernel='linear',gamma='auto',C=2)\n",
    "classifier.fit(mnar20rlxtr, mnar20rlytr.values.ravel())\n",
    "mnar20rly_predictsvm = classifier.predict(mnar20rlxts)\n",
    "print(classification_report(mnar20rlyts, mnar20rly_predictsvm))"
   ]
  },
  {
   "cell_type": "markdown",
   "metadata": {},
   "source": [
    "<h5>mcar20m</h5>"
   ]
  },
  {
   "cell_type": "code",
   "execution_count": 142,
   "metadata": {},
   "outputs": [
    {
     "name": "stdout",
     "output_type": "stream",
     "text": [
      "              precision    recall  f1-score   support\n",
      "\n",
      "           0       0.64      0.70      0.67        10\n",
      "           1       0.87      0.81      0.84        16\n",
      "           2       0.67      0.86      0.75         7\n",
      "           3       0.71      0.56      0.63         9\n",
      "\n",
      "    accuracy                           0.74        42\n",
      "   macro avg       0.72      0.73      0.72        42\n",
      "weighted avg       0.75      0.74      0.74        42\n",
      "\n"
     ]
    }
   ],
   "source": [
    "classifier = svm.SVC(kernel='linear',gamma='auto',C=2)\n",
    "classifier.fit(mcar20mxtr, mcar20mytr.values.ravel())\n",
    "mcar20my_predictsvm = classifier.predict(mcar20mxts)\n",
    "print(classification_report(mcar20myts, mcar20my_predictsvm))"
   ]
  },
  {
   "cell_type": "markdown",
   "metadata": {},
   "source": [
    "<h5>mcar40m</h5>"
   ]
  },
  {
   "cell_type": "code",
   "execution_count": 143,
   "metadata": {},
   "outputs": [
    {
     "name": "stdout",
     "output_type": "stream",
     "text": [
      "              precision    recall  f1-score   support\n",
      "\n",
      "           0       0.62      0.80      0.70        10\n",
      "           1       0.92      0.75      0.83        16\n",
      "           2       0.60      0.86      0.71         7\n",
      "           3       0.67      0.44      0.53         9\n",
      "\n",
      "    accuracy                           0.71        42\n",
      "   macro avg       0.70      0.71      0.69        42\n",
      "weighted avg       0.74      0.71      0.71        42\n",
      "\n"
     ]
    }
   ],
   "source": [
    "classifier = svm.SVC(kernel='linear',gamma='auto',C=2)\n",
    "classifier.fit(mcar40mxtr, mcar40mytr.values.ravel())\n",
    "mcar40my_predictsvm = classifier.predict(mcar40mxts)\n",
    "print(classification_report(mcar40myts, mcar40my_predictsvm))"
   ]
  },
  {
   "cell_type": "markdown",
   "metadata": {},
   "source": [
    "<h5>mar20m</h5>"
   ]
  },
  {
   "cell_type": "code",
   "execution_count": 144,
   "metadata": {},
   "outputs": [
    {
     "name": "stdout",
     "output_type": "stream",
     "text": [
      "              precision    recall  f1-score   support\n",
      "\n",
      "           0       0.64      0.70      0.67        10\n",
      "           1       0.87      0.81      0.84        16\n",
      "           2       0.83      0.71      0.77         7\n",
      "           3       0.70      0.78      0.74         9\n",
      "\n",
      "    accuracy                           0.76        42\n",
      "   macro avg       0.76      0.75      0.75        42\n",
      "weighted avg       0.77      0.76      0.76        42\n",
      "\n"
     ]
    }
   ],
   "source": [
    "classifier = svm.SVC(kernel='linear',gamma='auto',C=2)\n",
    "classifier.fit(mar20mxtr, mar20mytr.values.ravel())\n",
    "mar20my_predictsvm = classifier.predict(mar20mxts)\n",
    "print(classification_report(mar20myts, mar20my_predictsvm))"
   ]
  },
  {
   "cell_type": "markdown",
   "metadata": {},
   "source": [
    "<h5>mnar20m</h5>"
   ]
  },
  {
   "cell_type": "code",
   "execution_count": 145,
   "metadata": {},
   "outputs": [
    {
     "name": "stdout",
     "output_type": "stream",
     "text": [
      "              precision    recall  f1-score   support\n",
      "\n",
      "           0       0.69      0.90      0.78        10\n",
      "           1       0.93      0.81      0.87        16\n",
      "           2       0.62      0.71      0.67         7\n",
      "           3       0.71      0.56      0.63         9\n",
      "\n",
      "    accuracy                           0.76        42\n",
      "   macro avg       0.74      0.75      0.74        42\n",
      "weighted avg       0.78      0.76      0.76        42\n",
      "\n"
     ]
    }
   ],
   "source": [
    "classifier = svm.SVC(kernel='linear',gamma='auto',C=2)\n",
    "classifier.fit(mnar20mxtr, mnar20mytr.values.ravel())\n",
    "mnar20my_predictsvm = classifier.predict(mnar20mxts)\n",
    "print(classification_report(mnar20myts, mnar20my_predictsvm))"
   ]
  },
  {
   "cell_type": "markdown",
   "metadata": {},
   "source": [
    "<h5>mcar20reg</h5>"
   ]
  },
  {
   "cell_type": "code",
   "execution_count": 146,
   "metadata": {},
   "outputs": [
    {
     "name": "stdout",
     "output_type": "stream",
     "text": [
      "              precision    recall  f1-score   support\n",
      "\n",
      "         0.0       0.67      0.80      0.73        10\n",
      "         1.0       0.87      0.81      0.84        16\n",
      "         2.0       0.56      0.71      0.63         7\n",
      "         3.0       0.67      0.44      0.53         9\n",
      "\n",
      "    accuracy                           0.71        42\n",
      "   macro avg       0.69      0.69      0.68        42\n",
      "weighted avg       0.72      0.71      0.71        42\n",
      "\n"
     ]
    }
   ],
   "source": [
    "classifier = svm.SVC(kernel='linear',gamma='auto',C=2)\n",
    "classifier.fit(mcar20regxtr, mcar20regytr.values.ravel())\n",
    "mcar20regy_predictsvm = classifier.predict(mcar20regxts)\n",
    "print(classification_report(mcar20regyts, mcar20regy_predictsvm))"
   ]
  },
  {
   "cell_type": "markdown",
   "metadata": {},
   "source": [
    "<h5>mcar40reg</h5>"
   ]
  },
  {
   "cell_type": "code",
   "execution_count": 147,
   "metadata": {},
   "outputs": [
    {
     "name": "stdout",
     "output_type": "stream",
     "text": [
      "              precision    recall  f1-score   support\n",
      "\n",
      "         0.0       0.67      0.80      0.73        10\n",
      "         1.0       0.87      0.81      0.84        16\n",
      "         2.0       0.56      0.71      0.63         7\n",
      "         3.0       0.67      0.44      0.53         9\n",
      "\n",
      "    accuracy                           0.71        42\n",
      "   macro avg       0.69      0.69      0.68        42\n",
      "weighted avg       0.72      0.71      0.71        42\n",
      "\n"
     ]
    }
   ],
   "source": [
    "classifier = svm.SVC(kernel='linear',gamma='auto',C=2)\n",
    "classifier.fit(mcar40regxtr, mcar40regytr.values.ravel())\n",
    "mcar40regy_predictsvm = classifier.predict(mcar40regxts)\n",
    "print(classification_report(mcar40regyts, mcar40regy_predictsvm))"
   ]
  },
  {
   "cell_type": "markdown",
   "metadata": {},
   "source": [
    "<h5>mar20reg</h5>"
   ]
  },
  {
   "cell_type": "code",
   "execution_count": 148,
   "metadata": {},
   "outputs": [
    {
     "name": "stdout",
     "output_type": "stream",
     "text": [
      "              precision    recall  f1-score   support\n",
      "\n",
      "         0.0       0.64      0.70      0.67        10\n",
      "         1.0       0.87      0.81      0.84        16\n",
      "         2.0       1.00      0.71      0.83         7\n",
      "         3.0       0.73      0.89      0.80         9\n",
      "\n",
      "    accuracy                           0.79        42\n",
      "   macro avg       0.81      0.78      0.78        42\n",
      "weighted avg       0.80      0.79      0.79        42\n",
      "\n"
     ]
    }
   ],
   "source": [
    "classifier = svm.SVC(kernel='linear',gamma='auto',C=2)\n",
    "classifier.fit(mar20regxtr, mar20regytr.values.ravel())\n",
    "mar20regy_predictsvm = classifier.predict(mar20regxts)\n",
    "print(classification_report(mar20regyts, mar20regy_predictsvm))"
   ]
  },
  {
   "cell_type": "markdown",
   "metadata": {},
   "source": [
    "<h5>mnar20reg</h5>"
   ]
  },
  {
   "cell_type": "code",
   "execution_count": 149,
   "metadata": {},
   "outputs": [
    {
     "name": "stdout",
     "output_type": "stream",
     "text": [
      "              precision    recall  f1-score   support\n",
      "\n",
      "         0.0       0.64      0.90      0.75        10\n",
      "         1.0       0.92      0.75      0.83        16\n",
      "         2.0       0.62      0.71      0.67         7\n",
      "         3.0       0.71      0.56      0.63         9\n",
      "\n",
      "    accuracy                           0.74        42\n",
      "   macro avg       0.73      0.73      0.72        42\n",
      "weighted avg       0.76      0.74      0.74        42\n",
      "\n"
     ]
    }
   ],
   "source": [
    "classifier = svm.SVC(kernel='linear',gamma='auto',C=2)\n",
    "classifier.fit(mnar20regxtr, mnar20regytr.values.ravel())\n",
    "mnar20regy_predictsvm = classifier.predict(mnar20regxts)\n",
    "print(classification_report(mnar20regyts, mnar20regy_predictsvm))"
   ]
  },
  {
   "cell_type": "markdown",
   "metadata": {},
   "source": [
    "<h5>err20</h5>"
   ]
  },
  {
   "cell_type": "code",
   "execution_count": 150,
   "metadata": {},
   "outputs": [
    {
     "name": "stdout",
     "output_type": "stream",
     "text": [
      "              precision    recall  f1-score   support\n",
      "\n",
      "           0       0.64      0.90      0.75        10\n",
      "           1       0.92      0.75      0.83        16\n",
      "           2       0.86      0.86      0.86         7\n",
      "           3       0.88      0.78      0.82         9\n",
      "\n",
      "    accuracy                           0.81        42\n",
      "   macro avg       0.82      0.82      0.81        42\n",
      "weighted avg       0.84      0.81      0.81        42\n",
      "\n"
     ]
    }
   ],
   "source": [
    "classifier = svm.SVC(kernel='linear',gamma='auto',C=2)\n",
    "classifier.fit(err20xtr, err20ytr.values.ravel())\n",
    "err20y_predictsvm = classifier.predict(err20xts)\n",
    "print(classification_report(err20yts, err20y_predictsvm))"
   ]
  },
  {
   "cell_type": "markdown",
   "metadata": {},
   "source": [
    "<h5>err40</h5>"
   ]
  },
  {
   "cell_type": "code",
   "execution_count": 151,
   "metadata": {
    "scrolled": true
   },
   "outputs": [
    {
     "name": "stdout",
     "output_type": "stream",
     "text": [
      "              precision    recall  f1-score   support\n",
      "\n",
      "           0       0.62      0.80      0.70        10\n",
      "           1       0.92      0.75      0.83        16\n",
      "           2       0.86      0.86      0.86         7\n",
      "           3       0.78      0.78      0.78         9\n",
      "\n",
      "    accuracy                           0.79        42\n",
      "   macro avg       0.79      0.80      0.79        42\n",
      "weighted avg       0.81      0.79      0.79        42\n",
      "\n"
     ]
    }
   ],
   "source": [
    "classifier = svm.SVC(kernel='linear',gamma='auto',C=2)\n",
    "classifier.fit(err40xtr, err40ytr.values.ravel())\n",
    "err40y_predictsvm = classifier.predict(err40xts)\n",
    "print(classification_report(err40yts, err40y_predictsvm))"
   ]
  },
  {
   "cell_type": "markdown",
   "metadata": {},
   "source": [
    "Precision and recall values for each of the possible y values are given above. Those values will make more sense when we do our other classification methods as those numbers mean more in comparisons."
   ]
  },
  {
   "cell_type": "markdown",
   "metadata": {},
   "source": [
    "<h4>Logistic Regression</h4>"
   ]
  },
  {
   "cell_type": "markdown",
   "metadata": {},
   "source": [
    "For my second classification method, I am applying logistic regression. To be similar with SVM, I am using C as 2. Solver will be liblinear as it supports both L1 and L2 regularization (in logistic regression, regularization is applied by default by Python). Random state is used for shuffling purposes. As in SVM, visualization methods are not very useful here, so I will not be using them."
   ]
  },
  {
   "cell_type": "markdown",
   "metadata": {},
   "source": [
    "<h5>data</h5>"
   ]
  },
  {
   "cell_type": "code",
   "execution_count": 152,
   "metadata": {},
   "outputs": [
    {
     "name": "stdout",
     "output_type": "stream",
     "text": [
      "              precision    recall  f1-score   support\n",
      "\n",
      "           0       0.64      0.90      0.75        10\n",
      "           1       0.92      0.75      0.83        16\n",
      "           2       0.67      0.86      0.75         7\n",
      "           3       1.00      0.67      0.80         9\n",
      "\n",
      "    accuracy                           0.79        42\n",
      "   macro avg       0.81      0.79      0.78        42\n",
      "weighted avg       0.83      0.79      0.79        42\n",
      "\n"
     ]
    }
   ],
   "source": [
    "classifier = LogisticRegression(solver='liblinear', random_state=2, C=2)\n",
    "classifier.fit(dataxtr, dataytr.values.ravel())\n",
    "datay_predictlr = classifier.predict(dataxts)\n",
    "print(classification_report(datayts, datay_predictlr))"
   ]
  },
  {
   "cell_type": "markdown",
   "metadata": {},
   "source": [
    "<h5>mcar20df</h5>"
   ]
  },
  {
   "cell_type": "code",
   "execution_count": 153,
   "metadata": {},
   "outputs": [
    {
     "name": "stdout",
     "output_type": "stream",
     "text": [
      "              precision    recall  f1-score   support\n",
      "\n",
      "           0       0.64      0.70      0.67        10\n",
      "           1       0.81      0.81      0.81        16\n",
      "           2       0.56      0.71      0.63         7\n",
      "           3       0.83      0.56      0.67         9\n",
      "\n",
      "    accuracy                           0.71        42\n",
      "   macro avg       0.71      0.70      0.69        42\n",
      "weighted avg       0.73      0.71      0.72        42\n",
      "\n"
     ]
    }
   ],
   "source": [
    "classifier = LogisticRegression(solver='liblinear', random_state=2, C=2)\n",
    "classifier.fit(mcar20dfxtr, mcar20dfytr.values.ravel())\n",
    "mcar20dfy_predictlr = classifier.predict(mcar20dfxts)\n",
    "print(classification_report(mcar20dfyts, mcar20dfy_predictlr))"
   ]
  },
  {
   "cell_type": "markdown",
   "metadata": {},
   "source": [
    "<h5>mcar40df</h5>"
   ]
  },
  {
   "cell_type": "code",
   "execution_count": 154,
   "metadata": {},
   "outputs": [
    {
     "name": "stdout",
     "output_type": "stream",
     "text": [
      "              precision    recall  f1-score   support\n",
      "\n",
      "           0       0.64      0.70      0.67        10\n",
      "           1       0.81      0.81      0.81        16\n",
      "           2       0.56      0.71      0.63         7\n",
      "           3       0.83      0.56      0.67         9\n",
      "\n",
      "    accuracy                           0.71        42\n",
      "   macro avg       0.71      0.70      0.69        42\n",
      "weighted avg       0.73      0.71      0.72        42\n",
      "\n"
     ]
    }
   ],
   "source": [
    "classifier = LogisticRegression(solver='liblinear', random_state=2, C=2)\n",
    "classifier.fit(mcar40dfxtr, mcar40dfytr.values.ravel())\n",
    "mcar40dfy_predictlr = classifier.predict(mcar40dfxts)\n",
    "print(classification_report(mcar40dfyts, mcar40dfy_predictlr))"
   ]
  },
  {
   "cell_type": "markdown",
   "metadata": {},
   "source": [
    "<h5>mar20df</h5>"
   ]
  },
  {
   "cell_type": "code",
   "execution_count": 155,
   "metadata": {},
   "outputs": [
    {
     "name": "stdout",
     "output_type": "stream",
     "text": [
      "              precision    recall  f1-score   support\n",
      "\n",
      "           0       0.64      0.70      0.67        10\n",
      "           1       0.81      0.81      0.81        16\n",
      "           2       0.56      0.71      0.63         7\n",
      "           3       0.83      0.56      0.67         9\n",
      "\n",
      "    accuracy                           0.71        42\n",
      "   macro avg       0.71      0.70      0.69        42\n",
      "weighted avg       0.73      0.71      0.72        42\n",
      "\n"
     ]
    }
   ],
   "source": [
    "classifier = LogisticRegression(solver='liblinear', random_state=2, C=2)\n",
    "classifier.fit(mar20dfxtr, mar20dfytr.values.ravel())\n",
    "mar20dfy_predictlr = classifier.predict(mar20dfxts)\n",
    "print(classification_report(mar20dfyts, mar20dfy_predictlr))"
   ]
  },
  {
   "cell_type": "markdown",
   "metadata": {},
   "source": [
    "<h5>mnar20df</h5>"
   ]
  },
  {
   "cell_type": "code",
   "execution_count": 156,
   "metadata": {},
   "outputs": [
    {
     "name": "stdout",
     "output_type": "stream",
     "text": [
      "              precision    recall  f1-score   support\n",
      "\n",
      "           0       0.64      0.70      0.67        10\n",
      "           1       0.81      0.81      0.81        16\n",
      "           2       0.56      0.71      0.63         7\n",
      "           3       0.83      0.56      0.67         9\n",
      "\n",
      "    accuracy                           0.71        42\n",
      "   macro avg       0.71      0.70      0.69        42\n",
      "weighted avg       0.73      0.71      0.72        42\n",
      "\n"
     ]
    }
   ],
   "source": [
    "classifier = LogisticRegression(solver='liblinear', random_state=2, C=2)\n",
    "classifier.fit(mnar20dfxtr, mnar20dfytr.values.ravel())\n",
    "mnar20dfy_predictlr = classifier.predict(mnar20dfxts)\n",
    "print(classification_report(mnar20dfyts, mnar20dfy_predictlr))"
   ]
  },
  {
   "cell_type": "markdown",
   "metadata": {},
   "source": [
    "<h5>mcar20rl</h5>"
   ]
  },
  {
   "cell_type": "code",
   "execution_count": 157,
   "metadata": {},
   "outputs": [
    {
     "name": "stdout",
     "output_type": "stream",
     "text": [
      "              precision    recall  f1-score   support\n",
      "\n",
      "           0       0.58      0.70      0.64        10\n",
      "           1       0.62      0.71      0.67         7\n",
      "           2       0.50      0.50      0.50         8\n",
      "           3       0.83      0.56      0.67         9\n",
      "\n",
      "    accuracy                           0.62        34\n",
      "   macro avg       0.64      0.62      0.62        34\n",
      "weighted avg       0.64      0.62      0.62        34\n",
      "\n"
     ]
    }
   ],
   "source": [
    "classifier = LogisticRegression(solver='liblinear', random_state=2, C=2)\n",
    "classifier.fit(mcar20rlxtr, mcar20rlytr.values.ravel())\n",
    "mcar20rly_predictlr = classifier.predict(mcar20rlxts)\n",
    "print(classification_report(mcar20rlyts, mcar20rly_predictlr))"
   ]
  },
  {
   "cell_type": "markdown",
   "metadata": {},
   "source": [
    "<h5>mcar40rl</h5>"
   ]
  },
  {
   "cell_type": "code",
   "execution_count": 158,
   "metadata": {},
   "outputs": [
    {
     "name": "stdout",
     "output_type": "stream",
     "text": [
      "              precision    recall  f1-score   support\n",
      "\n",
      "           0       0.67      0.40      0.50        10\n",
      "           1       0.36      1.00      0.53         4\n",
      "           2       1.00      0.25      0.40         8\n",
      "           3       0.29      0.50      0.36         4\n",
      "\n",
      "    accuracy                           0.46        26\n",
      "   macro avg       0.58      0.54      0.45        26\n",
      "weighted avg       0.66      0.46      0.45        26\n",
      "\n"
     ]
    }
   ],
   "source": [
    "classifier = LogisticRegression(solver='liblinear', random_state=2, C=2)\n",
    "classifier.fit(mcar40rlxtr, mcar40rlytr.values.ravel())\n",
    "mcar40rly_predictlr = classifier.predict(mcar40rlxts)\n",
    "print(classification_report(mcar40rlyts, mcar40rly_predictlr))"
   ]
  },
  {
   "cell_type": "markdown",
   "metadata": {},
   "source": [
    "<h5>mar20rl</h5>"
   ]
  },
  {
   "cell_type": "code",
   "execution_count": 159,
   "metadata": {},
   "outputs": [
    {
     "name": "stdout",
     "output_type": "stream",
     "text": [
      "              precision    recall  f1-score   support\n",
      "\n",
      "           0       0.57      0.40      0.47        10\n",
      "           1       0.50      0.90      0.64        10\n",
      "           2       0.25      0.25      0.25         4\n",
      "           3       1.00      0.50      0.67        10\n",
      "\n",
      "    accuracy                           0.56        34\n",
      "   macro avg       0.58      0.51      0.51        34\n",
      "weighted avg       0.64      0.56      0.55        34\n",
      "\n"
     ]
    }
   ],
   "source": [
    "classifier = LogisticRegression(solver='liblinear', random_state=2, C=2)\n",
    "classifier.fit(mar20rlxtr, mar20rlytr.values.ravel())\n",
    "mar20rly_predictlr = classifier.predict(mar20rlxts)\n",
    "print(classification_report(mar20rlyts, mar20rly_predictlr))"
   ]
  },
  {
   "cell_type": "markdown",
   "metadata": {},
   "source": [
    "<h5>mnar20rl</h5>"
   ]
  },
  {
   "cell_type": "code",
   "execution_count": 160,
   "metadata": {
    "scrolled": true
   },
   "outputs": [
    {
     "name": "stdout",
     "output_type": "stream",
     "text": [
      "              precision    recall  f1-score   support\n",
      "\n",
      "           0       0.60      0.50      0.55         6\n",
      "           1       0.77      0.91      0.83        11\n",
      "           2       1.00      0.62      0.77         8\n",
      "           3       0.73      0.89      0.80         9\n",
      "\n",
      "    accuracy                           0.76        34\n",
      "   macro avg       0.77      0.73      0.74        34\n",
      "weighted avg       0.78      0.76      0.76        34\n",
      "\n"
     ]
    }
   ],
   "source": [
    "classifier = LogisticRegression(solver='liblinear', random_state=2, C=2)\n",
    "classifier.fit(mnar20rlxtr, mnar20rlytr.values.ravel())\n",
    "mnar20rly_predictlr = classifier.predict(mnar20rlxts)\n",
    "print(classification_report(mnar20rlyts, mnar20rly_predictlr))"
   ]
  },
  {
   "cell_type": "markdown",
   "metadata": {},
   "source": [
    "<h5>mcar20m</h5>"
   ]
  },
  {
   "cell_type": "code",
   "execution_count": 161,
   "metadata": {},
   "outputs": [
    {
     "name": "stdout",
     "output_type": "stream",
     "text": [
      "              precision    recall  f1-score   support\n",
      "\n",
      "           0       0.62      0.80      0.70        10\n",
      "           1       0.92      0.75      0.83        16\n",
      "           2       0.60      0.86      0.71         7\n",
      "           3       1.00      0.67      0.80         9\n",
      "\n",
      "    accuracy                           0.76        42\n",
      "   macro avg       0.78      0.77      0.76        42\n",
      "weighted avg       0.81      0.76      0.77        42\n",
      "\n"
     ]
    }
   ],
   "source": [
    "classifier = LogisticRegression(solver='liblinear', random_state=2, C=2)\n",
    "classifier.fit(mcar20mxtr, mcar20mytr.values.ravel())\n",
    "mcar20my_predictlr = classifier.predict(mcar20mxts)\n",
    "print(classification_report(mcar20myts, mcar20my_predictlr))"
   ]
  },
  {
   "cell_type": "markdown",
   "metadata": {},
   "source": [
    "<h5>mcar40m</h5>"
   ]
  },
  {
   "cell_type": "code",
   "execution_count": 162,
   "metadata": {},
   "outputs": [
    {
     "name": "stdout",
     "output_type": "stream",
     "text": [
      "              precision    recall  f1-score   support\n",
      "\n",
      "           0       0.58      0.70      0.64        10\n",
      "           1       0.80      0.75      0.77        16\n",
      "           2       0.67      0.86      0.75         7\n",
      "           3       1.00      0.67      0.80         9\n",
      "\n",
      "    accuracy                           0.74        42\n",
      "   macro avg       0.76      0.74      0.74        42\n",
      "weighted avg       0.77      0.74      0.74        42\n",
      "\n"
     ]
    }
   ],
   "source": [
    "classifier = LogisticRegression(solver='liblinear', random_state=2, C=2)\n",
    "classifier.fit(mcar40mxtr, mcar40mytr.values.ravel())\n",
    "mcar40my_predictlr = classifier.predict(mcar40mxts)\n",
    "print(classification_report(mcar40myts, mcar40my_predictlr))"
   ]
  },
  {
   "cell_type": "markdown",
   "metadata": {},
   "source": [
    "<h5>mar20m</h5>"
   ]
  },
  {
   "cell_type": "code",
   "execution_count": 163,
   "metadata": {},
   "outputs": [
    {
     "name": "stdout",
     "output_type": "stream",
     "text": [
      "              precision    recall  f1-score   support\n",
      "\n",
      "           0       0.58      0.70      0.64        10\n",
      "           1       0.86      0.75      0.80        16\n",
      "           2       0.60      0.86      0.71         7\n",
      "           3       1.00      0.67      0.80         9\n",
      "\n",
      "    accuracy                           0.74        42\n",
      "   macro avg       0.76      0.74      0.74        42\n",
      "weighted avg       0.78      0.74      0.75        42\n",
      "\n"
     ]
    }
   ],
   "source": [
    "classifier = LogisticRegression(solver='liblinear', random_state=2, C=2)\n",
    "classifier.fit(mar20mxtr, mar20mytr.values.ravel())\n",
    "mar20my_predictlr = classifier.predict(mar20mxts)\n",
    "print(classification_report(mar20myts, mar20my_predictlr))"
   ]
  },
  {
   "cell_type": "markdown",
   "metadata": {},
   "source": [
    "<h5>mnar20m</h5>"
   ]
  },
  {
   "cell_type": "code",
   "execution_count": 164,
   "metadata": {},
   "outputs": [
    {
     "name": "stdout",
     "output_type": "stream",
     "text": [
      "              precision    recall  f1-score   support\n",
      "\n",
      "           0       0.67      0.80      0.73        10\n",
      "           1       0.87      0.81      0.84        16\n",
      "           2       0.75      0.86      0.80         7\n",
      "           3       1.00      0.78      0.88         9\n",
      "\n",
      "    accuracy                           0.81        42\n",
      "   macro avg       0.82      0.81      0.81        42\n",
      "weighted avg       0.83      0.81      0.81        42\n",
      "\n"
     ]
    }
   ],
   "source": [
    "classifier = LogisticRegression(solver='liblinear', random_state=2, C=2)\n",
    "classifier.fit(mnar20mxtr, mnar20mytr.values.ravel())\n",
    "mnar20my_predictlr = classifier.predict(mnar20mxts)\n",
    "print(classification_report(mnar20myts, mnar20my_predictlr))"
   ]
  },
  {
   "cell_type": "markdown",
   "metadata": {},
   "source": [
    "<h5>mcar20reg</h5>"
   ]
  },
  {
   "cell_type": "code",
   "execution_count": 165,
   "metadata": {},
   "outputs": [
    {
     "name": "stdout",
     "output_type": "stream",
     "text": [
      "              precision    recall  f1-score   support\n",
      "\n",
      "         0.0       0.64      0.90      0.75        10\n",
      "         1.0       0.92      0.75      0.83        16\n",
      "         2.0       0.67      0.86      0.75         7\n",
      "         3.0       1.00      0.67      0.80         9\n",
      "\n",
      "    accuracy                           0.79        42\n",
      "   macro avg       0.81      0.79      0.78        42\n",
      "weighted avg       0.83      0.79      0.79        42\n",
      "\n"
     ]
    }
   ],
   "source": [
    "classifier = LogisticRegression(solver='liblinear', random_state=2, C=2)\n",
    "classifier.fit(mcar20regxtr, mcar20regytr.values.ravel())\n",
    "mcar20regy_predictlr = classifier.predict(mcar20regxts)\n",
    "print(classification_report(mcar20regyts, mcar20regy_predictlr))"
   ]
  },
  {
   "cell_type": "markdown",
   "metadata": {},
   "source": [
    "<h5>mcar40reg</h5>"
   ]
  },
  {
   "cell_type": "code",
   "execution_count": 166,
   "metadata": {},
   "outputs": [
    {
     "name": "stdout",
     "output_type": "stream",
     "text": [
      "              precision    recall  f1-score   support\n",
      "\n",
      "         0.0       0.64      0.90      0.75        10\n",
      "         1.0       0.92      0.75      0.83        16\n",
      "         2.0       0.67      0.86      0.75         7\n",
      "         3.0       1.00      0.67      0.80         9\n",
      "\n",
      "    accuracy                           0.79        42\n",
      "   macro avg       0.81      0.79      0.78        42\n",
      "weighted avg       0.83      0.79      0.79        42\n",
      "\n"
     ]
    }
   ],
   "source": [
    "classifier = LogisticRegression(solver='liblinear', random_state=2, C=2)\n",
    "classifier.fit(mcar40regxtr, mcar40regytr.values.ravel())\n",
    "mcar40regy_predictlr = classifier.predict(mcar40regxts)\n",
    "print(classification_report(mcar40regyts, mcar40regy_predictlr))"
   ]
  },
  {
   "cell_type": "markdown",
   "metadata": {},
   "source": [
    "<h5>mar20reg</h5>"
   ]
  },
  {
   "cell_type": "code",
   "execution_count": 167,
   "metadata": {},
   "outputs": [
    {
     "name": "stdout",
     "output_type": "stream",
     "text": [
      "              precision    recall  f1-score   support\n",
      "\n",
      "         0.0       0.64      0.90      0.75        10\n",
      "         1.0       0.92      0.75      0.83        16\n",
      "         2.0       0.67      0.86      0.75         7\n",
      "         3.0       1.00      0.67      0.80         9\n",
      "\n",
      "    accuracy                           0.79        42\n",
      "   macro avg       0.81      0.79      0.78        42\n",
      "weighted avg       0.83      0.79      0.79        42\n",
      "\n"
     ]
    }
   ],
   "source": [
    "classifier = LogisticRegression(solver='liblinear', random_state=2, C=2)\n",
    "classifier.fit(mar20regxtr, mar20regytr.values.ravel())\n",
    "mar20regy_predictlr = classifier.predict(mar20regxts)\n",
    "print(classification_report(mar20regyts, mar20regy_predictlr))"
   ]
  },
  {
   "cell_type": "markdown",
   "metadata": {},
   "source": [
    "<h5>mnar20reg</h5>"
   ]
  },
  {
   "cell_type": "code",
   "execution_count": 168,
   "metadata": {},
   "outputs": [
    {
     "name": "stdout",
     "output_type": "stream",
     "text": [
      "              precision    recall  f1-score   support\n",
      "\n",
      "         0.0       0.62      0.80      0.70        10\n",
      "         1.0       0.86      0.75      0.80        16\n",
      "         2.0       0.75      0.86      0.80         7\n",
      "         3.0       1.00      0.78      0.88         9\n",
      "\n",
      "    accuracy                           0.79        42\n",
      "   macro avg       0.81      0.80      0.79        42\n",
      "weighted avg       0.81      0.79      0.79        42\n",
      "\n"
     ]
    }
   ],
   "source": [
    "classifier = LogisticRegression(solver='liblinear', random_state=2, C=2)\n",
    "classifier.fit(mnar20regxtr, mnar20regytr.values.ravel())\n",
    "mnar20regy_predictlr = classifier.predict(mnar20regxts)\n",
    "print(classification_report(mnar20regyts, mnar20regy_predictlr))"
   ]
  },
  {
   "cell_type": "markdown",
   "metadata": {},
   "source": [
    "<h5>err20</h5>"
   ]
  },
  {
   "cell_type": "code",
   "execution_count": 169,
   "metadata": {},
   "outputs": [
    {
     "name": "stdout",
     "output_type": "stream",
     "text": [
      "              precision    recall  f1-score   support\n",
      "\n",
      "           0       0.58      0.70      0.64        10\n",
      "           1       0.81      0.81      0.81        16\n",
      "           2       0.56      0.71      0.63         7\n",
      "           3       1.00      0.56      0.71         9\n",
      "\n",
      "    accuracy                           0.71        42\n",
      "   macro avg       0.74      0.70      0.70        42\n",
      "weighted avg       0.76      0.71      0.72        42\n",
      "\n"
     ]
    }
   ],
   "source": [
    "classifier = LogisticRegression(solver='liblinear', random_state=2, C=2)\n",
    "classifier.fit(err20xtr, err20ytr.values.ravel())\n",
    "err20y_predictlr = classifier.predict(err20xts)\n",
    "print(classification_report(err20yts, err20y_predictlr))"
   ]
  },
  {
   "cell_type": "markdown",
   "metadata": {},
   "source": [
    "<h5>err40</h5>"
   ]
  },
  {
   "cell_type": "code",
   "execution_count": 170,
   "metadata": {
    "scrolled": true
   },
   "outputs": [
    {
     "name": "stdout",
     "output_type": "stream",
     "text": [
      "              precision    recall  f1-score   support\n",
      "\n",
      "           0       0.54      0.70      0.61        10\n",
      "           1       0.86      0.75      0.80        16\n",
      "           2       0.50      0.71      0.59         7\n",
      "           3       1.00      0.56      0.71         9\n",
      "\n",
      "    accuracy                           0.69        42\n",
      "   macro avg       0.72      0.68      0.68        42\n",
      "weighted avg       0.75      0.69      0.70        42\n",
      "\n"
     ]
    }
   ],
   "source": [
    "classifier = LogisticRegression(solver='liblinear', random_state=2, C=2)\n",
    "classifier.fit(err40xtr, err40ytr.values.ravel())\n",
    "err40y_predictlr = classifier.predict(err40xts)\n",
    "print(classification_report(err40yts, err40y_predictlr))"
   ]
  },
  {
   "cell_type": "markdown",
   "metadata": {},
   "source": [
    "Here, I have applied logistic regression. To compare it with results in SVM, I am creating table below."
   ]
  },
  {
   "cell_type": "code",
   "execution_count": 171,
   "metadata": {},
   "outputs": [
    {
     "data": {
      "text/html": [
       "<table border=\"1\" class=\"dataframe\">\n",
       "  <thead>\n",
       "    <tr style=\"text-align: right;\">\n",
       "      <th>Variable</th>\n",
       "      <th>SVM Precision</th>\n",
       "      <th>LogisticRegression Precision</th>\n",
       "      <th>SVM Recall</th>\n",
       "      <th>LogisticRegression Recall</th>\n",
       "    </tr>\n",
       "  </thead>\n",
       "  <tbody>\n",
       "    <tr>\n",
       "      <td>data</td>\n",
       "      <td>0.75</td>\n",
       "      <td>0.83</td>\n",
       "      <td>0.74</td>\n",
       "      <td>0.79</td>\n",
       "    </tr>\n",
       "    <tr>\n",
       "      <td>mcar20df</td>\n",
       "      <td>0.83</td>\n",
       "      <td>0.73</td>\n",
       "      <td>0.79</td>\n",
       "      <td>0.71</td>\n",
       "    </tr>\n",
       "    <tr>\n",
       "      <td>mcar40df</td>\n",
       "      <td>0.83</td>\n",
       "      <td>0.73</td>\n",
       "      <td>0.79</td>\n",
       "      <td>0.71</td>\n",
       "    </tr>\n",
       "    <tr>\n",
       "      <td>mar20df</td>\n",
       "      <td>0.83</td>\n",
       "      <td>0.73</td>\n",
       "      <td>0.79</td>\n",
       "      <td>0.71</td>\n",
       "    </tr>\n",
       "    <tr>\n",
       "      <td>mnar20df</td>\n",
       "      <td>0.83</td>\n",
       "      <td>0.73</td>\n",
       "      <td>0.79</td>\n",
       "      <td>0.71</td>\n",
       "    </tr>\n",
       "    <tr>\n",
       "      <td>mcar20rl</td>\n",
       "      <td>0.63</td>\n",
       "      <td>0.64</td>\n",
       "      <td>0.62</td>\n",
       "      <td>0.62</td>\n",
       "    </tr>\n",
       "    <tr>\n",
       "      <td>mcar40rl</td>\n",
       "      <td>0.76</td>\n",
       "      <td>0.66</td>\n",
       "      <td>0.65</td>\n",
       "      <td>0.46</td>\n",
       "    </tr>\n",
       "    <tr>\n",
       "      <td>mar20rl</td>\n",
       "      <td>0.71</td>\n",
       "      <td>0.64</td>\n",
       "      <td>0.71</td>\n",
       "      <td>0.56</td>\n",
       "    </tr>\n",
       "    <tr>\n",
       "      <td>mnar20rl</td>\n",
       "      <td>0.71</td>\n",
       "      <td>0.78</td>\n",
       "      <td>0.71</td>\n",
       "      <td>0.76</td>\n",
       "    </tr>\n",
       "    <tr>\n",
       "      <td>mcar20m</td>\n",
       "      <td>0.75</td>\n",
       "      <td>0.81</td>\n",
       "      <td>0.74</td>\n",
       "      <td>0.76</td>\n",
       "    </tr>\n",
       "    <tr>\n",
       "      <td>mcar40m</td>\n",
       "      <td>0.74</td>\n",
       "      <td>0.77</td>\n",
       "      <td>0.71</td>\n",
       "      <td>0.74</td>\n",
       "    </tr>\n",
       "    <tr>\n",
       "      <td>mar20m</td>\n",
       "      <td>0.77</td>\n",
       "      <td>0.78</td>\n",
       "      <td>0.76</td>\n",
       "      <td>0.74</td>\n",
       "    </tr>\n",
       "    <tr>\n",
       "      <td>mnar20m</td>\n",
       "      <td>0.78</td>\n",
       "      <td>0.83</td>\n",
       "      <td>0.76</td>\n",
       "      <td>0.81</td>\n",
       "    </tr>\n",
       "    <tr>\n",
       "      <td>mcar20reg</td>\n",
       "      <td>0.72</td>\n",
       "      <td>0.83</td>\n",
       "      <td>0.71</td>\n",
       "      <td>0.79</td>\n",
       "    </tr>\n",
       "    <tr>\n",
       "      <td>mcar40reg</td>\n",
       "      <td>0.72</td>\n",
       "      <td>0.83</td>\n",
       "      <td>0.71</td>\n",
       "      <td>0.79</td>\n",
       "    </tr>\n",
       "    <tr>\n",
       "      <td>mar20reg</td>\n",
       "      <td>0.80</td>\n",
       "      <td>0.83</td>\n",
       "      <td>0.79</td>\n",
       "      <td>0.79</td>\n",
       "    </tr>\n",
       "    <tr>\n",
       "      <td>mnar20reg</td>\n",
       "      <td>0.76</td>\n",
       "      <td>0.81</td>\n",
       "      <td>0.74</td>\n",
       "      <td>0.79</td>\n",
       "    </tr>\n",
       "    <tr>\n",
       "      <td>err20</td>\n",
       "      <td>0.84</td>\n",
       "      <td>0.76</td>\n",
       "      <td>0.81</td>\n",
       "      <td>0.71</td>\n",
       "    </tr>\n",
       "    <tr>\n",
       "      <td>err40</td>\n",
       "      <td>0.81</td>\n",
       "      <td>0.75</td>\n",
       "      <td>0.79</td>\n",
       "      <td>0.69</td>\n",
       "    </tr>\n",
       "  </tbody>\n",
       "</table>"
      ],
      "text/plain": [
       "<IPython.core.display.HTML object>"
      ]
     },
     "execution_count": 171,
     "metadata": {},
     "output_type": "execute_result"
    }
   ],
   "source": [
    "variables = np.array(['data','mcar20df','mcar40df','mar20df','mnar20df','mcar20rl','mcar40rl','mar20rl','mnar20rl','mcar20m','mcar40m','mar20m','mnar20m','mcar20reg','mcar40reg','mar20reg','mnar20reg','err20','err40'])\n",
    "svm_pre = np.array([0.75,0.83,0.83,0.83,0.83,0.63,0.76,0.71,0.71,0.75,0.74,0.77,0.78,0.72,0.72,0.8,0.76,0.84,0.81])\n",
    "lr_pre = np.array([0.83,0.73,0.73,0.73,0.73,0.64,0.66,0.64,0.78,0.81,0.77,0.78,0.83,0.83,0.83,0.83,0.81,0.76,0.75])\n",
    "svm_rec = np.array([0.74,0.79,0.79,0.79,0.79,0.62,0.65,0.71,0.71,0.74,0.71,0.76,0.76,0.71,0.71,0.79,0.74,0.81,0.79])\n",
    "lr_rec = np.array([0.79,0.71,0.71,0.71,0.71,0.62,0.46,0.56,0.76,0.76,0.74,0.74,0.81,0.79,0.79,0.79,0.79,0.71,0.69])\n",
    "comparison_table = pd.DataFrame({'Variable':variables, 'SVM Precision':svm_pre, 'LogisticRegression Precision':lr_pre, 'SVM Recall':svm_rec, 'LogisticRegression Recall':lr_rec})\n",
    "HTML(comparison_table.to_html(index=False))"
   ]
  },
  {
   "cell_type": "markdown",
   "metadata": {},
   "source": [
    "As we can see, for different type of missingness or noise types in our database, different type of classification fits better. For comparison purposes, I have used weighted averages for comparison purposes although they give quite similar results with macro avg as our target variable is somewhat evenly distributed."
   ]
  },
  {
   "cell_type": "code",
   "execution_count": 172,
   "metadata": {},
   "outputs": [
    {
     "data": {
      "text/plain": [
       "SVM Precision                   0.766842\n",
       "LogisticRegression Precision    0.761579\n",
       "SVM Recall                      0.742632\n",
       "LogisticRegression Recall       0.717895\n",
       "dtype: float64"
      ]
     },
     "execution_count": 172,
     "metadata": {},
     "output_type": "execute_result"
    }
   ],
   "source": [
    "comparison_table.mean()"
   ]
  },
  {
   "cell_type": "markdown",
   "metadata": {},
   "source": [
    "They give quite comparable results in precision (% of instances that classifier labeled as positive and actually positive). However, we can see SVM does slightly better job in recall (% of positive instances that are labeled as positive.)\n",
    "\n",
    "Specifically, logistic regression does better in regression imputation and for the rest, SVM performs better."
   ]
  },
  {
   "cell_type": "markdown",
   "metadata": {},
   "source": [
    "<h3>Question 7</h3>"
   ]
  },
  {
   "cell_type": "markdown",
   "metadata": {},
   "source": [
    "In this section, I will be using two different clustering algorithms to our original dataset that does not contain any missing or erroneous (at least we did not insert any noise) values."
   ]
  },
  {
   "cell_type": "markdown",
   "metadata": {},
   "source": [
    "First, I will standardize my dataset as it fits better for clustering purposes."
   ]
  },
  {
   "cell_type": "code",
   "execution_count": 173,
   "metadata": {
    "scrolled": true
   },
   "outputs": [
    {
     "data": {
      "text/html": [
       "<div>\n",
       "<style scoped>\n",
       "    .dataframe tbody tr th:only-of-type {\n",
       "        vertical-align: middle;\n",
       "    }\n",
       "\n",
       "    .dataframe tbody tr th {\n",
       "        vertical-align: top;\n",
       "    }\n",
       "\n",
       "    .dataframe thead th {\n",
       "        text-align: right;\n",
       "    }\n",
       "</style>\n",
       "<table border=\"1\" class=\"dataframe\">\n",
       "  <thead>\n",
       "    <tr style=\"text-align: right;\">\n",
       "      <th></th>\n",
       "      <th>x1</th>\n",
       "      <th>x2</th>\n",
       "      <th>x3</th>\n",
       "      <th>x4</th>\n",
       "      <th>x5</th>\n",
       "      <th>y</th>\n",
       "    </tr>\n",
       "  </thead>\n",
       "  <tbody>\n",
       "    <tr>\n",
       "      <th>0</th>\n",
       "      <td>1.247134</td>\n",
       "      <td>0.053529</td>\n",
       "      <td>-1.088309</td>\n",
       "      <td>-0.731263</td>\n",
       "      <td>-0.938316</td>\n",
       "      <td>-1.206339</td>\n",
       "    </tr>\n",
       "    <tr>\n",
       "      <th>1</th>\n",
       "      <td>-0.024216</td>\n",
       "      <td>0.053529</td>\n",
       "      <td>-0.005158</td>\n",
       "      <td>-0.325547</td>\n",
       "      <td>1.126785</td>\n",
       "      <td>1.469695</td>\n",
       "    </tr>\n",
       "    <tr>\n",
       "      <th>2</th>\n",
       "      <td>-0.024216</td>\n",
       "      <td>0.053529</td>\n",
       "      <td>-1.088309</td>\n",
       "      <td>0.438980</td>\n",
       "      <td>-0.186377</td>\n",
       "      <td>-1.206339</td>\n",
       "    </tr>\n",
       "    <tr>\n",
       "      <th>3</th>\n",
       "      <td>-1.295567</td>\n",
       "      <td>-1.819978</td>\n",
       "      <td>1.077993</td>\n",
       "      <td>1.000565</td>\n",
       "      <td>1.464955</td>\n",
       "      <td>-1.206339</td>\n",
       "    </tr>\n",
       "    <tr>\n",
       "      <th>4</th>\n",
       "      <td>-1.295567</td>\n",
       "      <td>0.053529</td>\n",
       "      <td>-1.088309</td>\n",
       "      <td>1.044504</td>\n",
       "      <td>-0.887326</td>\n",
       "      <td>-0.314328</td>\n",
       "    </tr>\n",
       "  </tbody>\n",
       "</table>\n",
       "</div>"
      ],
      "text/plain": [
       "         x1        x2        x3        x4        x5         y\n",
       "0  1.247134  0.053529 -1.088309 -0.731263 -0.938316 -1.206339\n",
       "1 -0.024216  0.053529 -0.005158 -0.325547  1.126785  1.469695\n",
       "2 -0.024216  0.053529 -1.088309  0.438980 -0.186377 -1.206339\n",
       "3 -1.295567 -1.819978  1.077993  1.000565  1.464955 -1.206339\n",
       "4 -1.295567  0.053529 -1.088309  1.044504 -0.887326 -0.314328"
      ]
     },
     "execution_count": 173,
     "metadata": {},
     "output_type": "execute_result"
    }
   ],
   "source": [
    "standardscaler= StandardScaler()\n",
    "scaled_data=standardscaler.fit_transform(data)\n",
    "scaled_data=pd.DataFrame(scaled_data, columns=data.columns)\n",
    "scaled_data.head()"
   ]
  },
  {
   "cell_type": "markdown",
   "metadata": {},
   "source": [
    "As it will be impossible to visualize 5 dimensional data for clustering, I will be using PCA."
   ]
  },
  {
   "cell_type": "code",
   "execution_count": 174,
   "metadata": {},
   "outputs": [
    {
     "name": "stdout",
     "output_type": "stream",
     "text": [
      "pca.explained variance ratio:\n",
      " [0.44682369 0.25096536 0.1699332  0.0746876  0.041528   0.01606215]\n"
     ]
    }
   ],
   "source": [
    "pca = PCA()\n",
    "pca_data = pca.fit_transform(scaled_data)\n",
    "pca_data = pd.DataFrame(pca_data, columns=[\"pc1\",\"pc2\",\"pc3\",\"pc4\",\"pc5\",\"pc6\"])\n",
    "print(\"pca.explained variance ratio:\\n\", pca.explained_variance_ratio_)"
   ]
  },
  {
   "cell_type": "markdown",
   "metadata": {},
   "source": [
    "As they explain much of the variance, we can use PCA=2 here in visualization. Now, we can conduct cluster analysis for our data."
   ]
  },
  {
   "cell_type": "markdown",
   "metadata": {},
   "source": [
    "<h4>K-means Clustering</h4>"
   ]
  },
  {
   "cell_type": "markdown",
   "metadata": {},
   "source": [
    "Before applying an algorithm, we can have a look at what different k values will look like with PCA above."
   ]
  },
  {
   "cell_type": "code",
   "execution_count": 175,
   "metadata": {
    "scrolled": false
   },
   "outputs": [
    {
     "data": {
      "image/png": "[encoded data removed]",
      "text/plain": [
       "<Figure size 1152x1152 with 9 Axes>"
      ]
     },
     "metadata": {
      "needs_background": "light"
     },
     "output_type": "display_data"
    }
   ],
   "source": [
    "rows=3\n",
    "columns=3\n",
    "f, axes = plt.subplots(rows,columns, figsize=(16, 16))\n",
    "count=2\n",
    "for i in range(rows):\n",
    "    for j in range(columns):\n",
    "        kmeans = KMeans(n_clusters=count, random_state=23)\n",
    "        df=pca_data[[\"pc1\",\"pc2\"]].copy()\n",
    "        df[\"clusters\"]=kmeans.fit_predict(scaled_data)\n",
    "        axes[i,j].scatter(df[\"pc1\"], df[\"pc2\"],c=df.clusters)      \n",
    "        axes[i,j].set_title( \"k= \" + str(count) )\n",
    "        axes[i,j].set_xlabel(\"pc1:\"+\"{:.2f}\".format(pca.explained_variance_ratio_[0]*100)+\" %\")\n",
    "        axes[i,j].set_ylabel(\"pc2:\"+\"{:.2f}\".format(pca.explained_variance_ratio_[1]*100)+\" %\")\n",
    "        count=count+1"
   ]
  },
  {
   "cell_type": "markdown",
   "metadata": {},
   "source": [
    "There is a grouped part below. I believe we have to capture that part. From my point of view, k=4 results in best clustering and it prevents overfitting. Now, we can have a look at average silhouette approach to determine best k value."
   ]
  },
  {
   "cell_type": "code",
   "execution_count": 176,
   "metadata": {},
   "outputs": [
    {
     "name": "stdout",
     "output_type": "stream",
     "text": [
      "n_clusters = 2 The average silhouette_score is : 0.2938\n",
      "n_clusters = 3 The average silhouette_score is : 0.2874\n",
      "n_clusters = 4 The average silhouette_score is : 0.2955\n",
      "n_clusters = 5 The average silhouette_score is : 0.3077\n",
      "n_clusters = 6 The average silhouette_score is : 0.3454\n",
      "n_clusters = 7 The average silhouette_score is : 0.3402\n",
      "n_clusters = 8 The average silhouette_score is : 0.3642\n",
      "n_clusters = 9 The average silhouette_score is : 0.3744\n",
      "n_clusters = 10 The average silhouette_score is : 0.3914\n",
      "n_clusters = 11 The average silhouette_score is : 0.4041\n",
      "n_clusters = 12 The average silhouette_score is : 0.4143\n",
      "n_clusters = 13 The average silhouette_score is : 0.4285\n",
      "n_clusters = 14 The average silhouette_score is : 0.4283\n",
      "n_clusters = 15 The average silhouette_score is : 0.4437\n",
      "n_clusters = 16 The average silhouette_score is : 0.4320\n",
      "n_clusters = 17 The average silhouette_score is : 0.4462\n",
      "n_clusters = 18 The average silhouette_score is : 0.4484\n",
      "n_clusters = 19 The average silhouette_score is : 0.4570\n",
      "n_clusters = 20 The average silhouette_score is : 0.4569\n",
      "n_clusters = 21 The average silhouette_score is : 0.4498\n",
      "n_clusters = 22 The average silhouette_score is : 0.4686\n",
      "n_clusters = 23 The average silhouette_score is : 0.4715\n",
      "n_clusters = 24 The average silhouette_score is : 0.4730\n",
      "n_clusters = 25 The average silhouette_score is : 0.4838\n",
      "n_clusters = 26 The average silhouette_score is : 0.4620\n",
      "n_clusters = 27 The average silhouette_score is : 0.4860\n",
      "n_clusters = 28 The average silhouette_score is : 0.4911\n",
      "n_clusters = 29 The average silhouette_score is : 0.4923\n"
     ]
    },
    {
     "data": {
      "image/png": "[encoded data removed]",
      "text/plain": [
       "<Figure size 432x288 with 1 Axes>"
      ]
     },
     "metadata": {
      "needs_background": "light"
     },
     "output_type": "display_data"
    }
   ],
   "source": [
    "sil_avg = [0]\n",
    "K = range(2,30)\n",
    "for k in K:\n",
    "    kmeans = KMeans(n_clusters=k, random_state=23)\n",
    "    cluster_labels=kmeans.fit_predict(scaled_data)\n",
    "    silhouette_avg = silhouette_score(scaled_data, cluster_labels)\n",
    "    sil_avg.append(silhouette_avg)\n",
    "    print(\"n_clusters =\", k, \"The average silhouette_score is : %.4f\" % silhouette_avg)\n",
    "\n",
    "\n",
    "plt.plot(range(1,len(sil_avg)+1), sil_avg, \"b.-\")\n",
    "plt.xlabel(\"Number of clusters k\")\n",
    "plt.ylabel(\"Average silhouette width \")\n",
    "plt.title(\"Optimal number of clusters\")\n",
    "plt.axvline( color='r', x=sil_avg.index(max(sil_avg))+1 )\n",
    "plt.show()  "
   ]
  },
  {
   "cell_type": "markdown",
   "metadata": {},
   "source": [
    "Even with max k=30, this algorithm suggests us to use 30 clusters. When we draw the clusters with k=30:"
   ]
  },
  {
   "cell_type": "code",
   "execution_count": 177,
   "metadata": {},
   "outputs": [
    {
     "data": {
      "image/png": "[encoded data removed]",
      "text/plain": [
       "<Figure size 432x288 with 1 Axes>"
      ]
     },
     "metadata": {
      "needs_background": "light"
     },
     "output_type": "display_data"
    }
   ],
   "source": [
    "kmeans = KMeans(n_clusters=30, random_state=123)\n",
    "df=pca_data[[\"pc1\",\"pc2\"]].copy()\n",
    "df[\"clusters\"]=kmeans.fit_predict(scaled_data)\n",
    "plt.scatter(df[\"pc1\"], df[\"pc2\"],c=df.clusters)\n",
    "plt.title(\"The visualization of the clustered data\")\n",
    "plt.xlabel(\"pc1:\"+\"{:.2f}\".format(pca.explained_variance_ratio_[0]*100)+\" %\")\n",
    "plt.ylabel(\"pc2:\"+\"{:.2f}\".format(pca.explained_variance_ratio_[1]*100)+\" %\")\n",
    "plt.show()"
   ]
  },
  {
   "cell_type": "markdown",
   "metadata": {},
   "source": [
    "I believe this is heavily overfitting. Altough our data does not seem to be heavily clustered, I still believe for analysis purposes, 4 will be the optimal cluster number here as it at least captures the separate part below the graph."
   ]
  },
  {
   "cell_type": "markdown",
   "metadata": {},
   "source": [
    "<h4>Agglomerative Clustering</h4>"
   ]
  },
  {
   "cell_type": "markdown",
   "metadata": {},
   "source": [
    "Here, I apply agglomerative clustering algortihm, a type of hierarchical clustering. First, I will try to determine max numbers of clusters by silhouette analysis."
   ]
  },
  {
   "cell_type": "code",
   "execution_count": 178,
   "metadata": {},
   "outputs": [
    {
     "name": "stdout",
     "output_type": "stream",
     "text": [
      "n_clusters = 2 The average silhouette_score is : 0.2888\n",
      "n_clusters = 3 The average silhouette_score is : 0.2958\n",
      "n_clusters = 4 The average silhouette_score is : 0.2854\n",
      "n_clusters = 5 The average silhouette_score is : 0.3211\n",
      "n_clusters = 6 The average silhouette_score is : 0.3435\n",
      "n_clusters = 7 The average silhouette_score is : 0.3513\n",
      "n_clusters = 8 The average silhouette_score is : 0.3562\n",
      "n_clusters = 9 The average silhouette_score is : 0.3678\n",
      "n_clusters = 10 The average silhouette_score is : 0.3907\n",
      "n_clusters = 11 The average silhouette_score is : 0.3963\n",
      "n_clusters = 12 The average silhouette_score is : 0.4051\n",
      "n_clusters = 13 The average silhouette_score is : 0.4186\n",
      "n_clusters = 14 The average silhouette_score is : 0.4272\n",
      "n_clusters = 15 The average silhouette_score is : 0.4451\n",
      "n_clusters = 16 The average silhouette_score is : 0.4559\n",
      "n_clusters = 17 The average silhouette_score is : 0.4637\n",
      "n_clusters = 18 The average silhouette_score is : 0.4720\n",
      "n_clusters = 19 The average silhouette_score is : 0.4764\n",
      "n_clusters = 20 The average silhouette_score is : 0.4730\n",
      "n_clusters = 21 The average silhouette_score is : 0.4672\n",
      "n_clusters = 22 The average silhouette_score is : 0.4641\n",
      "n_clusters = 23 The average silhouette_score is : 0.4705\n",
      "n_clusters = 24 The average silhouette_score is : 0.4749\n",
      "n_clusters = 25 The average silhouette_score is : 0.4801\n",
      "n_clusters = 26 The average silhouette_score is : 0.4859\n",
      "n_clusters = 27 The average silhouette_score is : 0.4984\n",
      "n_clusters = 28 The average silhouette_score is : 0.4952\n",
      "n_clusters = 29 The average silhouette_score is : 0.5066\n"
     ]
    },
    {
     "data": {
      "image/png": "[encoded data removed]",
      "text/plain": [
       "<Figure size 432x288 with 1 Axes>"
      ]
     },
     "metadata": {
      "needs_background": "light"
     },
     "output_type": "display_data"
    }
   ],
   "source": [
    "sil_avg = [0]\n",
    "K = range(2,30)\n",
    "for k in K:\n",
    "    agg = AgglomerativeClustering(n_clusters=k)\n",
    "    cluster_labels=agg.fit_predict(scaled_data)\n",
    "    silhouette_avg = silhouette_score(scaled_data, cluster_labels)\n",
    "    sil_avg.append(silhouette_avg)\n",
    "    print(\"n_clusters =\", k, \"The average silhouette_score is : %.4f\" % silhouette_avg)\n",
    "\n",
    "\n",
    "plt.plot(range(1,len(sil_avg)+1), sil_avg, \"b.-\")\n",
    "plt.xlabel(\"Number of clusters k\")\n",
    "plt.ylabel(\"Average silhouette width \")\n",
    "plt.title(\"Optimal number of clusters\")\n",
    "plt.axvline( color='r', x=sil_avg.index(max(sil_avg))+1 )\n",
    "plt.show()    "
   ]
  },
  {
   "cell_type": "markdown",
   "metadata": {},
   "source": [
    "Just like k-means, this algorithm suggests many numbers of clusters, which will cause an overfitting problem. So, I decide to visualize."
   ]
  },
  {
   "cell_type": "code",
   "execution_count": 179,
   "metadata": {},
   "outputs": [
    {
     "data": {
      "image/png": "[encoded data removed]",
      "text/plain": [
       "<Figure size 1152x1152 with 9 Axes>"
      ]
     },
     "metadata": {
      "needs_background": "light"
     },
     "output_type": "display_data"
    }
   ],
   "source": [
    "rows=3\n",
    "columns=3\n",
    "f, axes = plt.subplots(rows,columns, figsize=(16, 16))\n",
    "count=2\n",
    "for i in range(rows):\n",
    "    for j in range(columns):\n",
    "        agg = AgglomerativeClustering(n_clusters=count)\n",
    "        df=pca_data[[\"pc1\",\"pc2\"]].copy()\n",
    "        df[\"clusters\"]=agg.fit_predict(scaled_data)\n",
    "        axes[i,j].scatter(df[\"pc1\"], df[\"pc2\"],c=df.clusters)      \n",
    "        axes[i,j].set_title( \"k= \" + str(count) )\n",
    "        axes[i,j].set_xlabel(\"pc1:\"+\"{:.2f}\".format(pca.explained_variance_ratio_[0]*100)+\" %\")\n",
    "        axes[i,j].set_ylabel(\"pc2:\"+\"{:.2f}\".format(pca.explained_variance_ratio_[1]*100)+\" %\")\n",
    "        count=count+1"
   ]
  },
  {
   "cell_type": "markdown",
   "metadata": {},
   "source": [
    "Here, k=7 seems the best as it group down below ones as a cluster and also upper ones as another cluster. However, 3 and 4 are also okay."
   ]
  },
  {
   "cell_type": "markdown",
   "metadata": {},
   "source": [
    "When we compare it with k-means clustering, we see that their clusters are somewhat similar but there are some differences. For example, middle part in k=3 differs a lot from k-means to agglomerative clustering."
   ]
  },
  {
   "cell_type": "markdown",
   "metadata": {},
   "source": [
    "<h3>Question 8</h3>"
   ]
  },
  {
   "cell_type": "markdown",
   "metadata": {},
   "source": [
    "First, I will apply PCA to original dataset."
   ]
  },
  {
   "cell_type": "code",
   "execution_count": 180,
   "metadata": {},
   "outputs": [
    {
     "name": "stdout",
     "output_type": "stream",
     "text": [
      "pca.explained variance ratio:\n",
      " [8.16787402e-01 1.80375398e-01 1.33983732e-03 1.09406629e-03\n",
      " 2.37782533e-04 1.65513765e-04]\n"
     ]
    }
   ],
   "source": [
    "pca = PCA()\n",
    "pca_data = pca.fit_transform(data)\n",
    "pca_data = pd.DataFrame(pca_data, columns=[\"pc1\",\"pc2\",\"pc3\",\"pc4\",\"pc5\",\"pc6\"])\n",
    "print(\"pca.explained variance ratio:\\n\", pca.explained_variance_ratio_)"
   ]
  },
  {
   "cell_type": "markdown",
   "metadata": {},
   "source": [
    "As we can see, first two components explain almost 99% of the variance, so 2 principal components will be used. Now, I will divide this data into train and test datasets."
   ]
  },
  {
   "cell_type": "code",
   "execution_count": 181,
   "metadata": {},
   "outputs": [
    {
     "data": {
      "text/html": [
       "<div>\n",
       "<style scoped>\n",
       "    .dataframe tbody tr th:only-of-type {\n",
       "        vertical-align: middle;\n",
       "    }\n",
       "\n",
       "    .dataframe tbody tr th {\n",
       "        vertical-align: top;\n",
       "    }\n",
       "\n",
       "    .dataframe thead th {\n",
       "        text-align: right;\n",
       "    }\n",
       "</style>\n",
       "<table border=\"1\" class=\"dataframe\">\n",
       "  <thead>\n",
       "    <tr style=\"text-align: right;\">\n",
       "      <th></th>\n",
       "      <th>pc1</th>\n",
       "      <th>pc2</th>\n",
       "      <th>y</th>\n",
       "    </tr>\n",
       "  </thead>\n",
       "  <tbody>\n",
       "    <tr>\n",
       "      <th>0</th>\n",
       "      <td>21.983396</td>\n",
       "      <td>-4.862196</td>\n",
       "      <td>0</td>\n",
       "    </tr>\n",
       "    <tr>\n",
       "      <th>1</th>\n",
       "      <td>-24.411332</td>\n",
       "      <td>-7.262891</td>\n",
       "      <td>3</td>\n",
       "    </tr>\n",
       "    <tr>\n",
       "      <th>2</th>\n",
       "      <td>3.425844</td>\n",
       "      <td>5.391150</td>\n",
       "      <td>0</td>\n",
       "    </tr>\n",
       "    <tr>\n",
       "      <th>3</th>\n",
       "      <td>-34.090747</td>\n",
       "      <td>6.026640</td>\n",
       "      <td>0</td>\n",
       "    </tr>\n",
       "    <tr>\n",
       "      <th>4</th>\n",
       "      <td>17.943132</td>\n",
       "      <td>14.338620</td>\n",
       "      <td>1</td>\n",
       "    </tr>\n",
       "  </tbody>\n",
       "</table>\n",
       "</div>"
      ],
      "text/plain": [
       "         pc1        pc2  y\n",
       "0  21.983396  -4.862196  0\n",
       "1 -24.411332  -7.262891  3\n",
       "2   3.425844   5.391150  0\n",
       "3 -34.090747   6.026640  0\n",
       "4  17.943132  14.338620  1"
      ]
     },
     "execution_count": 181,
     "metadata": {},
     "output_type": "execute_result"
    }
   ],
   "source": [
    "features = ['x1', 'x2', 'x3', 'x4', 'x5']\n",
    "x = data.loc[:, features].values\n",
    "y = data.loc[:,['y']].values\n",
    "pca = PCA(n_components=2)\n",
    "principalComponents = pca.fit_transform(x)\n",
    "principalDf = pd.DataFrame(data = principalComponents, columns = ['pc1', 'pc2'])\n",
    "pc = pd.concat([principalDf, data[['y']]], axis = 1)\n",
    "pc.head(5)"
   ]
  },
  {
   "cell_type": "markdown",
   "metadata": {},
   "source": [
    "Now, I can divide this dataset into train and test as I did in question 6."
   ]
  },
  {
   "cell_type": "code",
   "execution_count": 182,
   "metadata": {},
   "outputs": [],
   "source": [
    "pcx = pd.DataFrame(pc.iloc[:, :-1].values, columns = ['pc1','pc2'])\n",
    "pcy = pd.DataFrame(pc.iloc[:,-1].values, columns = ['y'])\n",
    "pcxtr, pcxts, pcytr, pcyts = train_test_split(pcx, pcy, test_size=0.2, random_state=123)"
   ]
  },
  {
   "cell_type": "markdown",
   "metadata": {},
   "source": [
    "Now, I will apply two classification model I have used in question 6."
   ]
  },
  {
   "cell_type": "markdown",
   "metadata": {},
   "source": [
    "<h4>Support Vector Machine</h4>"
   ]
  },
  {
   "cell_type": "markdown",
   "metadata": {},
   "source": [
    "First classification method I will be utilizing is support vector machine with linear kernel. C is chosen as 2 to make decision surface smooth and gamma is set to automatic. For each model, method is used. Results will be commented below."
   ]
  },
  {
   "cell_type": "code",
   "execution_count": 183,
   "metadata": {},
   "outputs": [
    {
     "name": "stdout",
     "output_type": "stream",
     "text": [
      "              precision    recall  f1-score   support\n",
      "\n",
      "           0       0.57      0.80      0.67        10\n",
      "           1       0.86      0.75      0.80        16\n",
      "           2       0.71      0.71      0.71         7\n",
      "           3       0.86      0.67      0.75         9\n",
      "\n",
      "    accuracy                           0.74        42\n",
      "   macro avg       0.75      0.73      0.73        42\n",
      "weighted avg       0.77      0.74      0.74        42\n",
      "\n"
     ]
    }
   ],
   "source": [
    "classifier = svm.SVC(kernel='linear',gamma='auto',C=2)\n",
    "classifier.fit(pcxtr, pcytr.values.ravel())\n",
    "pcy_predictsvm = classifier.predict(pcxts)\n",
    "print(classification_report(pcyts, pcy_predictsvm))"
   ]
  },
  {
   "cell_type": "markdown",
   "metadata": {},
   "source": [
    "<h4>Logistic Regression</h4>"
   ]
  },
  {
   "cell_type": "markdown",
   "metadata": {},
   "source": [
    "For my second classification method, I am applying logistic regression. To be similar with SVM, I am using C as 2. Solver will be liblinear as it supports both L1 and L2 regularization (in logistic regression, regularization is applied by default by Python). Random state is used for shuffling purposes. As in SVM, visualization methods are not very useful here, so I will not be using them."
   ]
  },
  {
   "cell_type": "code",
   "execution_count": 184,
   "metadata": {},
   "outputs": [
    {
     "name": "stdout",
     "output_type": "stream",
     "text": [
      "              precision    recall  f1-score   support\n",
      "\n",
      "           0       0.62      0.80      0.70        10\n",
      "           1       0.87      0.81      0.84        16\n",
      "           2       0.62      0.71      0.67         7\n",
      "           3       0.83      0.56      0.67         9\n",
      "\n",
      "    accuracy                           0.74        42\n",
      "   macro avg       0.74      0.72      0.72        42\n",
      "weighted avg       0.76      0.74      0.74        42\n",
      "\n"
     ]
    }
   ],
   "source": [
    "classifier = LogisticRegression(solver='liblinear', random_state=2, C=2)\n",
    "classifier.fit(pcxtr, pcytr.values.ravel())\n",
    "pcy_predictlr = classifier.predict(pcxts)\n",
    "print(classification_report(pcyts, pcy_predictlr))"
   ]
  },
  {
   "cell_type": "markdown",
   "metadata": {},
   "source": [
    "Now lets check how PCA affected classification results."
   ]
  },
  {
   "cell_type": "code",
   "execution_count": 185,
   "metadata": {},
   "outputs": [
    {
     "data": {
      "text/html": [
       "<table border=\"1\" class=\"dataframe\">\n",
       "  <thead>\n",
       "    <tr style=\"text-align: right;\">\n",
       "      <th>Variable</th>\n",
       "      <th>Precision</th>\n",
       "      <th>Recall</th>\n",
       "    </tr>\n",
       "  </thead>\n",
       "  <tbody>\n",
       "    <tr>\n",
       "      <td>svm_pca</td>\n",
       "      <td>0.77</td>\n",
       "      <td>0.74</td>\n",
       "    </tr>\n",
       "    <tr>\n",
       "      <td>svm_no_pca</td>\n",
       "      <td>0.75</td>\n",
       "      <td>0.74</td>\n",
       "    </tr>\n",
       "    <tr>\n",
       "      <td>lr_pca</td>\n",
       "      <td>0.76</td>\n",
       "      <td>0.74</td>\n",
       "    </tr>\n",
       "    <tr>\n",
       "      <td>lr_no_pca</td>\n",
       "      <td>0.83</td>\n",
       "      <td>0.79</td>\n",
       "    </tr>\n",
       "  </tbody>\n",
       "</table>"
      ],
      "text/plain": [
       "<IPython.core.display.HTML object>"
      ]
     },
     "execution_count": 185,
     "metadata": {},
     "output_type": "execute_result"
    }
   ],
   "source": [
    "variables = np.array(['svm_pca','svm_no_pca','lr_pca','lr_no_pca'])\n",
    "precision = np.array([0.77,0.75,0.76,0.83])\n",
    "recall = np.array([0.74,0.74,0.74,0.79])\n",
    "comparison_table2 = pd.DataFrame({'Variable':variables, 'Precision':precision, 'Recall':recall})\n",
    "HTML(comparison_table2.to_html(index=False))"
   ]
  },
  {
   "cell_type": "markdown",
   "metadata": {},
   "source": [
    "As we can see, we slightly improved performance of SVM, however, we have decreased the performance of logistic regression classification."
   ]
  },
  {
   "cell_type": "markdown",
   "metadata": {},
   "source": [
    "Finally, I will convert PCA dataset into a csv file."
   ]
  },
  {
   "cell_type": "code",
   "execution_count": 186,
   "metadata": {},
   "outputs": [],
   "source": [
    "pc.to_csv(r'C:\\Users\\Lenovo\\Desktop\\pc.csv')"
   ]
  }
 ],
 "metadata": {
  "kernelspec": {
   "display_name": "Python 3",
   "language": "python",
   "name": "python3"
  },
  "language_info": {
   "codemirror_mode": {
    "name": "ipython",
    "version": 3
   },
   "file_extension": ".py",
   "mimetype": "text/x-python",
   "name": "python",
   "nbconvert_exporter": "python",
   "pygments_lexer": "ipython3",
   "version": "3.7.0"
  }
 },
 "nbformat": 4,
 "nbformat_minor": 2
}
